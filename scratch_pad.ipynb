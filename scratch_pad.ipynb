{
 "cells": [
  {
   "cell_type": "code",
   "execution_count": 27,
   "metadata": {},
   "outputs": [],
   "source": [
    "width = 800\n",
    "height = 600\n",
    "pixels = list(range(width*height))"
   ]
  },
  {
   "cell_type": "code",
   "execution_count": 28,
   "metadata": {},
   "outputs": [],
   "source": [
    "recursions = 10"
   ]
  },
  {
   "cell_type": "code",
   "execution_count": 29,
   "metadata": {},
   "outputs": [
    {
     "name": "stdout",
     "output_type": "stream",
     "text": [
      "1  pixels:  480000\n",
      "2  pixels:  478601\n",
      "3  pixels:  477204\n",
      "4  pixels:  475809\n",
      "5  pixels:  474416\n",
      "6  pixels:  473025\n",
      "7  pixels:  471636\n",
      "8  pixels:  470249\n",
      "9  pixels:  468864\n",
      "10  pixels:  467481\n",
      "\n",
      "4737285\n"
     ]
    }
   ],
   "source": [
    "def calc_ttl_pixels(width, height):    \n",
    "    w = width\n",
    "    h = height\n",
    "    total_pixels = 0\n",
    "    for i in range(1,(recursions+1),1):    \n",
    "        total_pixels = total_pixels + (w*h)\n",
    "        print(i, ' pixels: ', (w*h))\n",
    "        w = w - 1\n",
    "        h = h - 1\n",
    "\n",
    "    \n",
    "print()\n",
    "print(total_pixels)"
   ]
  },
  {
   "cell_type": "code",
   "execution_count": null,
   "metadata": {},
   "outputs": [],
   "source": []
  }
 ],
 "metadata": {
  "kernelspec": {
   "display_name": "Python 3",
   "language": "python",
   "name": "python3"
  },
  "language_info": {
   "codemirror_mode": {
    "name": "ipython",
    "version": 3
   },
   "file_extension": ".py",
   "mimetype": "text/x-python",
   "name": "python",
   "nbconvert_exporter": "python",
   "pygments_lexer": "ipython3",
   "version": "3.7.1"
  }
 },
 "nbformat": 4,
 "nbformat_minor": 2
}
