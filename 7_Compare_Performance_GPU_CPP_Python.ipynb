{
 "cells": [
  {
   "cell_type": "markdown",
   "metadata": {},
   "source": [
    "# Comparison  -  GPU - C++ - Python"
   ]
  },
  {
   "cell_type": "markdown",
   "metadata": {},
   "source": [
    "### code from previous notebooks"
   ]
  },
  {
   "cell_type": "markdown",
   "metadata": {},
   "source": [
    "#### from http://localhost:8888/notebooks/1_Image_Metadata.ipynb"
   ]
  },
  {
   "cell_type": "code",
   "execution_count": 10,
   "metadata": {},
   "outputs": [],
   "source": [
    "from PIL import Image\n",
    "import ctypes\n",
    "from ctypes import *\n",
    "import numpy as np"
   ]
  },
  {
   "cell_type": "code",
   "execution_count": 11,
   "metadata": {},
   "outputs": [],
   "source": [
    "def image_meta(image_file):    \n",
    "    height = !identify -format '%h' {image_file}\n",
    "    height = int(height[0])\n",
    "    width = !identify -format '%w' {image_file}\n",
    "    width = int(width[0])\n",
    "    has_alpha_channel = !identify -format '%A' {image_file}\n",
    "    has_alpha_channel = has_alpha_channel[0]\n",
    "    channel_cnt = 3\n",
    "    if has_alpha_channel:\n",
    "        channel_cnt = 4\n",
    "    # only 3 channels, red, green, blue, no alpha\n",
    "    channel_size = width * height\n",
    "    \n",
    "    pixels = list(Image.open(image_file).getdata())\n",
    "    red = list()\n",
    "    green = list()\n",
    "    blue = list()\n",
    "    # will discard alpha channel\n",
    "    for quadruple in pixels:\n",
    "        red.append(quadruple[0])\n",
    "        green.append(quadruple[1])\n",
    "        blue.append(quadruple[2])\n",
    "    \n",
    "    return [height, width, red, green, blue]   "
   ]
  },
  {
   "cell_type": "code",
   "execution_count": 12,
   "metadata": {},
   "outputs": [],
   "source": [
    "def display_channel(pixels, width):\n",
    "    from PIL import Image\n",
    "    height = (int) (len(pixels)/width)\n",
    "    img = Image.new('L', (width, height))\n",
    "    img.putdata(pixels)\n",
    "    display(img)"
   ]
  },
  {
   "cell_type": "markdown",
   "metadata": {},
   "source": [
    "#### from http://localhost:8888/notebooks/2_Py_Convolution.ipynb"
   ]
  },
  {
   "cell_type": "code",
   "execution_count": 13,
   "metadata": {},
   "outputs": [],
   "source": [
    "def PY_apply_simple_kernel_func(mat, w, kernel_funct):\n",
    "    \n",
    "    # determine height\n",
    "    h=(int)(len(mat)/w)\n",
    "    \n",
    "    # list for convolution\n",
    "    new_image = list()\n",
    "    \n",
    "    # slide window over matrix\n",
    "    for i,g in enumerate(mat):\n",
    "    \n",
    "        # out of bounds?\n",
    "        if i >= (w*(h-1)): \n",
    "            break\n",
    "        if i!= 0 and (i+1) % w == 0:\n",
    "            continue\n",
    "        \n",
    "        # grab window of pixels\n",
    "        window = [mat[i], mat[(i+1)], mat[(i+w)], mat[(i+1+w)]]\n",
    "        \n",
    "        # apply function\n",
    "        output = kernel_funct(window)\n",
    "        \n",
    "        # round half to even\n",
    "        output = int(round(output))\n",
    "        \n",
    "        # add pixel to convolution\n",
    "        new_image.append(output)\n",
    "    return new_image"
   ]
  },
  {
   "cell_type": "code",
   "execution_count": 14,
   "metadata": {},
   "outputs": [],
   "source": [
    "# recursify the function\n",
    "def PY_recurse_pooling(mat, width, kernel_funct, recurse_cnt):\n",
    "    m = mat\n",
    "    w = width\n",
    "    for i in range(recurse_cnt):    \n",
    "        m = PY_apply_simple_kernel_func(m, w, kernel_funct)\n",
    "        w = w - 1\n",
    "    return m"
   ]
  },
  {
   "cell_type": "markdown",
   "metadata": {},
   "source": [
    "#### from http://localhost:8888/notebooks/3_CPP_Convolution.ipynb"
   ]
  },
  {
   "cell_type": "code",
   "execution_count": 15,
   "metadata": {},
   "outputs": [],
   "source": [
    "def native_recurse_pooling(mat, width, recurse_cnt, use_max, function_ptr):    \n",
    "    height = (int)(len(mat) / width)\n",
    "    # create pointer array\n",
    "    ptr_param = pointer((ctypes.c_int * len(mat))(*mat))\n",
    "\n",
    "    # calculate array size after function call\n",
    "    returned_height = height - recurse_cnt\n",
    "    returned_width  = width - recurse_cnt\n",
    "    returned_convolution_array_size = returned_height * returned_width\n",
    "    \n",
    "    # define return type of integer pointer array\n",
    "    function_ptr.restype = ctypes.POINTER(ctypes.c_int * (returned_convolution_array_size))\n",
    "    # conver boolean to int\n",
    "    f=0\n",
    "    if use_max:\n",
    "       f=1 \n",
    "    # actuall call to C++ code\n",
    "    ptr_array_convolution = function_ptr(ptr_param, width, height, recurse_cnt, f)\n",
    "    # convert int pointer array to Python list\n",
    "    ret_convo = np.ctypeslib.as_array( ptr_array_convolution.contents ,shape=(1,)).astype(int).tolist()\n",
    "    # return Python list of convolution pixels\n",
    "    return ret_convo"
   ]
  },
  {
   "cell_type": "markdown",
   "metadata": {},
   "source": [
    "## Let's compare the performance between C++ and Python"
   ]
  },
  {
   "cell_type": "code",
   "execution_count": 16,
   "metadata": {},
   "outputs": [
    {
     "name": "stdout",
     "output_type": "stream",
     "text": [
      "image height  :  600\n",
      "image width   :  800\n",
      "chanel size   :  480000\n",
      "total pixels  :  1440000\n"
     ]
    }
   ],
   "source": [
    "image_file = './imgs/green_911_turbo_86.jpeg'\n",
    "[height, width, red,green,blue] = image_meta(image_file)\n",
    "channel_size = height * width\n",
    "\n",
    "print('image height  : ', height)\n",
    "print('image width   : ', width)\n",
    "print('chanel size   : ', channel_size)\n",
    "print('total pixels  : ', channel_size * 3) # 3 channels"
   ]
  },
  {
   "cell_type": "markdown",
   "metadata": {},
   "source": [
    "### verify results visually"
   ]
  },
  {
   "cell_type": "code",
   "execution_count": 17,
   "metadata": {},
   "outputs": [
    {
     "ename": "NameError",
     "evalue": "name 'CPP_function_ptr' is not defined",
     "output_type": "error",
     "traceback": [
      "\u001b[0;31m---------------------------------------------------------------------------\u001b[0m",
      "\u001b[0;31mNameError\u001b[0m                                 Traceback (most recent call last)",
      "\u001b[0;32m<ipython-input-17-0e6a6f3d26d8>\u001b[0m in \u001b[0;36m<module>\u001b[0;34m\u001b[0m\n\u001b[1;32m      3\u001b[0m \u001b[0mGPU_pooling\u001b[0m \u001b[0;34m=\u001b[0m \u001b[0mcdll\u001b[0m\u001b[0;34m.\u001b[0m\u001b[0mLoadLibrary\u001b[0m\u001b[0;34m(\u001b[0m\u001b[0;34m'/home/will/cuda-workspace/simple_pooling/src/gpu.so'\u001b[0m\u001b[0;34m)\u001b[0m\u001b[0;34m.\u001b[0m\u001b[0mpooling\u001b[0m\u001b[0;34m\u001b[0m\u001b[0;34m\u001b[0m\u001b[0m\n\u001b[1;32m      4\u001b[0m \u001b[0;34m\u001b[0m\u001b[0m\n\u001b[0;32m----> 5\u001b[0;31m \u001b[0mdisplay_channel\u001b[0m\u001b[0;34m(\u001b[0m\u001b[0mnative_recurse_pooling\u001b[0m\u001b[0;34m(\u001b[0m\u001b[0mgreen\u001b[0m\u001b[0;34m,\u001b[0m \u001b[0mwidth\u001b[0m\u001b[0;34m,\u001b[0m \u001b[0mrecurse_cnt\u001b[0m\u001b[0;34m,\u001b[0m \u001b[0;32mFalse\u001b[0m\u001b[0;34m,\u001b[0m \u001b[0mCPP_function_ptr\u001b[0m\u001b[0;34m)\u001b[0m\u001b[0;34m,\u001b[0m \u001b[0mwidth\u001b[0m \u001b[0;34m-\u001b[0m \u001b[0;34m(\u001b[0m\u001b[0mrecurse_cnt\u001b[0m\u001b[0;34m)\u001b[0m\u001b[0;34m)\u001b[0m\u001b[0;34m\u001b[0m\u001b[0;34m\u001b[0m\u001b[0m\n\u001b[0m\u001b[1;32m      6\u001b[0m \u001b[0mdisplay_channel\u001b[0m\u001b[0;34m(\u001b[0m\u001b[0mnative_recurse_pooling\u001b[0m\u001b[0;34m(\u001b[0m\u001b[0mgreen\u001b[0m\u001b[0;34m,\u001b[0m \u001b[0mwidth\u001b[0m\u001b[0;34m,\u001b[0m \u001b[0mrecurse_cnt\u001b[0m\u001b[0;34m,\u001b[0m \u001b[0;32mFalse\u001b[0m\u001b[0;34m,\u001b[0m \u001b[0mGPU_pooling\u001b[0m\u001b[0;34m)\u001b[0m\u001b[0;34m,\u001b[0m \u001b[0mwidth\u001b[0m \u001b[0;34m-\u001b[0m \u001b[0;34m(\u001b[0m\u001b[0mrecurse_cnt\u001b[0m\u001b[0;34m)\u001b[0m\u001b[0;34m)\u001b[0m\u001b[0;34m\u001b[0m\u001b[0;34m\u001b[0m\u001b[0m\n\u001b[1;32m      7\u001b[0m \u001b[0mdisplay_channel\u001b[0m\u001b[0;34m(\u001b[0m\u001b[0mPY_recurse_pooling\u001b[0m \u001b[0;34m(\u001b[0m\u001b[0mgreen\u001b[0m\u001b[0;34m,\u001b[0m \u001b[0mwidth\u001b[0m\u001b[0;34m,\u001b[0m \u001b[0mnp\u001b[0m\u001b[0;34m.\u001b[0m\u001b[0mmean\u001b[0m\u001b[0;34m,\u001b[0m \u001b[0mrecurse_cnt\u001b[0m\u001b[0;34m)\u001b[0m\u001b[0;34m,\u001b[0m \u001b[0mwidth\u001b[0m \u001b[0;34m-\u001b[0m \u001b[0;34m(\u001b[0m\u001b[0mrecurse_cnt\u001b[0m\u001b[0;34m)\u001b[0m\u001b[0;34m)\u001b[0m\u001b[0;34m\u001b[0m\u001b[0;34m\u001b[0m\u001b[0m\n",
      "\u001b[0;31mNameError\u001b[0m: name 'CPP_function_ptr' is not defined"
     ]
    }
   ],
   "source": [
    "recurse_cnt = 1\n",
    "CPP_pooling = cdll.LoadLibrary('./cpp/cmake-build-debug/libconvolution.so').recurse_convolution\n",
    "GPU_pooling = cdll.LoadLibrary('/home/will/cuda-workspace/simple_pooling/src/gpu.so').pooling\n",
    "\n",
    "display_channel(native_recurse_pooling(green, width, recurse_cnt, False, CPP_function_ptr), width - (recurse_cnt))\n",
    "display_channel(native_recurse_pooling(green, width, recurse_cnt, False, GPU_pooling), width - (recurse_cnt))\n",
    "display_channel(PY_recurse_pooling (green, width, np.mean, recurse_cnt), width - (recurse_cnt))"
   ]
  },
  {
   "cell_type": "markdown",
   "metadata": {},
   "source": [
    "### let's test performance at different scales"
   ]
  },
  {
   "cell_type": "code",
   "execution_count": null,
   "metadata": {},
   "outputs": [],
   "source": [
    "import time\n",
    "\n",
    "print('mat_size\\t,\\trecurse_cnt,\\tcpp_time,\\tpy_time')\n",
    "\n",
    "for recurse_cnt in [1,5,10,15,20,25]:\n",
    "    \n",
    "    print(len(green),  end='', flush=True)\n",
    "    print('\\t\\t,\\t',   end='', flush=True)\n",
    "    \n",
    "    print(recurse_cnt, end='', flush=True)\n",
    "    print(',\\t\\t',   end='', flush=True)\n",
    "    \n",
    "    start = time.time()\n",
    "    c_conv = CPP_recurse_pooling(green, width, recurse_cnt, False)    \n",
    "    secs = round(time.time() - start,2)\n",
    "    print(secs, end='', flush=True)\n",
    "    print(',\\t\\t',   end='', flush=True)\n",
    "    \n",
    "    start = time.time()\n",
    "    p_conv = PY_recurse_pooling(green, width, np.mean, recurse_cnt)    \n",
    "    secs = round(time.time() - start,2)\n",
    "    print(secs, end='', flush=True)\n",
    "        \n",
    "    print()\n",
    "    \n",
    "    if recurse_cnt == 25:\n",
    "        display_channel(c_conv, width - (recurse_cnt))\n",
    "        display_channel(p_conv, width - (recurse_cnt))\n",
    "    "
   ]
  },
  {
   "cell_type": "code",
   "execution_count": null,
   "metadata": {},
   "outputs": [],
   "source": [
    "import time\n",
    "\n",
    "print('mat_size\\t,\\trecurse_cnt,\\tcpp_time,\\tpy_time')\n",
    "\n",
    "for recurse_cnt in [30, 40, 50]:\n",
    "        \n",
    "    print(len(green),  end='', flush=True)\n",
    "    print('\\t\\t,\\t',   end='', flush=True)\n",
    "    \n",
    "    print(recurse_cnt, end='', flush=True)\n",
    "    print(',\\t\\t',   end='', flush=True)\n",
    "    \n",
    "    start = time.time()\n",
    "    c_conv = CPP_recurse_pooling(green, width, recurse_cnt, False)    \n",
    "    secs = round(time.time() - start,2)\n",
    "    print(secs, end='', flush=True)\n",
    "    print(',\\t\\t',   end='', flush=True)\n",
    "    \n",
    "    start = time.time()\n",
    "    p_conv = PY_recurse_pooling(green, width, np.mean, recurse_cnt)    \n",
    "    secs = round(time.time() - start,2)\n",
    "    print(secs, end='', flush=True)\n",
    "        \n",
    "    print()\n",
    "    \n",
    "    if recurse_cnt == 50:\n",
    "        display_channel(c_conv, width - (recurse_cnt))\n",
    "        display_channel(p_conv, width - (recurse_cnt))\n"
   ]
  },
  {
   "cell_type": "code",
   "execution_count": null,
   "metadata": {},
   "outputs": [],
   "source": [
    "import time\n",
    "\n",
    "print('mat_size\\t,\\trecurse_cnt,\\tcpp_time,\\tpy_time')\n",
    "\n",
    "for recurse_cnt in [200]:\n",
    "        \n",
    "    print(len(green),  end='', flush=True)\n",
    "    print('\\t\\t,\\t',   end='', flush=True)\n",
    "    \n",
    "    print(recurse_cnt, end='', flush=True)\n",
    "    print(',\\t\\t',   end='', flush=True)        \n",
    "    \n",
    "    start = time.time()\n",
    "    c_conv = CPP_recurse_pooling(green, width, recurse_cnt, False)    \n",
    "    secs = round(time.time() - start,2)\n",
    "    print(secs, end='', flush=True)\n",
    "    print(',\\t\\t',   end='', flush=True)\n",
    "    \n",
    "    display_channel(c_conv, width - (recurse_cnt))\n",
    "    \n",
    "    start = time.time()\n",
    "    p_conv = PY_recurse_pooling(green, width, np.mean, recurse_cnt)    \n",
    "    secs = round(time.time() - start,2)\n",
    "    print(secs, end='', flush=True)\n",
    "        \n",
    "    print()\n",
    "    \n",
    "    display_channel(p_conv, width - (recurse_cnt))"
   ]
  },
  {
   "cell_type": "code",
   "execution_count": null,
   "metadata": {},
   "outputs": [],
   "source": []
  }
 ],
 "metadata": {
  "kernelspec": {
   "display_name": "Python 3",
   "language": "python",
   "name": "python3"
  },
  "language_info": {
   "codemirror_mode": {
    "name": "ipython",
    "version": 3
   },
   "file_extension": ".py",
   "mimetype": "text/x-python",
   "name": "python",
   "nbconvert_exporter": "python",
   "pygments_lexer": "ipython3",
   "version": "3.7.1"
  }
 },
 "nbformat": 4,
 "nbformat_minor": 2
}
