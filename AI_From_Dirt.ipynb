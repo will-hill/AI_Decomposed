{
 "cells": [
  {
   "cell_type": "markdown",
   "metadata": {
    "toc": true
   },
   "source": [
    "<h1>contents<span class=\"tocSkip\"></span></h1>\n",
    "<div class=\"toc\"><ul class=\"toc-item\"><li><span><a href=\"#passing-arrays-to-and-from-C++-lib\" data-toc-modified-id=\"passing-arrays-to-and-from-C++-lib-1\"><span class=\"toc-item-num\">1&nbsp;&nbsp;</span>passing arrays to and from C++ lib</a></span><ul class=\"toc-item\"><li><span><a href=\"#WORKING\" data-toc-modified-id=\"WORKING-1.1\"><span class=\"toc-item-num\">1.1&nbsp;&nbsp;</span>WORKING</a></span></li><li><span><a href=\"#back-to-python/numpy-array\" data-toc-modified-id=\"back-to-python/numpy-array-1.2\"><span class=\"toc-item-num\">1.2&nbsp;&nbsp;</span>back to python/numpy array</a></span></li></ul></li><li><span><a href=\"#start-with-C/C++\" data-toc-modified-id=\"start-with-C/C++-2\"><span class=\"toc-item-num\">2&nbsp;&nbsp;</span>start with C/C++</a></span></li><li><span><a href=\"#resize-an-image\" data-toc-modified-id=\"resize-an-image-3\"><span class=\"toc-item-num\">3&nbsp;&nbsp;</span>resize an image</a></span></li><li><span><a href=\"#determine-image-dimensions-and-channels\" data-toc-modified-id=\"determine-image-dimensions-and-channels-4\"><span class=\"toc-item-num\">4&nbsp;&nbsp;</span>determine image dimensions and channels</a></span></li><li><span><a href=\"#call-C++-code-from-Python\" data-toc-modified-id=\"call-C++-code-from-Python-5\"><span class=\"toc-item-num\">5&nbsp;&nbsp;</span>call C++ code from Python</a></span></li></ul></div>"
   ]
  },
  {
   "cell_type": "markdown",
   "metadata": {},
   "source": [
    "# Building AI from Dirt"
   ]
  },
  {
   "cell_type": "markdown",
   "metadata": {},
   "source": [
    "## passing arrays to and from C++ lib"
   ]
  },
  {
   "cell_type": "markdown",
   "metadata": {},
   "source": [
    "C++ code - will not run here"
   ]
  },
  {
   "cell_type": "code",
   "execution_count": null,
   "metadata": {},
   "outputs": [],
   "source": [
    "extern \"C\"\n",
    "int *reverse_array(const int *input_array, const int size) {\n",
    "    int *rev_array = new int[size];\n",
    "    for (int i = 0; i < size; i++) {\n",
    "        rev_array[size - i] = input_array[i];\n",
    "    }\n",
    "    return rev_array;\n",
    "}"
   ]
  },
  {
   "cell_type": "code",
   "execution_count": 2,
   "metadata": {},
   "outputs": [],
   "source": [
    "import numpy as np\n",
    "import ctypes\n",
    "from ctypes import *"
   ]
  },
  {
   "cell_type": "markdown",
   "metadata": {},
   "source": [
    "### WORKING"
   ]
  },
  {
   "cell_type": "code",
   "execution_count": 38,
   "metadata": {},
   "outputs": [],
   "source": [
    "primes = np.array([2,3,5,7,11])"
   ]
  },
  {
   "cell_type": "code",
   "execution_count": 39,
   "metadata": {},
   "outputs": [
    {
     "data": {
      "text/plain": [
       "(5,)"
      ]
     },
     "execution_count": 39,
     "metadata": {},
     "output_type": "execute_result"
    }
   ],
   "source": [
    "primes.shape"
   ]
  },
  {
   "cell_type": "code",
   "execution_count": 42,
   "metadata": {},
   "outputs": [
    {
     "data": {
      "text/plain": [
       "[2, 3, 5, 7, 11]"
      ]
     },
     "execution_count": 42,
     "metadata": {},
     "output_type": "execute_result"
    }
   ],
   "source": [
    "primes.tolist()"
   ]
  },
  {
   "cell_type": "code",
   "execution_count": 11,
   "metadata": {},
   "outputs": [],
   "source": [
    "ptr_primes = pointer((ctypes.c_int * 5)(*primes))"
   ]
  },
  {
   "cell_type": "code",
   "execution_count": 12,
   "metadata": {},
   "outputs": [],
   "source": [
    "reverse_array = cdll.LoadLibrary('./cmake-build-debug/libdirt_lib.dylib').reverse_array\n",
    "reverse_array.restype = ctypes.POINTER(ctypes.c_int * 5)\n",
    "result = reverse_array(p_a,5)"
   ]
  },
  {
   "cell_type": "code",
   "execution_count": 13,
   "metadata": {},
   "outputs": [
    {
     "name": "stdout",
     "output_type": "stream",
     "text": [
      "<__main__.c_int_Array_5 object at 0x103f70268>\n"
     ]
    }
   ],
   "source": [
    "print(result.contents)"
   ]
  },
  {
   "cell_type": "code",
   "execution_count": 14,
   "metadata": {},
   "outputs": [
    {
     "name": "stdout",
     "output_type": "stream",
     "text": [
      "11\n",
      "7\n",
      "5\n",
      "3\n",
      "2\n"
     ]
    }
   ],
   "source": [
    "for p in result.contents:\n",
    "    print(p)"
   ]
  },
  {
   "cell_type": "markdown",
   "metadata": {},
   "source": [
    "### back to python/numpy array"
   ]
  },
  {
   "cell_type": "code",
   "execution_count": 35,
   "metadata": {},
   "outputs": [
    {
     "data": {
      "text/plain": [
       "(5,)"
      ]
     },
     "execution_count": 35,
     "metadata": {},
     "output_type": "execute_result"
    }
   ],
   "source": [
    "primes.shape"
   ]
  },
  {
   "cell_type": "code",
   "execution_count": 54,
   "metadata": {},
   "outputs": [],
   "source": [
    "np_primes = np.ctypeslib.as_array(result,shape=(1,)).reshape(primes.shape)"
   ]
  },
  {
   "cell_type": "code",
   "execution_count": 55,
   "metadata": {},
   "outputs": [
    {
     "data": {
      "text/plain": [
       "(5,)"
      ]
     },
     "execution_count": 55,
     "metadata": {},
     "output_type": "execute_result"
    }
   ],
   "source": [
    "np_primes.shape"
   ]
  },
  {
   "cell_type": "code",
   "execution_count": 56,
   "metadata": {},
   "outputs": [
    {
     "data": {
      "text/plain": [
       "[11, 7, 5, 3, 2]"
      ]
     },
     "execution_count": 56,
     "metadata": {},
     "output_type": "execute_result"
    }
   ],
   "source": [
    "np_primes.tolist()"
   ]
  },
  {
   "cell_type": "markdown",
   "metadata": {},
   "source": [
    "## start with C/C++"
   ]
  },
  {
   "cell_type": "markdown",
   "metadata": {},
   "source": [
    "C++ code - will not run here"
   ]
  },
  {
   "cell_type": "code",
   "execution_count": null,
   "metadata": {},
   "outputs": [],
   "source": [
    "extern \"C\"\n",
    "int *split_channels(char *image_file_path) {\n",
    "    std::string pic_file(image_file_path);\n",
    "    cv::Mat mat = imread(pic_file, cv::IMREAD_COLOR); // Read the file .c_str()\n",
    "    std::vector<int> array(mat.rows * mat.cols);\n",
    "    if (mat.isContinuous()) {\n",
    "        array.assign(mat.datastart, mat.dataend);\n",
    "    }\n",
    "    int *raw_array = &array[0];\n",
    "    return raw_array;\n",
    "}"
   ]
  },
  {
   "cell_type": "markdown",
   "metadata": {},
   "source": [
    "## resize an image"
   ]
  },
  {
   "cell_type": "code",
   "execution_count": 82,
   "metadata": {},
   "outputs": [
    {
     "name": "stdout",
     "output_type": "stream",
     "text": [
      "/Users/Bhill/git/AI_From_Dirt/two.png\r\n",
      "  pixelHeight: 59\r\n",
      "  pixelWidth: 46\r\n"
     ]
    }
   ],
   "source": [
    "!sips -g pixelHeight -g pixelWidth /Users/Bhill/git/AI_From_Dirt/two.png"
   ]
  },
  {
   "cell_type": "markdown",
   "metadata": {},
   "source": [
    "![tow](two.png)"
   ]
  },
  {
   "cell_type": "code",
   "execution_count": 83,
   "metadata": {},
   "outputs": [
    {
     "name": "stdout",
     "output_type": "stream",
     "text": [
      "/Users/Bhill/git/AI_From_Dirt/two.10x10.png\r\n",
      "  /Users/Bhill/git/AI_From_Dirt/two.10x10.png\r\n"
     ]
    }
   ],
   "source": [
    "!cp two.png two.10x10.png ; sips -z 10 10 two.10x10.png"
   ]
  },
  {
   "cell_type": "markdown",
   "metadata": {},
   "source": [
    "![two](two.10x10.png)"
   ]
  },
  {
   "cell_type": "markdown",
   "metadata": {},
   "source": [
    "## determine image dimensions and channels"
   ]
  },
  {
   "cell_type": "code",
   "execution_count": 50,
   "metadata": {},
   "outputs": [
    {
     "name": "stdout",
     "output_type": "stream",
     "text": [
      "h =  10\n",
      "w =  10\n",
      "has 4th alpha channel?  True\n",
      "total dimesions:  4\n"
     ]
    }
   ],
   "source": [
    "h = !identify -format '%h' two.10x10.png\n",
    "h = int(h[0])\n",
    "print('h = ' , h)\n",
    "\n",
    "w = !identify -format '%w' two.10x10.png\n",
    "w = int(w[0])\n",
    "print('w = ' , w)\n",
    "\n",
    "channels = !identify -format '%[channels]' two.10x10.png\n",
    "has_alpha_channel = channels[0].endswith('a')\n",
    "print('has 4th alpha channel? ' , has_alpha_channel)\n",
    "\n",
    "dimension_count =  (3,4) [has_alpha_channel]\n",
    "print ('total dimesions: ', dimension_count)"
   ]
  },
  {
   "cell_type": "markdown",
   "metadata": {},
   "source": [
    "## call C++ code from Python\n",
    "**shared** lib from C++ / C, might have dylib extension\n",
    "**NOTE** you must put .encode() on strings passed to C++/C due to endian encoding\n",
    "explained in answer at https://stackoverflow.com/questions/52916077/calling-c-function-from-python"
   ]
  },
  {
   "cell_type": "code",
   "execution_count": 110,
   "metadata": {},
   "outputs": [
    {
     "name": "stdout",
     "output_type": "stream",
     "text": [
      "CMakeCache.txt      CTestTestfile.cmake ai_from_dirt.cbp\r\n",
      "\u001b[1m\u001b[36mCMakeFiles\u001b[m\u001b[m          Makefile            cmake_install.cmake\r\n"
     ]
    }
   ],
   "source": [
    "!ls cmake-build-debug/"
   ]
  },
  {
   "cell_type": "code",
   "execution_count": 56,
   "metadata": {},
   "outputs": [
    {
     "name": "stdout",
     "output_type": "stream",
     "text": [
      "<__main__.c_int_Array_300 object at 0x1060c1950>\n",
      "0  -  240\n",
      "1  -  237\n",
      "2  -  235\n",
      "3  -  255\n",
      "4  -  242\n",
      "5  -  241\n",
      "6  -  238\n",
      "7  -  255\n",
      "8  -  246\n",
      "9  -  243\n",
      "10  -  240\n",
      "11  -  255\n",
      "12  -  246\n",
      "13  -  244\n",
      "14  -  243\n",
      "15  -  255\n",
      "16  -  246\n",
      "17  -  246\n",
      "18  -  244\n",
      "19  -  255\n",
      "20  -  244\n",
      "21  -  247\n",
      "22  -  242\n",
      "23  -  255\n",
      "24  -  246\n",
      "25  -  248\n",
      "26  -  241\n",
      "27  -  255\n",
      "28  -  245\n",
      "29  -  244\n",
      "30  -  241\n",
      "31  -  255\n",
      "32  -  240\n",
      "33  -  238\n",
      "34  -  236\n",
      "35  -  255\n",
      "36  -  238\n",
      "37  -  237\n",
      "38  -  233\n",
      "39  -  255\n",
      "40  -  243\n",
      "41  -  242\n",
      "42  -  241\n",
      "43  -  255\n",
      "44  -  228\n",
      "45  -  237\n",
      "46  -  241\n",
      "47  -  255\n",
      "48  -  197\n",
      "49  -  223\n",
      "50  -  240\n",
      "51  -  255\n",
      "52  -  172\n",
      "53  -  214\n",
      "54  -  240\n",
      "55  -  255\n",
      "56  -  134\n",
      "57  -  185\n",
      "58  -  241\n",
      "59  -  255\n",
      "60  -  139\n",
      "61  -  141\n",
      "62  -  239\n",
      "63  -  255\n",
      "64  -  158\n",
      "65  -  140\n",
      "66  -  237\n",
      "67  -  255\n",
      "68  -  209\n",
      "69  -  215\n",
      "70  -  241\n",
      "71  -  255\n",
      "72  -  243\n",
      "73  -  243\n",
      "74  -  241\n",
      "75  -  255\n",
      "76  -  241\n",
      "77  -  242\n",
      "78  -  240\n",
      "79  -  255\n",
      "80  -  247\n",
      "81  -  246\n",
      "82  -  243\n",
      "83  -  255\n",
      "84  -  151\n",
      "85  -  201\n",
      "86  -  239\n",
      "87  -  255\n",
      "88  -  88\n",
      "89  -  138\n",
      "90  -  239\n",
      "91  -  255\n",
      "92  -  108\n",
      "93  -  135\n",
      "94  -  238\n",
      "95  -  255\n",
      "96  -  102\n",
      "97  -  74\n",
      "98  -  227\n",
      "99  -  255\n",
      "100  -  102\n",
      "101  -  29\n",
      "102  -  231\n",
      "103  -  255\n",
      "104  -  101\n",
      "105  -  50\n",
      "106  -  236\n",
      "107  -  255\n",
      "108  -  95\n",
      "109  -  71\n",
      "110  -  228\n",
      "111  -  255\n",
      "112  -  198\n",
      "113  -  182\n",
      "114  -  236\n",
      "115  -  255\n",
      "116  -  248\n",
      "117  -  250\n",
      "118  -  245\n",
      "119  -  255\n",
      "120  -  246\n",
      "121  -  245\n",
      "122  -  244\n",
      "123  -  255\n",
      "124  -  220\n",
      "125  -  229\n",
      "126  -  241\n",
      "127  -  255\n",
      "128  -  185\n",
      "129  -  192\n",
      "130  -  239\n",
      "131  -  255\n",
      "132  -  210\n",
      "133  -  213\n",
      "134  -  241\n",
      "135  -  255\n",
      "136  -  230\n",
      "137  -  220\n",
      "138  -  238\n",
      "139  -  255\n",
      "140  -  148\n",
      "141  -  106\n",
      "142  -  232\n",
      "143  -  255\n",
      "144  -  99\n",
      "145  -  61\n",
      "146  -  233\n",
      "147  -  255\n",
      "148  -  90\n",
      "149  -  39\n",
      "150  -  183\n",
      "151  -  255\n",
      "152  -  158\n",
      "153  -  109\n",
      "154  -  203\n",
      "155  -  255\n",
      "156  -  249\n",
      "157  -  251\n",
      "158  -  246\n",
      "159  -  255\n",
      "160  -  244\n",
      "161  -  244\n",
      "162  -  244\n",
      "163  -  255\n",
      "164  -  246\n",
      "165  -  245\n",
      "166  -  243\n",
      "167  -  255\n",
      "168  -  248\n",
      "169  -  247\n",
      "170  -  242\n",
      "171  -  255\n",
      "172  -  253\n",
      "173  -  250\n",
      "174  -  244\n",
      "175  -  255\n",
      "176  -  233\n",
      "177  -  234\n",
      "178  -  241\n",
      "179  -  255\n",
      "180  -  120\n",
      "181  -  105\n",
      "182  -  235\n",
      "183  -  255\n",
      "184  -  85\n",
      "185  -  46\n",
      "186  -  236\n",
      "187  -  255\n",
      "188  -  102\n",
      "189  -  12\n",
      "190  -  208\n",
      "191  -  255\n",
      "192  -  195\n",
      "193  -  152\n",
      "194  -  218\n",
      "195  -  255\n",
      "196  -  248\n",
      "197  -  251\n",
      "198  -  245\n",
      "199  -  255\n",
      "200  -  244\n",
      "201  -  244\n",
      "202  -  244\n",
      "203  -  255\n",
      "204  -  245\n",
      "205  -  244\n",
      "206  -  243\n",
      "207  -  255\n",
      "208  -  246\n",
      "209  -  244\n",
      "210  -  242\n",
      "211  -  255\n",
      "212  -  199\n",
      "213  -  223\n",
      "214  -  241\n",
      "215  -  255\n",
      "216  -  114\n",
      "217  -  167\n",
      "218  -  239\n",
      "219  -  255\n",
      "220  -  80\n",
      "221  -  67\n",
      "222  -  236\n",
      "223  -  255\n",
      "224  -  84\n",
      "225  -  26\n",
      "226  -  240\n",
      "227  -  255\n",
      "228  -  164\n",
      "229  -  122\n",
      "230  -  237\n",
      "231  -  255\n",
      "232  -  242\n",
      "233  -  241\n",
      "234  -  243\n",
      "235  -  255\n",
      "236  -  244\n",
      "237  -  245\n",
      "238  -  244\n",
      "239  -  255\n",
      "240  -  245\n",
      "241  -  244\n",
      "242  -  244\n",
      "243  -  255\n",
      "244  -  232\n",
      "245  -  241\n",
      "246  -  242\n",
      "247  -  255\n",
      "248  -  169\n",
      "249  -  215\n",
      "250  -  241\n",
      "251  -  255\n",
      "252  -  134\n",
      "253  -  198\n",
      "254  -  239\n",
      "255  -  255\n",
      "256  -  101\n",
      "257  -  140\n",
      "258  -  235\n",
      "259  -  255\n",
      "260  -  98\n",
      "261  -  70\n",
      "262  -  229\n",
      "263  -  255\n",
      "264  -  168\n",
      "265  -  128\n",
      "266  -  204\n",
      "267  -  255\n",
      "268  -  237\n",
      "269  -  223\n",
      "270  -  207\n",
      "271  -  255\n",
      "272  -  243\n",
      "273  -  241\n",
      "274  -  237\n",
      "275  -  255\n",
      "276  -  244\n",
      "277  -  244\n",
      "278  -  245\n",
      "279  -  255\n",
      "280  -  247\n",
      "281  -  246\n",
      "282  -  242\n",
      "283  -  255\n",
      "284  -  143\n",
      "285  -  159\n",
      "286  -  238\n",
      "287  -  255\n",
      "288  -  89\n",
      "289  -  121\n",
      "290  -  233\n",
      "291  -  255\n",
      "292  -  112\n",
      "293  -  112\n",
      "294  -  226\n",
      "295  -  255\n",
      "296  -  106\n",
      "297  -  82\n",
      "298  -  241\n",
      "299  -  255\n"
     ]
    }
   ],
   "source": [
    "import ctypes\n",
    "from ctypes import cdll\n",
    "\n",
    "split_channels = cdll.LoadLibrary('./cmake-build-debug/libdirt_lib.dylib').split_channels\n",
    "split_channels.restype = ctypes.POINTER(ctypes.c_int * 300)\n",
    "\n",
    "cpp_array = split_channels(\"/Users/Bhill/git/AI_From_Dirt/two.10x10.png\".encode())\n",
    "print (cpp_array.contents)\n",
    "i = 0\n",
    "for p in cpp_array.contents:\n",
    "    print(str(i), ' - ', str(p))\n",
    "    i = i + 1\n"
   ]
  },
  {
   "cell_type": "code",
   "execution_count": 61,
   "metadata": {},
   "outputs": [
    {
     "data": {
      "text/plain": [
       "array([[240, 237, 235],\n",
       "       [255, 242, 241],\n",
       "       [238, 255, 246],\n",
       "       [243, 240, 255],\n",
       "       [246, 244, 243],\n",
       "       [255, 246, 246],\n",
       "       [244, 255, 244],\n",
       "       [247, 242, 255],\n",
       "       [246, 248, 241],\n",
       "       [255, 245, 244]], dtype=int32)"
      ]
     },
     "execution_count": 61,
     "metadata": {},
     "output_type": "execute_result"
    }
   ],
   "source": [
    "import numpy as np\n",
    "from PIL import Image\n",
    "pixels = np.array(cpp_array.contents).reshape(10,10,3)\n",
    "pixels[0]"
   ]
  },
  {
   "cell_type": "code",
   "execution_count": 62,
   "metadata": {},
   "outputs": [],
   "source": [
    "mode = 'RGBA'\n",
    "img = Image.fromarray(pixels,mode)\n",
    "img.save(\"output.png\")"
   ]
  },
  {
   "cell_type": "code",
   "execution_count": 63,
   "metadata": {},
   "outputs": [
    {
     "name": "stdout",
     "output_type": "stream",
     "text": [
      "srgba\n",
      "two.10x10.png PNG 10x10 10x10+0+0 8-bit sRGB 1220B 0.000u 0:00.000\n",
      "srgba\n",
      "output.png PNG 10x10 10x10+0+0 8-bit sRGB 241B 0.000u 0:00.000\n"
     ]
    }
   ],
   "source": [
    "!identify -format '%[channels]\\n' two.10x10.png\n",
    "!identify two.10x10.png\n",
    "\n",
    "!identify -format '%[channels]\\n' output.png\n",
    "!identify output.png"
   ]
  },
  {
   "cell_type": "code",
   "execution_count": 64,
   "metadata": {},
   "outputs": [
    {
     "name": "stdout",
     "output_type": "stream",
     "text": [
      "h =  10\n",
      "w =  10\n",
      "has 4th alpha channel?  True\n",
      "total dimesions:  4\n"
     ]
    }
   ],
   "source": [
    "h = !identify -format '%h' two.10x10.png\n",
    "h = int(h[0])\n",
    "print('h = ' , h)\n",
    "\n",
    "w = !identify -format '%w' two.10x10.png\n",
    "w = int(w[0])\n",
    "print('w = ' , w)\n",
    "\n",
    "channels = !identify -format '%[channels]' two.10x10.png\n",
    "has_alpha_channel = channels[0].endswith('a')\n",
    "print('has 4th alpha channel? ' , has_alpha_channel)\n",
    "\n",
    "dimension_count =  (3,4) [has_alpha_channel]\n",
    "print ('total dimesions: ', dimension_count)"
   ]
  },
  {
   "cell_type": "markdown",
   "metadata": {},
   "source": [
    "![output](output.png)"
   ]
  },
  {
   "cell_type": "code",
   "execution_count": null,
   "metadata": {},
   "outputs": [],
   "source": []
  },
  {
   "cell_type": "code",
   "execution_count": null,
   "metadata": {},
   "outputs": [],
   "source": []
  },
  {
   "cell_type": "code",
   "execution_count": null,
   "metadata": {},
   "outputs": [],
   "source": []
  },
  {
   "cell_type": "code",
   "execution_count": null,
   "metadata": {},
   "outputs": [],
   "source": []
  },
  {
   "cell_type": "code",
   "execution_count": null,
   "metadata": {},
   "outputs": [],
   "source": []
  },
  {
   "cell_type": "code",
   "execution_count": null,
   "metadata": {},
   "outputs": [],
   "source": []
  }
 ],
 "metadata": {
  "kernelspec": {
   "display_name": "Python 3",
   "language": "python",
   "name": "python3"
  },
  "language_info": {
   "codemirror_mode": {
    "name": "ipython",
    "version": 3
   },
   "file_extension": ".py",
   "mimetype": "text/x-python",
   "name": "python",
   "nbconvert_exporter": "python",
   "pygments_lexer": "ipython3",
   "version": "3.7.2"
  },
  "toc": {
   "base_numbering": 1,
   "nav_menu": {},
   "number_sections": true,
   "sideBar": true,
   "skip_h1_title": true,
   "title_cell": "contents",
   "title_sidebar": "contents",
   "toc_cell": true,
   "toc_position": {},
   "toc_section_display": true,
   "toc_window_display": true
  }
 },
 "nbformat": 4,
 "nbformat_minor": 2
}
