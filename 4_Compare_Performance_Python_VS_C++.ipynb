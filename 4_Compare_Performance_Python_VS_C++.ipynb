{
 "cells": [
  {
   "cell_type": "markdown",
   "metadata": {},
   "source": [
    "<center><font size=\"19\" ><b>Python &nbsp; vs &nbsp; C++  &nbsp; &nbsp;&nbsp; </b></font></center>"
   ]
  },
  {
   "cell_type": "markdown",
   "metadata": {},
   "source": [
    "<img width='300' src='imgs/py_vs_cpp.svg' />"
   ]
  },
  {
   "cell_type": "markdown",
   "metadata": {},
   "source": [
    "![raw](./imgs/lambo.jpg)"
   ]
  },
  {
   "cell_type": "markdown",
   "metadata": {},
   "source": [
    "### code from previous notebooks"
   ]
  },
  {
   "cell_type": "code",
   "execution_count": 4,
   "metadata": {},
   "outputs": [],
   "source": [
    "from PIL import Image\n",
    "import ctypes\n",
    "from ctypes import *\n",
    "import numpy as np\n",
    "import time\n",
    "\n",
    "from AI_Decomposed import *\n",
    "CPP_recurse_convolution = cdll.LoadLibrary('./cpp/cmake-build-debug/libconvolution.so').recurse_convolution"
   ]
  },
  {
   "cell_type": "code",
   "execution_count": 5,
   "metadata": {},
   "outputs": [],
   "source": [
    "image_file = './imgs/lambo.jpg'\n",
    "[height, width, red,green,blue] = image_meta(image_file)"
   ]
  },
  {
   "cell_type": "markdown",
   "metadata": {},
   "source": [
    "### C++"
   ]
  },
  {
   "cell_type": "code",
   "execution_count": 16,
   "metadata": {},
   "outputs": [
    {
     "name": "stdout",
     "output_type": "stream",
     "text": [
      "seconds:  2.6742591857910156\n"
     ]
    }
   ],
   "source": [
    "import time\n",
    "\n",
    "recurse_cnt = 10\n",
    "\n",
    "start = time.time()\n",
    "# create reference to C++ fucntion\n",
    "cpp_function_ptr = cdll.LoadLibrary('./cpp/cmake-build-debug/libconvolution.so').recurse_convolution\n",
    "CPP_convolution = native_recurse_pooling(green, width, recurse_cnt, False, cpp_function_ptr)\n",
    "print ('seconds: ',time.time() - start)"
   ]
  },
  {
   "cell_type": "markdown",
   "metadata": {},
   "source": [
    "### Python"
   ]
  },
  {
   "cell_type": "code",
   "execution_count": 17,
   "metadata": {},
   "outputs": [
    {
     "name": "stdout",
     "output_type": "stream",
     "text": [
      "seconds:  136.86554217338562\n"
     ]
    }
   ],
   "source": [
    "start = time.time()\n",
    "PY_convolution = PY_recurse_pooling(green, width, np.mean, recurse_cnt)\n",
    "print ('seconds: ',time.time() - start)"
   ]
  },
  {
   "cell_type": "markdown",
   "metadata": {},
   "source": [
    "### verify pixel counts"
   ]
  },
  {
   "cell_type": "code",
   "execution_count": 12,
   "metadata": {},
   "outputs": [
    {
     "data": {
      "text/plain": [
       "817281"
      ]
     },
     "metadata": {},
     "output_type": "display_data"
    },
    {
     "data": {
      "text/plain": [
       "817281"
      ]
     },
     "metadata": {},
     "output_type": "display_data"
    }
   ],
   "source": [
    "display(len(CPP_convolution))\n",
    "display(len(PY_convolution))"
   ]
  },
  {
   "cell_type": "markdown",
   "metadata": {},
   "source": [
    "### visual verification"
   ]
  },
  {
   "cell_type": "code",
   "execution_count": 15,
   "metadata": {},
   "outputs": [
    {
     "ename": "TypeError",
     "evalue": "too many data entries",
     "output_type": "error",
     "traceback": [
      "\u001b[0;31m---------------------------------------------------------------------------\u001b[0m",
      "\u001b[0;31mTypeError\u001b[0m                                 Traceback (most recent call last)",
      "\u001b[0;32m<ipython-input-15-9ad674b5744a>\u001b[0m in \u001b[0;36m<module>\u001b[0;34m\u001b[0m\n\u001b[1;32m      1\u001b[0m \u001b[0mrecurse_cnt\u001b[0m \u001b[0;34m=\u001b[0m \u001b[0;36m10\u001b[0m\u001b[0;34m\u001b[0m\u001b[0;34m\u001b[0m\u001b[0m\n\u001b[0;32m----> 2\u001b[0;31m \u001b[0mdisplay_channel\u001b[0m\u001b[0;34m(\u001b[0m\u001b[0mCPP_convolution\u001b[0m\u001b[0;34m,\u001b[0m \u001b[0mwidth\u001b[0m \u001b[0;34m-\u001b[0m \u001b[0;34m(\u001b[0m\u001b[0mrecurse_cnt\u001b[0m\u001b[0;34m)\u001b[0m\u001b[0;34m)\u001b[0m\u001b[0;34m\u001b[0m\u001b[0;34m\u001b[0m\u001b[0m\n\u001b[0m\u001b[1;32m      3\u001b[0m \u001b[0mdisplay_channel\u001b[0m\u001b[0;34m(\u001b[0m\u001b[0mPY_convolution\u001b[0m\u001b[0;34m,\u001b[0m \u001b[0mwidth\u001b[0m \u001b[0;34m-\u001b[0m \u001b[0;34m(\u001b[0m\u001b[0mrecurse_cnt\u001b[0m\u001b[0;34m)\u001b[0m\u001b[0;34m)\u001b[0m\u001b[0;34m\u001b[0m\u001b[0;34m\u001b[0m\u001b[0m\n",
      "\u001b[0;32m~/git/AI_Decomposed/AI_Decomposed.py\u001b[0m in \u001b[0;36mdisplay_channel\u001b[0;34m(pixels, width)\u001b[0m\n\u001b[1;32m     34\u001b[0m     \u001b[0mheight\u001b[0m \u001b[0;34m=\u001b[0m \u001b[0;34m(\u001b[0m\u001b[0mint\u001b[0m\u001b[0;34m)\u001b[0m \u001b[0;34m(\u001b[0m\u001b[0mlen\u001b[0m\u001b[0;34m(\u001b[0m\u001b[0mpixels\u001b[0m\u001b[0;34m)\u001b[0m\u001b[0;34m/\u001b[0m\u001b[0mwidth\u001b[0m\u001b[0;34m)\u001b[0m\u001b[0;34m\u001b[0m\u001b[0;34m\u001b[0m\u001b[0m\n\u001b[1;32m     35\u001b[0m     \u001b[0mimg\u001b[0m \u001b[0;34m=\u001b[0m \u001b[0mImage\u001b[0m\u001b[0;34m.\u001b[0m\u001b[0mnew\u001b[0m\u001b[0;34m(\u001b[0m\u001b[0;34m'L'\u001b[0m\u001b[0;34m,\u001b[0m \u001b[0;34m(\u001b[0m\u001b[0mwidth\u001b[0m\u001b[0;34m,\u001b[0m \u001b[0mheight\u001b[0m\u001b[0;34m)\u001b[0m\u001b[0;34m)\u001b[0m\u001b[0;34m\u001b[0m\u001b[0;34m\u001b[0m\u001b[0m\n\u001b[0;32m---> 36\u001b[0;31m     \u001b[0mimg\u001b[0m\u001b[0;34m.\u001b[0m\u001b[0mputdata\u001b[0m\u001b[0;34m(\u001b[0m\u001b[0mpixels\u001b[0m\u001b[0;34m)\u001b[0m\u001b[0;34m\u001b[0m\u001b[0;34m\u001b[0m\u001b[0m\n\u001b[0m\u001b[1;32m     37\u001b[0m     \u001b[0mdisplay\u001b[0m\u001b[0;34m(\u001b[0m\u001b[0mimg\u001b[0m\u001b[0;34m)\u001b[0m\u001b[0;34m\u001b[0m\u001b[0;34m\u001b[0m\u001b[0m\n\u001b[1;32m     38\u001b[0m \u001b[0;34m\u001b[0m\u001b[0m\n",
      "\u001b[0;32m/opt/conda/lib/python3.6/site-packages/PIL/Image.py\u001b[0m in \u001b[0;36mputdata\u001b[0;34m(self, data, scale, offset)\u001b[0m\n\u001b[1;32m   1615\u001b[0m         \u001b[0mself\u001b[0m\u001b[0;34m.\u001b[0m\u001b[0m_ensure_mutable\u001b[0m\u001b[0;34m(\u001b[0m\u001b[0;34m)\u001b[0m\u001b[0;34m\u001b[0m\u001b[0;34m\u001b[0m\u001b[0m\n\u001b[1;32m   1616\u001b[0m \u001b[0;34m\u001b[0m\u001b[0m\n\u001b[0;32m-> 1617\u001b[0;31m         \u001b[0mself\u001b[0m\u001b[0;34m.\u001b[0m\u001b[0mim\u001b[0m\u001b[0;34m.\u001b[0m\u001b[0mputdata\u001b[0m\u001b[0;34m(\u001b[0m\u001b[0mdata\u001b[0m\u001b[0;34m,\u001b[0m \u001b[0mscale\u001b[0m\u001b[0;34m,\u001b[0m \u001b[0moffset\u001b[0m\u001b[0;34m)\u001b[0m\u001b[0;34m\u001b[0m\u001b[0;34m\u001b[0m\u001b[0m\n\u001b[0m\u001b[1;32m   1618\u001b[0m \u001b[0;34m\u001b[0m\u001b[0m\n\u001b[1;32m   1619\u001b[0m     \u001b[0;32mdef\u001b[0m \u001b[0mputpalette\u001b[0m\u001b[0;34m(\u001b[0m\u001b[0mself\u001b[0m\u001b[0;34m,\u001b[0m \u001b[0mdata\u001b[0m\u001b[0;34m,\u001b[0m \u001b[0mrawmode\u001b[0m\u001b[0;34m=\u001b[0m\u001b[0;34m\"RGB\"\u001b[0m\u001b[0;34m)\u001b[0m\u001b[0;34m:\u001b[0m\u001b[0;34m\u001b[0m\u001b[0;34m\u001b[0m\u001b[0m\n",
      "\u001b[0;31mTypeError\u001b[0m: too many data entries"
     ]
    }
   ],
   "source": [
    "recurse_cnt = 10\n",
    "display_channel(CPP_convolution, width - (recurse_cnt))\n",
    "display_channel(PY_convolution, width - (recurse_cnt))"
   ]
  },
  {
   "cell_type": "markdown",
   "metadata": {},
   "source": [
    "### performance at  scale"
   ]
  },
  {
   "cell_type": "code",
   "execution_count": 14,
   "metadata": {},
   "outputs": [],
   "source": [
    "def calc_ttl_pixels(width, height, recursions):    \n",
    "    w = width\n",
    "    h = height\n",
    "    total_pixels = 0\n",
    "    for i in range(1,(recursions+1),1):    \n",
    "        total_pixels = total_pixels + (w*h)\n",
    "        w = w - 1\n",
    "        h = h - 1\n",
    "    return total_pixels"
   ]
  },
  {
   "cell_type": "code",
   "execution_count": 92,
   "metadata": {},
   "outputs": [
    {
     "name": "stdout",
     "output_type": "stream",
     "text": [
      "timestamp,\trecurse_cnt,\tpxls,\tpxls calced,\tcpp_sec,\tcpp_per_sec,\tpy_sec,\tpy_per_sec\n",
      "20:01:58,\t1,\t\t819200,\t819200,\t\t0.36,\t\t2257791,\t13.65,\t60030\n",
      "20:02:12,\t5,\t\t819200,\t4076830,\t1.34,\t\t3037928,\t67.12,\t60736\n",
      "20:03:20,\t10,\t\t819200,\t8105885,\t2.59,\t\t3126285,\t133.27,\t60822\n",
      "20:05:36,\t20,\t\t819200,\t16021670,\t4.71,\t\t3398786,\t268.78,\t59609\n",
      "20:10:09,\t40,\t\t819200,\t31290940,\t8.65,\t\t3616718,\t500.83,\t62479\n",
      "20:18:39,\t80,\t\t819200,\t59636280,\t13.99,\t\t4262079,\t954.06,\t62508\n",
      "20:34:47,\t160,\t\t819200,\t108002160,\t25.47,\t\t4240475,\t1800.18,\t59995\n"
     ]
    }
   ],
   "source": [
    "import csv\n",
    "import time\n",
    "\n",
    "recursions = [1, 5, 10, 20, 40, 80, 160]\n",
    "\n",
    "print('timestamp,\\trecurse_cnt,\\tpxls,\\tpxls calced,\\tcpp_sec,\\tcpp_per_sec,\\tpy_sec,\\tpy_per_sec')\n",
    "\n",
    "cpp_function_ptr = cdll.LoadLibrary('./cpp/cmake-build-debug/libconvolution.so').recurse_convolution\n",
    "\n",
    "with open('./results/py_v_cpp.3.csv', mode='w') as py_v_cpp:\n",
    "    py_v_cpp_writer = csv.writer(py_v_cpp, delimiter=',', quotechar='\"', quoting=csv.QUOTE_MINIMAL)\n",
    "    py_v_cpp_writer.writerow(['time','recursion_count','image_size','pixels_calculated','cpp_seconds',\n",
    "                             'cpp_pixels_per_second','python_seconds','python_pixels_per_second'])\n",
    "    for recurse_cnt in recursions:\n",
    "\n",
    "        # timestamp\n",
    "        cur = time.time()\n",
    "        dt = datetime.datetime.fromtimestamp(cur).strftime('%H:%M:%S')\n",
    "        print(dt,   end='', flush=True)\n",
    "        print(',\\t',   end='', flush=True)\n",
    "        \n",
    "        # recurse cnt\n",
    "        print(recurse_cnt, end='', flush=True)\n",
    "        print(',\\t\\t',   end='', flush=True)\n",
    "        \n",
    "        # pxls\n",
    "        ttl = height*width    \n",
    "        print(ttl, end='', flush=True)\n",
    "        print(',\\t',   end='', flush=True)\n",
    "\n",
    "        # pxls calced\n",
    "        ttl_pixels_calced = calc_ttl_pixels(width, height, recurse_cnt)\n",
    "        print(ttl_pixels_calced, end='', flush=True)        \n",
    "        print(',\\t',   end='', flush=True)    \n",
    "        if recurse_cnt == 1:\n",
    "            print('\\t',   end='', flush=True)            \n",
    "\n",
    "        start = time.time()\n",
    "        cpp_conv = native_recurse_pooling(green, width, recurse_cnt, False, cpp_function_ptr)    \n",
    "        cpp_secs = time.time() - start   \n",
    "\n",
    "        # cpp time\n",
    "        print(round(cpp_secs,2), end='', flush=True)\n",
    "        print(',\\t\\t',   end='', flush=True)\n",
    "\n",
    "        # cpp pxls per sec\n",
    "        cpp_per_sec = ttl_pixels_calced/cpp_secs\n",
    "        print(round(cpp_per_sec), end='', flush=True)\n",
    "        print(',\\t',   end='', flush=True)\n",
    "\n",
    "        start = time.time()\n",
    "        py_conv = PY_recurse_pooling(green, width, np.mean, recurse_cnt)    \n",
    "        py_secs = time.time() - start\n",
    "\n",
    "        # py time\n",
    "        print(round(py_secs,2), end='', flush=True)\n",
    "        print(',\\t',   end='', flush=True)\n",
    "\n",
    "        #py pxls per sec\n",
    "        py_pxls_per_sec = ttl_pixels_calced/py_secs\n",
    "        print(round(py_pxls_per_sec), end='', flush=True)\n",
    "\n",
    "        print()    \n",
    "        py_v_cpp_writer.writerow([cur,recurse_cnt,ttl,ttl_pixels_calced,\n",
    "                                 cpp_secs,cpp_per_sec,py_secs,py_pxls_per_sec])    \n",
    "\n",
    "    py_v_cpp.flush()\n",
    "    py_v_cpp.close()"
   ]
  },
  {
   "cell_type": "code",
   "execution_count": 93,
   "metadata": {},
   "outputs": [],
   "source": [
    "import pandas as pd\n",
    "py_v_cpp_df = pd.read_csv(\"./results/py_v_cpp.3.csv\")"
   ]
  },
  {
   "cell_type": "code",
   "execution_count": 94,
   "metadata": {},
   "outputs": [
    {
     "data": {
      "text/html": [
       "<div>\n",
       "<style scoped>\n",
       "    .dataframe tbody tr th:only-of-type {\n",
       "        vertical-align: middle;\n",
       "    }\n",
       "\n",
       "    .dataframe tbody tr th {\n",
       "        vertical-align: top;\n",
       "    }\n",
       "\n",
       "    .dataframe thead th {\n",
       "        text-align: right;\n",
       "    }\n",
       "</style>\n",
       "<table border=\"1\" class=\"dataframe\">\n",
       "  <thead>\n",
       "    <tr style=\"text-align: right;\">\n",
       "      <th></th>\n",
       "      <th>time</th>\n",
       "      <th>recursion_count</th>\n",
       "      <th>image_size</th>\n",
       "      <th>pixels_calculated</th>\n",
       "      <th>cpp_seconds</th>\n",
       "      <th>cpp_pixels_per_second</th>\n",
       "      <th>python_seconds</th>\n",
       "      <th>python_pixels_per_second</th>\n",
       "    </tr>\n",
       "  </thead>\n",
       "  <tbody>\n",
       "    <tr>\n",
       "      <th>0</th>\n",
       "      <td>1.554336e+09</td>\n",
       "      <td>1</td>\n",
       "      <td>819200</td>\n",
       "      <td>819200</td>\n",
       "      <td>0.362833</td>\n",
       "      <td>2.257791e+06</td>\n",
       "      <td>13.646427</td>\n",
       "      <td>60030.366875</td>\n",
       "    </tr>\n",
       "    <tr>\n",
       "      <th>1</th>\n",
       "      <td>1.554336e+09</td>\n",
       "      <td>5</td>\n",
       "      <td>819200</td>\n",
       "      <td>4076830</td>\n",
       "      <td>1.341977</td>\n",
       "      <td>3.037928e+06</td>\n",
       "      <td>67.124298</td>\n",
       "      <td>60735.532455</td>\n",
       "    </tr>\n",
       "    <tr>\n",
       "      <th>2</th>\n",
       "      <td>1.554336e+09</td>\n",
       "      <td>10</td>\n",
       "      <td>819200</td>\n",
       "      <td>8105885</td>\n",
       "      <td>2.592817</td>\n",
       "      <td>3.126285e+06</td>\n",
       "      <td>133.272698</td>\n",
       "      <td>60821.797267</td>\n",
       "    </tr>\n",
       "    <tr>\n",
       "      <th>3</th>\n",
       "      <td>1.554336e+09</td>\n",
       "      <td>20</td>\n",
       "      <td>819200</td>\n",
       "      <td>16021670</td>\n",
       "      <td>4.713938</td>\n",
       "      <td>3.398786e+06</td>\n",
       "      <td>268.779000</td>\n",
       "      <td>59609.084086</td>\n",
       "    </tr>\n",
       "    <tr>\n",
       "      <th>4</th>\n",
       "      <td>1.554337e+09</td>\n",
       "      <td>40</td>\n",
       "      <td>819200</td>\n",
       "      <td>31290940</td>\n",
       "      <td>8.651751</td>\n",
       "      <td>3.616718e+06</td>\n",
       "      <td>500.826890</td>\n",
       "      <td>62478.554277</td>\n",
       "    </tr>\n",
       "    <tr>\n",
       "      <th>5</th>\n",
       "      <td>1.554337e+09</td>\n",
       "      <td>80</td>\n",
       "      <td>819200</td>\n",
       "      <td>59636280</td>\n",
       "      <td>13.992298</td>\n",
       "      <td>4.262079e+06</td>\n",
       "      <td>954.057458</td>\n",
       "      <td>62508.059153</td>\n",
       "    </tr>\n",
       "    <tr>\n",
       "      <th>6</th>\n",
       "      <td>1.554338e+09</td>\n",
       "      <td>160</td>\n",
       "      <td>819200</td>\n",
       "      <td>108002160</td>\n",
       "      <td>25.469354</td>\n",
       "      <td>4.240475e+06</td>\n",
       "      <td>1800.175304</td>\n",
       "      <td>59995.356996</td>\n",
       "    </tr>\n",
       "  </tbody>\n",
       "</table>\n",
       "</div>"
      ],
      "text/plain": [
       "           time  recursion_count  image_size  pixels_calculated  cpp_seconds  \\\n",
       "0  1.554336e+09                1      819200             819200     0.362833   \n",
       "1  1.554336e+09                5      819200            4076830     1.341977   \n",
       "2  1.554336e+09               10      819200            8105885     2.592817   \n",
       "3  1.554336e+09               20      819200           16021670     4.713938   \n",
       "4  1.554337e+09               40      819200           31290940     8.651751   \n",
       "5  1.554337e+09               80      819200           59636280    13.992298   \n",
       "6  1.554338e+09              160      819200          108002160    25.469354   \n",
       "\n",
       "   cpp_pixels_per_second  python_seconds  python_pixels_per_second  \n",
       "0           2.257791e+06       13.646427              60030.366875  \n",
       "1           3.037928e+06       67.124298              60735.532455  \n",
       "2           3.126285e+06      133.272698              60821.797267  \n",
       "3           3.398786e+06      268.779000              59609.084086  \n",
       "4           3.616718e+06      500.826890              62478.554277  \n",
       "5           4.262079e+06      954.057458              62508.059153  \n",
       "6           4.240475e+06     1800.175304              59995.356996  "
      ]
     },
     "execution_count": 94,
     "metadata": {},
     "output_type": "execute_result"
    }
   ],
   "source": [
    "py_v_cpp_df"
   ]
  },
  {
   "cell_type": "markdown",
   "metadata": {},
   "source": [
    "# NEXT - visualize results"
   ]
  },
  {
   "cell_type": "markdown",
   "metadata": {},
   "source": [
    "http://localhost:8888/notebooks/4_V_Visual_Comparison_Python_VS_C%2B%2B.ipynb"
   ]
  },
  {
   "cell_type": "markdown",
   "metadata": {},
   "source": [
    "<img src='imgs/bokeh_pandas.svg' width='300' />"
   ]
  },
  {
   "cell_type": "markdown",
   "metadata": {},
   "source": [
    "<img src='imgs/py_v_cpp.png' width='800' />"
   ]
  },
  {
   "cell_type": "code",
   "execution_count": null,
   "metadata": {},
   "outputs": [],
   "source": []
  }
 ],
 "metadata": {
  "kernelspec": {
   "display_name": "Python 3",
   "language": "python",
   "name": "python3"
  },
  "language_info": {
   "codemirror_mode": {
    "name": "ipython",
    "version": 3
   },
   "file_extension": ".py",
   "mimetype": "text/x-python",
   "name": "python",
   "nbconvert_exporter": "python",
   "pygments_lexer": "ipython3",
   "version": "3.6.8"
  }
 },
 "nbformat": 4,
 "nbformat_minor": 2
}
