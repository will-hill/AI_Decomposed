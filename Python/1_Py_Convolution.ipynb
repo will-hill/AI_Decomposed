{
 "cells": [
  {
   "cell_type": "markdown",
   "metadata": {},
   "source": [
    "<br/><center><font size=\"16\" ><b>Python Convolution</b></font></center>"
   ]
  },
  {
   "cell_type": "markdown",
   "metadata": {},
   "source": [
    "<img align=\"center\" src=\"../imgs/python.png\" width=\"200\"/>"
   ]
  },
  {
   "cell_type": "markdown",
   "metadata": {},
   "source": [
    "<img src='../imgs/cnn_steps_convolution.png' height='800'/>"
   ]
  },
  {
   "cell_type": "markdown",
   "metadata": {},
   "source": [
    "### 1975 VW Golf Rabbit \"Swallowtail\""
   ]
  },
  {
   "cell_type": "markdown",
   "metadata": {},
   "source": [
    "<table align=\"left\">\n",
    "    <tr align=\"center\">\n",
    "        <th>original</th>\n",
    "        <th>green channel</th>\n",
    "        <th>convolution</th>\n",
    "    </tr>\n",
    "<tr>\n",
    "    <td><img src='../imgs/green_golf.jpg' width='600'/></td>\n",
    "    <td><img src='../imgs/golf_green.png' width='600'/></td>\n",
    "    <td><img src='../imgs/golf_convo.png' width='600'/></td>\n",
    "    </tr>\n",
    "</table>\n"
   ]
  },
  {
   "cell_type": "markdown",
   "metadata": {},
   "source": [
    "# convolution\n",
    "basically, applying a kernel matrix to a larger matrix to create feature map, aka convolution  "
   ]
  },
  {
   "cell_type": "markdown",
   "metadata": {},
   "source": [
    "![edge](../imgs/convolution_edge_detect.png)"
   ]
  },
  {
   "cell_type": "markdown",
   "metadata": {},
   "source": [
    "http://timdettmers.com/2015/03/26/convolution-deep-learning/"
   ]
  },
  {
   "cell_type": "markdown",
   "metadata": {},
   "source": [
    "# kernel"
   ]
  },
  {
   "cell_type": "code",
   "execution_count": null,
   "metadata": {},
   "outputs": [],
   "source": [
    "kernel = np.array([[-1,-1,-1], [-1,8,-1], [-1,-1,-1]])\n",
    "kernel"
   ]
  },
  {
   "cell_type": "markdown",
   "metadata": {},
   "source": [
    "# applying kernel"
   ]
  },
  {
   "cell_type": "markdown",
   "metadata": {},
   "source": [
    "![animated](../imgs/animated_convolution.gif)"
   ]
  },
  {
   "cell_type": "markdown",
   "metadata": {},
   "source": [
    "http://deeplearning.net/software/theano_versions/dev/tutorial/conv_arithmetic.html"
   ]
  },
  {
   "cell_type": "markdown",
   "metadata": {},
   "source": [
    "# convolution w/OUT color channel extraction"
   ]
  },
  {
   "cell_type": "markdown",
   "metadata": {},
   "source": [
    "not that great"
   ]
  },
  {
   "cell_type": "code",
   "execution_count": null,
   "metadata": {},
   "outputs": [],
   "source": [
    "from PIL import Image\n",
    "convolution = list(np.concatenate(convolve(Image.open('../imgs/green_golf.jpg').getdata(), kernel)))\n",
    "img_2 = Image.new('L', (img.size[0],img.size[1]))\n",
    "img_2.putdata(convolution)\n",
    "display(img_2)"
   ]
  },
  {
   "cell_type": "markdown",
   "metadata": {},
   "source": [
    "# convolution WITH color channel extraction"
   ]
  },
  {
   "cell_type": "code",
   "execution_count": null,
   "metadata": {},
   "outputs": [],
   "source": [
    "from AI_Decomposed import *"
   ]
  },
  {
   "cell_type": "markdown",
   "metadata": {},
   "source": [
    "### gather metadata - height, width, channel count"
   ]
  },
  {
   "cell_type": "code",
   "execution_count": null,
   "metadata": {},
   "outputs": [],
   "source": [
    "image_file = '../imgs/green_golf.jpg'\n",
    "[height, width ,red, green, blue] = image_meta(image_file)"
   ]
  },
  {
   "cell_type": "markdown",
   "metadata": {},
   "source": [
    "### split out color channels"
   ]
  },
  {
   "cell_type": "markdown",
   "metadata": {},
   "source": [
    "<table align=\"left\">\n",
    "    <tr align=\"center\"><th>original</th><th>red channel</th><th>green channel</th><th>blue channel</th></tr>\n",
    "<tr>\n",
    "<td><img src=\"../imgs/green_golf.jpg\"/> </td>\n",
    "<td><img src=\"../imgs/red_golf.png\"/> </td>\n",
    "<td><img src=\"../imgs/green_golf.png\"/></td>\n",
    "<td><img src=\"../imgs/blue_golf.png\"/></td>\n",
    "</tr>\n",
    "</table>"
   ]
  },
  {
   "cell_type": "markdown",
   "metadata": {},
   "source": [
    "# raw image"
   ]
  },
  {
   "cell_type": "markdown",
   "metadata": {},
   "source": [
    "<img src='../imgs/green_golf.jpg' width='400'/>"
   ]
  },
  {
   "cell_type": "markdown",
   "metadata": {},
   "source": [
    "# python "
   ]
  },
  {
   "cell_type": "code",
   "execution_count": null,
   "metadata": {},
   "outputs": [],
   "source": [
    "def apply_kernel(window, filter, i, j):\n",
    "    sum = 0\n",
    "    for m in range(len(filter)):\n",
    "        for n in range(len(filter[m])):\n",
    "            sum = sum + ((window[i + m][j + n]) * (filter[m][n]))\n",
    "    return sum"
   ]
  },
  {
   "cell_type": "code",
   "execution_count": null,
   "metadata": {},
   "outputs": [],
   "source": [
    "def convolve(matrix, kernel):\n",
    "    convOut = []\n",
    "    for i in range(len(matrix) - ((len(kernel)) - 1)):\n",
    "        r = list()\n",
    "        for j in range(len(matrix[i]) - ((len(kernel)) - 1)):\n",
    "            r.append(apply_kernel(matrix, kernel, i, j))\n",
    "        convOut.append(r)\n",
    "    return convOut"
   ]
  },
  {
   "cell_type": "markdown",
   "metadata": {},
   "source": [
    "# but first, zero padding demo"
   ]
  },
  {
   "cell_type": "markdown",
   "metadata": {},
   "source": [
    "### In order to lose possible information near the edges of our images, we pad the border with zeroes so as the kernel window slides around our image, the edge pixels will be included in the center of our kernel."
   ]
  },
  {
   "cell_type": "code",
   "execution_count": null,
   "metadata": {},
   "outputs": [],
   "source": [
    "# create flat list\n",
    "sample = list(range(16))\n",
    "print(sample)\n",
    "print()\n",
    "\n",
    "# convert to matrix\n",
    "sample_matrix = np.asarray(sample).reshape(4,4)\n",
    "print(sample_matrix)\n",
    "print()\n",
    "\n",
    "# zero pad matrix\n",
    "sample_padded = np.pad(sample_matrix, 1, 'constant')\n",
    "print(sample_padded)"
   ]
  },
  {
   "cell_type": "markdown",
   "metadata": {},
   "source": [
    "# zero pad green channel"
   ]
  },
  {
   "cell_type": "code",
   "execution_count": null,
   "metadata": {},
   "outputs": [],
   "source": [
    "# convert to matrix\n",
    "green_array = np.asarray(green).reshape(height,width)\n",
    "# add zero pad border\n",
    "green_padded = np.pad(green_array, 1, 'constant')"
   ]
  },
  {
   "cell_type": "markdown",
   "metadata": {},
   "source": [
    "# perform convolution"
   ]
  },
  {
   "cell_type": "code",
   "execution_count": null,
   "metadata": {},
   "outputs": [],
   "source": [
    "import time\n",
    "start = time. time()\n",
    "green_convolved = convolve(green_padded, kernel)\n",
    "print(round(time.time() - start, 2), 'seconds to convolve ', (width* height),' pixel image')\n",
    "\n",
    "green_convolved_list = list(np.array(green_convolved).flat)\n",
    "display_channel(green_convolved_list, width)"
   ]
  },
  {
   "cell_type": "markdown",
   "metadata": {},
   "source": [
    "# NEXT -  Python Pooling"
   ]
  },
  {
   "cell_type": "markdown",
   "metadata": {},
   "source": [
    "http://localhost:8888/notebooks/Python/2_Py_Pooling.ipynb"
   ]
  },
  {
   "cell_type": "markdown",
   "metadata": {},
   "source": [
    "<table align=\"left\">\n",
    "    <tr align=\"center\"><th>original</th><th>green channel</th><th>convolution</th><th>pooling</th></tr>\n",
    "<tr>\n",
    "<td><img src=\"../imgs/porche_2.jpg\"/> </td>\n",
    "<td><img src=\"../imgs/green_porche.png\"/></td>\n",
    "<td><img src=\"../imgs/convoluted_porche.png\"/></td>\n",
    "<td><img src=\"../imgs/pooled_porche.png\"/></td>\n",
    "</tr>\n",
    "</table>\n"
   ]
  },
  {
   "cell_type": "code",
   "execution_count": null,
   "metadata": {},
   "outputs": [],
   "source": []
  }
 ],
 "metadata": {
  "kernelspec": {
   "display_name": "Python 3",
   "language": "python",
   "name": "python3"
  },
  "language_info": {
   "codemirror_mode": {
    "name": "ipython",
    "version": 3
   },
   "file_extension": ".py",
   "mimetype": "text/x-python",
   "name": "python",
   "nbconvert_exporter": "python",
   "pygments_lexer": "ipython3",
   "version": "3.7.2"
  },
  "toc": {
   "base_numbering": 1,
   "nav_menu": {},
   "number_sections": false,
   "sideBar": false,
   "skip_h1_title": false,
   "title_cell": "contents",
   "title_sidebar": "contents",
   "toc_cell": false,
   "toc_position": {},
   "toc_section_display": false,
   "toc_window_display": false
  }
 },
 "nbformat": 4,
 "nbformat_minor": 2
}
