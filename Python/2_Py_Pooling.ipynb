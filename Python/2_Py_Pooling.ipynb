{
 "cells": [
  {
   "cell_type": "markdown",
   "metadata": {},
   "source": [
    "<center><font size=\"16\" ><b>Python Pooling</b></font></center>"
   ]
  },
  {
   "cell_type": "markdown",
   "metadata": {},
   "source": [
    "<img align=\"center\" src=\"../imgs/python.png\" width=\"200\"/>"
   ]
  },
  {
   "cell_type": "markdown",
   "metadata": {},
   "source": [
    "<img src='../imgs/cnn_steps_pooling.png' height='800'/>"
   ]
  },
  {
   "cell_type": "markdown",
   "metadata": {},
   "source": [
    "### 1990 911 - 2180 lbs, 500 HP"
   ]
  },
  {
   "cell_type": "markdown",
   "metadata": {},
   "source": [
    "<table align=\"left\">\n",
    "    <tr align=\"center\"><th>original</th><th>green channel</th><th>convolution</th><th>pooling</th></tr>\n",
    "<tr>\n",
    "<td><img src=\"../imgs/porche_2.jpg\" /> </td>\n",
    "<td><img src=\"../imgs/green_porche.png\"/></td>\n",
    "<td><img src=\"../imgs/convoluted_porche.png\"/></td>\n",
    "<td><img src=\"../imgs/pooled_porche.png\"/></td>\n",
    "</tr>\n",
    "</table>\n"
   ]
  },
  {
   "cell_type": "code",
   "execution_count": null,
   "metadata": {},
   "outputs": [],
   "source": [
    "from AI_Decomposed import *"
   ]
  },
  {
   "cell_type": "markdown",
   "metadata": {},
   "source": [
    "# gather metadata - height, width, channel count"
   ]
  },
  {
   "cell_type": "code",
   "execution_count": null,
   "metadata": {},
   "outputs": [],
   "source": [
    "image_file = '../imgs/porche_2.jpg'\n",
    "[height, width ,red, green, blue] = image_meta(image_file)"
   ]
  },
  {
   "cell_type": "markdown",
   "metadata": {},
   "source": [
    "# pooling = data reduction\n",
    "basically, shrink the image to reduce computational load"
   ]
  },
  {
   "cell_type": "markdown",
   "metadata": {},
   "source": [
    "# channel dimensions"
   ]
  },
  {
   "cell_type": "code",
   "execution_count": null,
   "metadata": {},
   "outputs": [],
   "source": [
    "print('width: ', width, ' height: ', height)"
   ]
  },
  {
   "cell_type": "markdown",
   "metadata": {},
   "source": [
    "# Convolution"
   ]
  },
  {
   "cell_type": "code",
   "execution_count": null,
   "metadata": {},
   "outputs": [],
   "source": [
    "import time\n",
    "start = time. time()\n",
    "kernel = np.array([[-1,-1,-1], [-1,8,-1], [-1,-1,-1]])\n",
    "green_padded = np.pad(np.asarray(green).reshape(height,width), 1, 'constant')\n",
    "start = time.time()\n",
    "green_convolved = convolve(green_padded, kernel)\n",
    "print(round(time.time() - start, 2), 'seconds to convolve ', (width* height),' pixel image')\n",
    "green_convolved_list = list(np.array(green_convolved).flat)"
   ]
  },
  {
   "cell_type": "markdown",
   "metadata": {},
   "source": [
    "# Python Pooling Code"
   ]
  },
  {
   "cell_type": "code",
   "execution_count": null,
   "metadata": {},
   "outputs": [],
   "source": [
    "# credit https://stackoverflow.com/users/2005415/jason https://stackoverflow.com/questions/42463172\n",
    "def pooling(mat,ksize,method='max'):\n",
    "    '''Non-overlapping pooling on 2D or 3D data. <mat>: ndarray, input array to pool.\n",
    "    <ksize>: tuple of 2, kernel size in (ky, kx). <method>: str, 'max for max-pooling, 'mean' for mean-pooling.\n",
    "    Return <result>: pooled matrix.'''\n",
    "    m, n = mat.shape[:2]\n",
    "    ky,kx=ksize\n",
    "    _ceil=lambda x,y: int(np.ceil(x/float(y)))\n",
    "    ny=m//ky\n",
    "    nx=n//kx\n",
    "    mat_pad=mat[:ny*ky, :nx*kx, ...]\n",
    "    new_shape=(ny,ky,nx,kx)+mat.shape[2:]\n",
    "    if method=='max':\n",
    "        result=np.nanmax(mat_pad.reshape(new_shape),axis=(1,3))\n",
    "    else:\n",
    "        result=np.nanmean(mat_pad.reshape(new_shape),axis=(1,3))\n",
    "    return result"
   ]
  },
  {
   "cell_type": "markdown",
   "metadata": {},
   "source": [
    "# MAX Pooling "
   ]
  },
  {
   "cell_type": "markdown",
   "metadata": {},
   "source": [
    "<img src='../imgs/max_pooling.png' width='400' align='left' />"
   ]
  },
  {
   "cell_type": "code",
   "execution_count": null,
   "metadata": {},
   "outputs": [],
   "source": [
    "green_array = np.asarray(green_convolved_list).reshape(height,width)"
   ]
  },
  {
   "cell_type": "code",
   "execution_count": null,
   "metadata": {},
   "outputs": [],
   "source": [
    "green_pooled = pooling(green_array,ksize=(2,2))"
   ]
  },
  {
   "cell_type": "code",
   "execution_count": null,
   "metadata": {},
   "outputs": [],
   "source": [
    "print('width: ', green_pooled.shape[1], ' height: ', green_pooled.shape[0])"
   ]
  },
  {
   "cell_type": "code",
   "execution_count": null,
   "metadata": {},
   "outputs": [],
   "source": [
    "green_pooled_list = list(np.array(green_pooled).flat)\n",
    "display_channel(green_pooled_list, green_pooled.shape[1])"
   ]
  },
  {
   "cell_type": "markdown",
   "metadata": {},
   "source": [
    "# MAX Pooling - 3 x 5 window"
   ]
  },
  {
   "cell_type": "markdown",
   "metadata": {},
   "source": [
    "### Sometimes we have to resize and reshape images.  Usually this is done in the beginning to have all image be of the same dimension.  And eventually, we will have to flatten our image into a 1D list to feed into a neural network."
   ]
  },
  {
   "cell_type": "code",
   "execution_count": null,
   "metadata": {},
   "outputs": [],
   "source": [
    "green_array = np.asarray(green_convolved_list).reshape(height,width)\n",
    "\n",
    "green_pooled = pooling(green_array,ksize=(3,5))\n",
    "\n",
    "print('width: ', green_pooled.shape[1], ' height: ', green_pooled.shape[0])\n",
    "\n",
    "green_pooled_list = list(np.array(green_pooled).flat)\n",
    "display_channel(green_pooled_list, green_pooled.shape[1])"
   ]
  },
  {
   "cell_type": "markdown",
   "metadata": {},
   "source": [
    "# NEXT -  Python Neural Network"
   ]
  },
  {
   "cell_type": "markdown",
   "metadata": {},
   "source": [
    "http://localhost:8888/notebooks/Python/3_Python_Neural_Net.ipynb"
   ]
  },
  {
   "cell_type": "markdown",
   "metadata": {},
   "source": [
    "<img src='../imgs/bokeh_python_NN.png' width='600' />"
   ]
  }
 ],
 "metadata": {
  "kernelspec": {
   "display_name": "Python 3",
   "language": "python",
   "name": "python3"
  },
  "language_info": {
   "codemirror_mode": {
    "name": "ipython",
    "version": 3
   },
   "file_extension": ".py",
   "mimetype": "text/x-python",
   "name": "python",
   "nbconvert_exporter": "python",
   "pygments_lexer": "ipython3",
   "version": "3.7.2"
  },
  "toc": {
   "base_numbering": 1,
   "nav_menu": {},
   "number_sections": false,
   "sideBar": false,
   "skip_h1_title": false,
   "title_cell": "contents",
   "title_sidebar": "contents",
   "toc_cell": false,
   "toc_position": {},
   "toc_section_display": false,
   "toc_window_display": false
  }
 },
 "nbformat": 4,
 "nbformat_minor": 2
}
