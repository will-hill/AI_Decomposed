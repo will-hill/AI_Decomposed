{
 "cells": [
  {
   "cell_type": "markdown",
   "metadata": {
    "colab_type": "text",
    "id": "xHxb-dlhMIzW"
   },
   "source": [
    "The `tf.layers` module provides a high-level API that makes\n",
    "it easy to construct a neural network. It provides methods that facilitate the\n",
    "creation of dense (fully connected) layers and convolutional layers, adding\n",
    "activation functions, and applying dropout regularization. In this tutorial,\n",
    "you'll learn how to use `layers` to build a convolutional neural network model\n",
    "to recognize the handwritten digits in the MNIST data set.\n",
    "\n",
    "![handwritten digits 0–9 from the MNIST data set](https://www.tensorflow.org/images/mnist_0-9.png)\n",
    "\n",
    "The [MNIST dataset](http://yann.lecun.com/exdb/mnist/) comprises 60,000\n",
    "training examples and 10,000 test examples of the handwritten digits 0–9,\n",
    "formatted as 28x28-pixel monochrome images."
   ]
  },
  {
   "cell_type": "markdown",
   "metadata": {
    "colab_type": "text",
    "id": "wTe-6uXpP2Ts"
   },
   "source": [
    "## Get Started\n",
    "\n",
    "Let's set up the imports for our TensorFlow program:"
   ]
  },
  {
   "cell_type": "code",
   "execution_count": 1,
   "metadata": {
    "colab": {},
    "colab_type": "code",
    "id": "6-tpguHLP6Rm"
   },
   "outputs": [],
   "source": [
    "from __future__ import absolute_import, division, print_function, unicode_literals\n",
    "\n",
    "import tensorflow as tf\n",
    "import numpy as np\n",
    "\n",
    "tf.logging.set_verbosity(tf.logging.INFO)"
   ]
  },
  {
   "cell_type": "markdown",
   "metadata": {
    "colab_type": "text",
    "id": "bUxWLCdTQexM"
   },
   "source": [
    "As you work through the tutorial, you'll add code to construct, train, and\n",
    "evaluate the convolutional neural network. The complete, final code can be\n",
    "[found here](https://www.tensorflow.org/code/tensorflow/examples/tutorials/layers/cnn_mnist.py)."
   ]
  },
  {
   "cell_type": "markdown",
   "metadata": {
    "colab_type": "text",
    "id": "4j5yyyDFQgSB"
   },
   "source": [
    "## Intro to Convolutional Neural Networks\n",
    "\n",
    "Convolutional neural networks (CNNs) are the current state-of-the-art model\n",
    "architecture for image classification tasks. CNNs apply a series of filters to\n",
    "the raw pixel data of an image to extract and learn higher-level features, which\n",
    "the model can then use for classification. CNNs contains three components:\n",
    "\n",
    "*   **Convolutional layers**, which apply a specified number of convolution\n",
    "    filters to the image. For each subregion, the layer performs a set of\n",
    "    mathematical operations to produce a single value in the output feature map.\n",
    "    Convolutional layers then typically apply a\n",
    "    [ReLU activation function](https://en.wikipedia.org/wiki/Rectifier_\\(neural_networks\\)) to\n",
    "    the output to introduce nonlinearities into the model.\n",
    "\n",
    "*   **Pooling layers**, which\n",
    "    [downsample the image data](https://en.wikipedia.org/wiki/Convolutional_neural_network#Pooling_layer)\n",
    "    extracted by the convolutional layers to reduce the dimensionality of the\n",
    "    feature map in order to decrease processing time. A commonly used pooling\n",
    "    algorithm is max pooling, which extracts subregions of the feature map\n",
    "    (e.g., 2x2-pixel tiles), keeps their maximum value, and discards all other\n",
    "    values.\n",
    "\n",
    "*   **Dense (fully connected) layers**, which perform classification on the\n",
    "    features extracted by the convolutional layers and downsampled by the\n",
    "    pooling layers. In a dense layer, every node in the layer is connected to\n",
    "    every node in the preceding layer.\n",
    "\n",
    "Typically, a CNN is composed of a stack of convolutional modules that perform\n",
    "feature extraction. Each module consists of a convolutional layer followed by a\n",
    "pooling layer. The last convolutional module is followed by one or more dense\n",
    "layers that perform classification. The final dense layer in a CNN contains a\n",
    "single node for each target class in the model (all the possible classes the\n",
    "model may predict), with a\n",
    "[softmax](https://en.wikipedia.org/wiki/Softmax_function) activation function to\n",
    "generate a value between 0–1 for each node (the sum of all these softmax values\n",
    "is equal to 1). We can interpret the softmax values for a given image as\n",
    "relative measurements of how likely it is that the image falls into each target\n",
    "class.\n",
    "\n",
    "Note: For a more comprehensive walkthrough of CNN architecture, see Stanford University's [Convolutional Neural Networks for Visual Recognition course material](https://cs231n.github.io/convolutional-networks/)."
   ]
  },
  {
   "cell_type": "markdown",
   "metadata": {
    "colab_type": "text",
    "id": "j23E_Z0FQvZB"
   },
   "source": [
    "## Building the CNN MNIST Classifier\n",
    "\n",
    "Let's build a model to classify the images in the MNIST dataset using the\n",
    "following CNN architecture:\n",
    "\n",
    "1.  **Convolutional Layer #1**: Applies 32 5x5 filters (extracting 5x5-pixel\n",
    "    subregions), with ReLU activation function\n",
    "2.  **Pooling Layer #1**: Performs max pooling with a 2x2 filter and stride of 2\n",
    "    (which specifies that pooled regions do not overlap)\n",
    "3.  **Convolutional Layer #2**: Applies 64 5x5 filters, with ReLU activation\n",
    "    function\n",
    "4.  **Pooling Layer #2**: Again, performs max pooling with a 2x2 filter and\n",
    "    stride of 2\n",
    "5.  **Dense Layer #1**: 1,024 neurons, with dropout regularization rate of 0.4\n",
    "    (probability of 0.4 that any given element will be dropped during training)\n",
    "6.  **Dense Layer #2 (Logits Layer)**: 10 neurons, one for each digit target\n",
    "    class (0–9).\n",
    "\n",
    "The `tf.layers` module contains methods to create each of the three layer types\n",
    "above:\n",
    "\n",
    "*   `conv2d()`. Constructs a two-dimensional convolutional layer. Takes number\n",
    "    of filters, filter kernel size, padding, and activation function as\n",
    "    arguments.\n",
    "*   `max_pooling2d()`. Constructs a two-dimensional pooling layer using the\n",
    "    max-pooling algorithm. Takes pooling filter size and stride as arguments.\n",
    "*   `dense()`. Constructs a dense layer. Takes number of neurons and activation\n",
    "    function as arguments.\n",
    "\n",
    "Each of these methods accepts a tensor as input and returns a transformed tensor\n",
    "as output. This makes it easy to connect one layer to another: just take the\n",
    "output from one layer-creation method and supply it as input to another.\n",
    "\n",
    "Add the following `cnn_model_fn` function, which\n",
    "conforms to the interface expected by TensorFlow's Estimator API (more on this\n",
    "later in [Create the Estimator](#create-the-estimator)). This function takes\n",
    "MNIST feature data, labels, and mode (from\n",
    "`tf.estimator.ModeKeys`: `TRAIN`, `EVAL`, `PREDICT`) as arguments;\n",
    "configures the CNN; and returns predictions, loss, and a training operation:"
   ]
  },
  {
   "cell_type": "code",
   "execution_count": 2,
   "metadata": {
    "colab": {},
    "colab_type": "code",
    "id": "gMR-_3rkRKPa"
   },
   "outputs": [],
   "source": [
    "def cnn_model_fn(features, labels, mode):\n",
    "  \"\"\"Model function for CNN.\"\"\"\n",
    "  # Input Layer\n",
    "  input_layer = tf.reshape(features[\"x\"], [-1, 28, 28, 1])\n",
    "\n",
    "  # Convolutional Layer #1\n",
    "  conv1 = tf.layers.conv2d(\n",
    "      inputs=input_layer,\n",
    "      filters=32,\n",
    "      kernel_size=[5, 5],\n",
    "      padding=\"same\",\n",
    "      activation=tf.nn.relu)\n",
    "\n",
    "  # Pooling Layer #1\n",
    "  pool1 = tf.layers.max_pooling2d(inputs=conv1, pool_size=[2, 2], strides=2)\n",
    "\n",
    "  # Convolutional Layer #2 and Pooling Layer #2\n",
    "  conv2 = tf.layers.conv2d(\n",
    "      inputs=pool1,\n",
    "      filters=64,\n",
    "      kernel_size=[5, 5],\n",
    "      padding=\"same\",\n",
    "      activation=tf.nn.relu)\n",
    "  pool2 = tf.layers.max_pooling2d(inputs=conv2, pool_size=[2, 2], strides=2)\n",
    "\n",
    "  # Dense Layer\n",
    "  pool2_flat = tf.reshape(pool2, [-1, 7 * 7 * 64])\n",
    "  dense = tf.layers.dense(inputs=pool2_flat, units=1024, activation=tf.nn.relu)\n",
    "  dropout = tf.layers.dropout(\n",
    "      inputs=dense, rate=0.4, training=mode == tf.estimator.ModeKeys.TRAIN)\n",
    "\n",
    "  # Logits Layer\n",
    "  logits = tf.layers.dense(inputs=dropout, units=10)\n",
    "\n",
    "  predictions = {\n",
    "      # Generate predictions (for PREDICT and EVAL mode)\n",
    "      \"classes\": tf.argmax(input=logits, axis=1),\n",
    "      # Add `softmax_tensor` to the graph. It is used for PREDICT and by the\n",
    "      # `logging_hook`.\n",
    "      \"probabilities\": tf.nn.softmax(logits, name=\"softmax_tensor\")\n",
    "  }\n",
    "\n",
    "  if mode == tf.estimator.ModeKeys.PREDICT:\n",
    "    return tf.estimator.EstimatorSpec(mode=mode, predictions=predictions)\n",
    "\n",
    "  # Calculate Loss (for both TRAIN and EVAL modes)\n",
    "  loss = tf.losses.sparse_softmax_cross_entropy(labels=labels, logits=logits)\n",
    "\n",
    "  # Configure the Training Op (for TRAIN mode)\n",
    "  if mode == tf.estimator.ModeKeys.TRAIN:\n",
    "    optimizer = tf.train.GradientDescentOptimizer(learning_rate=0.001)\n",
    "    train_op = optimizer.minimize(\n",
    "        loss=loss,\n",
    "        global_step=tf.train.get_global_step())\n",
    "    return tf.estimator.EstimatorSpec(mode=mode, loss=loss, train_op=train_op)\n",
    "\n",
    "  # Add evaluation metrics (for EVAL mode)\n",
    "  eval_metric_ops = {\n",
    "      \"accuracy\": tf.metrics.accuracy(\n",
    "          labels=labels, predictions=predictions[\"classes\"])\n",
    "  }\n",
    "  return tf.estimator.EstimatorSpec(\n",
    "      mode=mode, loss=loss, eval_metric_ops=eval_metric_ops)"
   ]
  },
  {
   "cell_type": "markdown",
   "metadata": {
    "colab_type": "text",
    "id": "b7z8qC9FRSLB"
   },
   "source": [
    "The following sections (with headings corresponding to each code block above)\n",
    "dive deeper into the `tf.layers` code used to create each layer, as well as how\n",
    "to calculate loss, configure the training op, and generate predictions. If\n",
    "you're already experienced with CNNs and [TensorFlow `Estimator`s](../../guide/custom_estimators.md),\n",
    "and find the above code intuitive, you may want to skim these sections or just\n",
    "skip ahead to [\"Training and Evaluating the CNN MNIST Classifier\"](#train_eval_mnist)."
   ]
  },
  {
   "cell_type": "markdown",
   "metadata": {
    "colab_type": "text",
    "id": "sFBXEYRlRUWu"
   },
   "source": [
    "### Input Layer\n",
    "\n",
    "The methods in the `layers` module for creating convolutional and pooling layers\n",
    "for two-dimensional image data expect input tensors to have a shape of\n",
    "<code>[<em>batch_size</em>, <em>image_height</em>, <em>image_width</em>,\n",
    "<em>channels</em>]</code> by default. This behavior can be changed using the\n",
    "<code><em>data_format</em></code> parameter; defined as follows:\n",
    "\n",
    "*   `batch_size` —Size of the subset of examples to use when performing\n",
    "    gradient descent during training.\n",
    "*   `image_height` —Height of the example images.\n",
    "*   `image_width` —Width of the example images.\n",
    "*   `channels` —Number of color channels in the example images. For color\n",
    "    images, the number of channels is 3 (red, green, blue). For monochrome\n",
    "    images, there is just 1 channel (black).\n",
    "*   `data_format` —A string, one of `channels_last` (default) or `channels_first`.\n",
    "      `channels_last` corresponds to inputs with shape\n",
    "      `(batch, ..., channels)` while `channels_first` corresponds to\n",
    "      inputs with shape `(batch, channels, ...)`.\n",
    "\n",
    "Here, our MNIST dataset is composed of monochrome 28x28 pixel images, so the\n",
    "desired shape for our input layer is <code>[<em>batch_size</em>, 28, 28,\n",
    "1]</code>.\n",
    "\n",
    "To convert our input feature map (`features`) to this shape, we can perform the\n",
    "following `reshape` operation:\n",
    "\n",
    "```\n",
    "input_layer = tf.reshape(features[\"x\"], [-1, 28, 28, 1])\n",
    "```\n",
    "\n",
    "Note that we've indicated `-1` for batch size, which specifies that this\n",
    "dimension should be dynamically computed based on the number of input values in\n",
    "`features[\"x\"]`, holding the size of all other dimensions constant. This allows\n",
    "us to treat `batch_size` as a hyperparameter that we can tune. For example, if\n",
    "we feed examples into our model in batches of 5, `features[\"x\"]` will contain\n",
    "3,920 values (one value for each pixel in each image), and `input_layer` will\n",
    "have a shape of `[5, 28, 28, 1]`. Similarly, if we feed examples in batches of\n",
    "100, `features[\"x\"]` will contain 78,400 values, and `input_layer` will have a\n",
    "shape of `[100, 28, 28, 1]`."
   ]
  },
  {
   "cell_type": "markdown",
   "metadata": {
    "colab_type": "text",
    "id": "iU8Jr1_JRiKA"
   },
   "source": [
    "### Convolutional Layer #1\n",
    "\n",
    "In our first convolutional layer, we want to apply 32 5x5 filters to the input\n",
    "layer, with a ReLU activation function. We can use the `conv2d()` method in the\n",
    "`layers` module to create this layer as follows:\n",
    "\n",
    "```\n",
    "conv1 = tf.layers.conv2d(\n",
    "    inputs=input_layer,\n",
    "    filters=32,\n",
    "    kernel_size=[5, 5],\n",
    "    padding=\"same\",\n",
    "    activation=tf.nn.relu)\n",
    "```\n",
    "\n",
    "The `inputs` argument specifies our input tensor, which must have the shape\n",
    "<code>[<em>batch_size</em>, <em>image_height</em>, <em>image_width</em>,\n",
    "<em>channels</em>]</code>. Here, we're connecting our first convolutional layer\n",
    "to `input_layer`, which has the shape <code>[<em>batch_size</em>, 28, 28,\n",
    "1]</code>.\n",
    "\n",
    "Note: `conv2d()` will instead accept a shape of `[<em>batch_size</em>, <em>channels</em>, <em>image_height</em>, <em>image_width</em>]` when passed the argument `data_format=channels_first`.\n",
    "\n",
    "The `filters` argument specifies the number of filters to apply (here, 32), and\n",
    "`kernel_size` specifies the dimensions of the filters as `[<em>height</em>,\n",
    "<em>width</em>]</code> (here, <code>[5, 5]`).\n",
    "\n",
    "<p class=\"tip\"><b>TIP:</b> If filter height and width have the same value, you can instead specify a\n",
    "single integer for <code>kernel_size</code>—e.g., <code>kernel_size=5</code>.</p>\n",
    "\n",
    "The `padding` argument specifies one of two enumerated values\n",
    "(case-insensitive): `valid` (default value) or `same`. To specify that the\n",
    "output tensor should have the same height and width values as the input tensor,\n",
    "we set `padding=same` here, which instructs TensorFlow to add 0 values to the\n",
    "edges of the input tensor to preserve height and width of 28. (Without padding,\n",
    "a 5x5 convolution over a 28x28 tensor will produce a 24x24 tensor, as there are\n",
    "24x24 locations to extract a 5x5 tile from a 28x28 grid.)\n",
    "\n",
    "The `activation` argument specifies the activation function to apply to the\n",
    "output of the convolution. Here, we specify ReLU activation with\n",
    "`tf.nn.relu`.\n",
    "\n",
    "Our output tensor produced by `conv2d()` has a shape of\n",
    "<code>[<em>batch_size</em>, 28, 28, 32]</code>: the same height and width\n",
    "dimensions as the input, but now with 32 channels holding the output from each\n",
    "of the filters."
   ]
  },
  {
   "cell_type": "markdown",
   "metadata": {
    "colab_type": "text",
    "id": "8qzx1ZMFRqt_"
   },
   "source": [
    "### Pooling Layer #1\n",
    "\n",
    "Next, we connect our first pooling layer to the convolutional layer we just\n",
    "created. We can use the `max_pooling2d()` method in `layers` to construct a\n",
    "layer that performs max pooling with a 2x2 filter and stride of 2:\n",
    "\n",
    "```\n",
    "pool1 = tf.layers.max_pooling2d(inputs=conv1, pool_size=[2, 2], strides=2)\n",
    "```\n",
    "\n",
    "Again, `inputs` specifies the input tensor, with a shape of\n",
    "<code>[<em>batch_size</em>, <em>image_height</em>, <em>image_width</em>,\n",
    "<em>channels</em>]</code>. Here, our input tensor is `conv1`, the output from\n",
    "the first convolutional layer, which has a shape of <code>[<em>batch_size</em>,\n",
    "28, 28, 32]</code>.\n",
    "\n",
    "Note: As with <code>conv2d()</code>, <code>max_pooling2d()</code> will instead\n",
    "accept a shape of <code>[<em>batch_size</em>, <em>channels</em>, \n",
    "<em>image_height</em>, <em>image_width</em>]</code> when passed the argument\n",
    "<code>data_format=channels_first</code>.\n",
    "\n",
    "The `pool_size` argument specifies the size of the max pooling filter as\n",
    "<code>[<em>height</em>, <em>width</em>]</code> (here, `[2, 2]`). If both\n",
    "dimensions have the same value, you can instead specify a single integer (e.g.,\n",
    "`pool_size=2`).\n",
    "\n",
    "The `strides` argument specifies the size of the stride. Here, we set a stride\n",
    "of 2, which indicates that the subregions extracted by the filter should be\n",
    "separated by 2 pixels in both the height and width dimensions (for a 2x2 filter,\n",
    "this means that none of the regions extracted will overlap). If you want to set\n",
    "different stride values for height and width, you can instead specify a tuple or\n",
    "list (e.g., `stride=[3, 6]`).\n",
    "\n",
    "Our output tensor produced by `max_pooling2d()` (`pool1`) has a shape of\n",
    "<code>[<em>batch_size</em>, 14, 14, 32]</code>: the 2x2 filter reduces height and width by 50% each."
   ]
  },
  {
   "cell_type": "markdown",
   "metadata": {
    "colab_type": "text",
    "id": "xXej53NlRzFh"
   },
   "source": [
    "### Convolutional Layer #2 and Pooling Layer #2\n",
    "\n",
    "We can connect a second convolutional and pooling layer to our CNN using\n",
    "`conv2d()` and `max_pooling2d()` as before. For convolutional layer #2, we\n",
    "configure 64 5x5 filters with ReLU activation, and for pooling layer #2, we use\n",
    "the same specs as pooling layer #1 (a 2x2 max pooling filter with stride of 2):\n",
    "\n",
    "```\n",
    "conv2 = tf.layers.conv2d(\n",
    "    inputs=pool1,\n",
    "    filters=64,\n",
    "    kernel_size=[5, 5],\n",
    "    padding=\"same\",\n",
    "    activation=tf.nn.relu)\n",
    "\n",
    "pool2 = tf.layers.max_pooling2d(inputs=conv2, pool_size=[2, 2], strides=2)\n",
    "```\n",
    "\n",
    "Note that convolutional layer #2 takes the output tensor of our first pooling\n",
    "layer (`pool1`) as input, and produces the tensor `conv2` as output. `conv2`\n",
    "has a shape of <code>[<em>batch_size</em>, 14, 14, 64]</code>, the same height and width as `pool1` (due to `padding=\"same\"`), and 64 channels for the 64\n",
    "filters applied.\n",
    "\n",
    "Pooling layer #2 takes `conv2` as input, producing `pool2` as output. `pool2`\n",
    "has shape <code>[<em>batch_size</em>, 7, 7, 64]</code> (50% reduction of height and width from `conv2`)."
   ]
  },
  {
   "cell_type": "markdown",
   "metadata": {
    "colab_type": "text",
    "id": "jjmLqVP7R7z6"
   },
   "source": [
    "### Dense Layer\n",
    "\n",
    "Next, we want to add a dense layer (with 1,024 neurons and ReLU activation) to\n",
    "our CNN to perform classification on the features extracted by the\n",
    "convolution/pooling layers. Before we connect the layer, however, we'll flatten\n",
    "our feature map (`pool2`) to shape <code>[<em>batch_size</em>,\n",
    "<em>features</em>]</code>, so that our tensor has only two dimensions:\n",
    "\n",
    "```\n",
    "pool2_flat = tf.reshape(pool2, [-1, 7 * 7 * 64])\n",
    "```\n",
    "\n",
    "In the `reshape()` operation above, the `-1` signifies that the *`batch_size`*\n",
    "dimension will be dynamically calculated based on the number of examples in our\n",
    "input data. Each example has 7 (`pool2` height) * 7 (`pool2` width) * 64\n",
    "(`pool2` channels) features, so we want the `features` dimension to have a value\n",
    "of 7 * 7 * 64 (3136 in total). The output tensor, `pool2_flat`, has shape\n",
    "<code>[<em>batch_size</em>, 3136]</code>.\n",
    "\n",
    "Now, we can use the `dense()` method in `layers` to connect our dense layer as\n",
    "follows:\n",
    "\n",
    "```\n",
    "dense = tf.layers.dense(inputs=pool2_flat, units=1024, activation=tf.nn.relu)\n",
    "```\n",
    "\n",
    "The `inputs` argument specifies the input tensor: our flattened feature map,\n",
    "`pool2_flat`. The `units` argument specifies the number of neurons in the dense\n",
    "layer (1,024). The `activation` argument takes the activation function; again,\n",
    "we'll use `tf.nn.relu` to add ReLU activation.\n",
    "\n",
    "To help improve the results of our model, we also apply dropout regularization\n",
    "to our dense layer, using the `dropout` method in `layers`:\n",
    "\n",
    "```\n",
    "dropout = tf.layers.dropout(\n",
    "    inputs=dense, rate=0.4, training=mode == tf.estimator.ModeKeys.TRAIN)\n",
    "```\n",
    "\n",
    "Again, `inputs` specifies the input tensor, which is the output tensor from our\n",
    "dense layer (`dense`).\n",
    "\n",
    "The `rate` argument specifies the dropout rate; here, we use `0.4`, which means\n",
    "40% of the elements will be randomly dropped out during training.\n",
    "\n",
    "The `training` argument takes a boolean specifying whether or not the model is\n",
    "currently being run in training mode; dropout will only be performed if\n",
    "`training` is `True`. Here, we check if the `mode` passed to our model function\n",
    "`cnn_model_fn` is `TRAIN` mode.\n",
    "\n",
    "Our output tensor `dropout` has shape <code>[<em>batch_size</em>, 1024]</code>."
   ]
  },
  {
   "cell_type": "markdown",
   "metadata": {
    "colab_type": "text",
    "id": "rzUcwkCZSTF7"
   },
   "source": [
    "### Logits Layer\n",
    "\n",
    "The final layer in our neural network is the logits layer, which will return the\n",
    "raw values for our predictions. We create a dense layer with 10 neurons (one for\n",
    "each target class 0–9), with linear activation (the default):\n",
    "\n",
    "```\n",
    "logits = tf.layers.dense(inputs=dropout, units=10)\n",
    "```\n",
    "\n",
    "Our final output tensor of the CNN, `logits`, has shape `[batch_size, 10]`."
   ]
  },
  {
   "cell_type": "markdown",
   "metadata": {
    "colab_type": "text",
    "id": "y3uJ0V1KSakc"
   },
   "source": [
    "### Generate Predictions {#generate_predictions}\n",
    "\n",
    "The logits layer of our model returns our predictions as raw values in a\n",
    "<code>[<em>batch_size</em>, 10]</code>-dimensional tensor. Let's convert these\n",
    "raw values into two different formats that our model function can return:\n",
    "\n",
    "*   The **predicted class** for each example: a digit from 0–9.\n",
    "*   The **probabilities** for each possible target class for each example: the\n",
    "    probability that the example is a 0, is a 1, is a 2, etc.\n",
    "\n",
    "For a given example, our predicted class is the element in the corresponding row\n",
    "of the logits tensor with the highest raw value. We can find the index of this\n",
    "element using the `tf.argmax`\n",
    "function:\n",
    "\n",
    "```\n",
    "tf.argmax(input=logits, axis=1)\n",
    "```\n",
    "\n",
    "The `input` argument specifies the tensor from which to extract maximum\n",
    "values—here `logits`. The `axis` argument specifies the axis of the `input`\n",
    "tensor along which to find the greatest value. Here, we want to find the largest\n",
    "value along the dimension with index of 1, which corresponds to our predictions\n",
    "(recall that our logits tensor has shape <code>[<em>batch_size</em>,\n",
    "10]</code>).\n",
    "\n",
    "We can derive probabilities from our logits layer by applying softmax activation\n",
    "using `tf.nn.softmax`:\n",
    "\n",
    "```\n",
    "tf.nn.softmax(logits, name=\"softmax_tensor\")\n",
    "```\n",
    "\n",
    "Note: We use the `name` argument to explicitly name this operation `softmax_tensor`, so we can reference it later. (We'll set up logging for the softmax values in [\"Set Up a Logging Hook\"](#set-up-a-logging-hook)).\n",
    "\n",
    "We compile our predictions in a dict, and return an `EstimatorSpec` object:\n",
    "\n",
    "```\n",
    "predictions = {\n",
    "    \"classes\": tf.argmax(input=logits, axis=1),\n",
    "    \"probabilities\": tf.nn.softmax(logits, name=\"softmax_tensor\")\n",
    "}\n",
    "if mode == tf.estimator.ModeKeys.PREDICT:\n",
    "  return tf.estimator.EstimatorSpec(mode=mode, predictions=predictions)\n",
    "```"
   ]
  },
  {
   "cell_type": "markdown",
   "metadata": {
    "colab_type": "text",
    "id": "f2ks_tqSSucg"
   },
   "source": [
    "### Calculate Loss {#calculating-loss}\n",
    "\n",
    "For both training and evaluation, we need to define a\n",
    "[loss function](https://en.wikipedia.org/wiki/Loss_function)\n",
    "that measures how closely the model's predictions match the target classes. For\n",
    "multiclass classification problems like MNIST,\n",
    "[cross entropy](https://en.wikipedia.org/wiki/Cross_entropy) is typically used\n",
    "as the loss metric. The following code calculates cross entropy when the model\n",
    "runs in either `TRAIN` or `EVAL` mode:\n",
    "\n",
    "```\n",
    "loss = tf.losses.sparse_softmax_cross_entropy(labels=labels, logits=logits)\n",
    "```\n",
    "\n",
    "Let's take a closer look at what's happening above.\n",
    "\n",
    "Our `labels` tensor contains a list of prediction indices for our examples, e.g. `[1,\n",
    "9, ...]`. `logits` contains the linear outputs of our last layer. \n",
    "\n",
    "`tf.losses.sparse_softmax_cross_entropy`, calculates the softmax crossentropy\n",
    "(aka: categorical crossentropy, negative log-likelihood) from these two inputs\n",
    "in an efficient, numerically stable way."
   ]
  },
  {
   "cell_type": "markdown",
   "metadata": {
    "colab_type": "text",
    "id": "YgE7Ll3pS2FG"
   },
   "source": [
    "### Configure the Training Op\n",
    "\n",
    "In the previous section, we defined loss for our CNN as the softmax\n",
    "cross-entropy of the logits layer and our labels. Let's configure our model to\n",
    "optimize this loss value during training. We'll use a learning rate of 0.001 and\n",
    "[stochastic gradient descent](https://en.wikipedia.org/wiki/Stochastic_gradient_descent)\n",
    "as the optimization algorithm:\n",
    "\n",
    "```\n",
    "if mode == tf.estimator.ModeKeys.TRAIN:\n",
    "  optimizer = tf.train.GradientDescentOptimizer(learning_rate=0.001)\n",
    "  train_op = optimizer.minimize(\n",
    "      loss=loss,\n",
    "      global_step=tf.train.get_global_step())\n",
    "  return tf.estimator.EstimatorSpec(mode=mode, loss=loss, train_op=train_op)\n",
    "```"
   ]
  },
  {
   "cell_type": "markdown",
   "metadata": {
    "colab_type": "text",
    "id": "rEJPnXAzS6m9"
   },
   "source": [
    "Note: For a more in-depth look at configuring training ops for Estimator model functions, see [\"Defining the training op for the model\"](../../guide/custom_estimators.md#defining-the-training-op-for-the-model) in the [\"Creating Estimations in tf.estimator\"](../../guide/custom_estimators.md) tutorial."
   ]
  },
  {
   "cell_type": "markdown",
   "metadata": {
    "colab_type": "text",
    "id": "QQuGDWvHTAib"
   },
   "source": [
    "### Add evaluation metrics\n",
    "\n",
    "To add accuracy metric in our model, we define `eval_metric_ops` dict in EVAL\n",
    "mode as follows:\n",
    "\n",
    "```\n",
    "eval_metric_ops = {\n",
    "    \"accuracy\": tf.metrics.accuracy(\n",
    "        labels=labels, predictions=predictions[\"classes\"])\n",
    "}\n",
    "return tf.estimator.EstimatorSpec(\n",
    "    mode=mode, loss=loss, eval_metric_ops=eval_metric_ops)\n",
    "```"
   ]
  },
  {
   "cell_type": "markdown",
   "metadata": {
    "colab_type": "text",
    "id": "Y2Bwe-AdTRzX"
   },
   "source": [
    "<a id=\"train_eval_mnist\"></a>\n",
    "## Training and Evaluating the CNN MNIST Classifier\n",
    "\n",
    "We've coded our MNIST CNN model function; now we're ready to train and evaluate\n",
    "it."
   ]
  },
  {
   "cell_type": "markdown",
   "metadata": {
    "colab_type": "text",
    "id": "6EC9aOY2TTLU"
   },
   "source": [
    "### Load Training and Test Data\n",
    "\n",
    "First, let's load our training and test data with the following code:"
   ]
  },
  {
   "cell_type": "code",
   "execution_count": 3,
   "metadata": {
    "colab": {},
    "colab_type": "code",
    "id": "ccobb0qETV-S"
   },
   "outputs": [
    {
     "name": "stdout",
     "output_type": "stream",
     "text": [
      "Downloading data from https://storage.googleapis.com/tensorflow/tf-keras-datasets/mnist.npz\n",
      "11493376/11490434 [==============================] - 1s 0us/step\n"
     ]
    }
   ],
   "source": [
    "# Load training and eval data\n",
    "((train_data, train_labels),\n",
    " (eval_data, eval_labels)) = tf.keras.datasets.mnist.load_data()\n",
    "\n",
    "train_data = train_data/np.float32(255)\n",
    "train_labels = train_labels.astype(np.int32)  # not required\n",
    "\n",
    "eval_data = eval_data/np.float32(255)\n",
    "eval_labels = eval_labels.astype(np.int32)  # not required"
   ]
  },
  {
   "cell_type": "markdown",
   "metadata": {
    "colab_type": "text",
    "id": "8l84-IxSTZnO"
   },
   "source": [
    "We store the training feature data (the raw pixel values for 55,000 images of\n",
    "hand-drawn digits) and training labels (the corresponding value from 0–9 for\n",
    "each image) as [numpy\n",
    "arrays](https://docs.scipy.org/doc/numpy/reference/generated/numpy.array.html)\n",
    "in `train_data` and `train_labels`, respectively. Similarly, we store the\n",
    "evaluation feature data (10,000 images) and evaluation labels in `eval_data`\n",
    "and `eval_labels`, respectively."
   ]
  },
  {
   "cell_type": "markdown",
   "metadata": {
    "colab_type": "text",
    "id": "S2_Isc7kTa45"
   },
   "source": [
    "### Create the Estimator {#create-the-estimator}\n",
    "\n",
    "Next, let's create an `Estimator` (a TensorFlow class for performing high-level\n",
    "model training, evaluation, and inference) for our model. Add the following code\n",
    "to `main()`:"
   ]
  },
  {
   "cell_type": "code",
   "execution_count": 4,
   "metadata": {
    "colab": {},
    "colab_type": "code",
    "id": "yjC6HdwZTdg4"
   },
   "outputs": [
    {
     "name": "stdout",
     "output_type": "stream",
     "text": [
      "INFO:tensorflow:Using default config.\n",
      "INFO:tensorflow:Using config: {'_model_dir': '/tmp/mnist_convnet_model', '_tf_random_seed': None, '_save_summary_steps': 100, '_save_checkpoints_steps': None, '_save_checkpoints_secs': 600, '_session_config': allow_soft_placement: true\n",
      "graph_options {\n",
      "  rewrite_options {\n",
      "    meta_optimizer_iterations: ONE\n",
      "  }\n",
      "}\n",
      ", '_keep_checkpoint_max': 5, '_keep_checkpoint_every_n_hours': 10000, '_log_step_count_steps': 100, '_train_distribute': None, '_device_fn': None, '_protocol': None, '_eval_distribute': None, '_experimental_distribute': None, '_service': None, '_cluster_spec': <tensorflow.python.training.server_lib.ClusterSpec object at 0x7f9a103971d0>, '_task_type': 'worker', '_task_id': 0, '_global_id_in_cluster': 0, '_master': '', '_evaluation_master': '', '_is_chief': True, '_num_ps_replicas': 0, '_num_worker_replicas': 1}\n"
     ]
    }
   ],
   "source": [
    "# Create the Estimator\n",
    "mnist_classifier = tf.estimator.Estimator(\n",
    "    model_fn=cnn_model_fn, model_dir=\"/tmp/mnist_convnet_model\")"
   ]
  },
  {
   "cell_type": "markdown",
   "metadata": {
    "colab_type": "text",
    "id": "f78EBcg7TfTU"
   },
   "source": [
    "The `model_fn` argument specifies the model function to use for training,\n",
    "evaluation, and prediction; we pass it the `cnn_model_fn` we created in\n",
    "[\"Building the CNN MNIST Classifier.\"](#building-the-cnn-mnist-classifier) The\n",
    "`model_dir` argument specifies the directory where model data (checkpoints) will\n",
    "be saved (here, we specify the temp directory `/tmp/mnist_convnet_model`, but\n",
    "feel free to change to another directory of your choice).\n",
    "\n",
    "Note: For an in-depth walkthrough of the TensorFlow `Estimator` API, see the tutorial [Creating Estimators in tf.estimator](../../guide/custom_estimators.md)."
   ]
  },
  {
   "cell_type": "markdown",
   "metadata": {
    "colab_type": "text",
    "id": "_6ow7hVYTm3f"
   },
   "source": [
    "### Set Up a Logging Hook {#set_up_a_logging_hook}\n",
    "\n",
    "Since CNNs can take a while to train, let's set up some logging so we can track\n",
    "progress during training. We can use TensorFlow's `tf.train.SessionRunHook` to create a\n",
    "`tf.train.LoggingTensorHook`\n",
    "that will log the probability values from the softmax layer of our CNN. Add the\n",
    "following to `main()`:"
   ]
  },
  {
   "cell_type": "code",
   "execution_count": 5,
   "metadata": {
    "colab": {},
    "colab_type": "code",
    "id": "S6T10kssTpdz"
   },
   "outputs": [],
   "source": [
    "# Set up logging for predictions\n",
    "tensors_to_log = {\"probabilities\": \"softmax_tensor\"}\n",
    "\n",
    "logging_hook = tf.train.LoggingTensorHook(\n",
    "    tensors=tensors_to_log, every_n_iter=50)"
   ]
  },
  {
   "cell_type": "markdown",
   "metadata": {
    "colab_type": "text",
    "id": "RZdtZ6JQTsmg"
   },
   "source": [
    "We store a dict of the tensors we want to log in `tensors_to_log`. Each key is a\n",
    "label of our choice that will be printed in the log output, and the\n",
    "corresponding label is the name of a `Tensor` in the TensorFlow graph. Here, our\n",
    "`probabilities` can be found in `softmax_tensor`, the name we gave our softmax\n",
    "operation earlier when we generated the probabilities in `cnn_model_fn`.\n",
    "\n",
    "Note: If you don't explicitly assign a name to an operation via the `name` argument, TensorFlow will assign a default name. A couple easy ways to discover the names applied to operations are to visualize your graph on [TensorBoard](../../guide/graph_viz.md)) or to enable the [TensorFlow Debugger (tfdbg)](../../guide/debugger.md).\n",
    "\n",
    "Next, we create the `LoggingTensorHook`, passing `tensors_to_log` to the\n",
    "`tensors` argument. We set `every_n_iter=50`, which specifies that probabilities\n",
    "should be logged after every 50 steps of training."
   ]
  },
  {
   "cell_type": "markdown",
   "metadata": {
    "colab_type": "text",
    "id": "brVs1dRMT0NM"
   },
   "source": [
    "### Train the Model\n",
    "\n",
    "Now we're ready to train our model, which we can do by creating `train_input_fn`\n",
    "and calling `train()` on `mnist_classifier`. In the `numpy_input_fn` call, we pass the training feature data and labels to\n",
    "`x` (as a dict) and `y`, respectively. We set a `batch_size` of `100` (which\n",
    "means that the model will train on minibatches of 100 examples at each step).\n",
    "`num_epochs=None` means that the model will train until the specified number of\n",
    "steps is reached. We also set `shuffle=True` to shuffle the training data. Then train the model a single step and log the output:"
   ]
  },
  {
   "cell_type": "code",
   "execution_count": 6,
   "metadata": {
    "colab": {},
    "colab_type": "code",
    "id": "h-dewpleT2sk"
   },
   "outputs": [
    {
     "name": "stdout",
     "output_type": "stream",
     "text": [
      "WARNING:tensorflow:From /opt/conda/lib/python3.6/site-packages/tensorflow/python/estimator/inputs/queues/feeding_queue_runner.py:62: QueueRunner.__init__ (from tensorflow.python.training.queue_runner_impl) is deprecated and will be removed in a future version.\n",
      "Instructions for updating:\n",
      "To construct input pipelines, use the `tf.data` module.\n",
      "WARNING:tensorflow:From /opt/conda/lib/python3.6/site-packages/tensorflow/python/estimator/inputs/queues/feeding_functions.py:500: add_queue_runner (from tensorflow.python.training.queue_runner_impl) is deprecated and will be removed in a future version.\n",
      "Instructions for updating:\n",
      "To construct input pipelines, use the `tf.data` module.\n",
      "INFO:tensorflow:Calling model_fn.\n",
      "INFO:tensorflow:Done calling model_fn.\n",
      "INFO:tensorflow:Create CheckpointSaverHook.\n",
      "INFO:tensorflow:Graph was finalized.\n",
      "INFO:tensorflow:Running local_init_op.\n",
      "INFO:tensorflow:Done running local_init_op.\n",
      "WARNING:tensorflow:From /opt/conda/lib/python3.6/site-packages/tensorflow/python/training/monitored_session.py:804: start_queue_runners (from tensorflow.python.training.queue_runner_impl) is deprecated and will be removed in a future version.\n",
      "Instructions for updating:\n",
      "To construct input pipelines, use the `tf.data` module.\n",
      "INFO:tensorflow:Saving checkpoints for 0 into /tmp/mnist_convnet_model/model.ckpt.\n",
      "INFO:tensorflow:probabilities = [[0.09910111 0.10403185 0.12663575 0.09054106 0.11954132 0.08490182\n",
      "  0.09411952 0.09753153 0.09180567 0.09179036]\n",
      " [0.09863231 0.1055803  0.11657616 0.10008596 0.11986768 0.07757502\n",
      "  0.09361215 0.09339385 0.10600659 0.08866993]\n",
      " [0.09774111 0.12372904 0.11878617 0.09405152 0.12892407 0.0776756\n",
      "  0.08913852 0.08553007 0.08160041 0.10282353]\n",
      " [0.09197638 0.10736825 0.12827668 0.09187803 0.11151204 0.08469089\n",
      "  0.08810347 0.10030356 0.10109571 0.09479504]\n",
      " [0.11246844 0.10910767 0.11891216 0.08556716 0.11112399 0.08606444\n",
      "  0.09224804 0.09595574 0.09912171 0.08943068]\n",
      " [0.09191322 0.10117004 0.11447747 0.09195423 0.11364157 0.08738998\n",
      "  0.10012152 0.09885104 0.10086279 0.09961809]\n",
      " [0.09657998 0.11296141 0.11897736 0.08908995 0.10153344 0.07901393\n",
      "  0.09716648 0.09325866 0.1030306  0.10838819]\n",
      " [0.07567895 0.11846481 0.12285369 0.08764432 0.108161   0.08851986\n",
      "  0.09435926 0.11647322 0.09048708 0.09735779]\n",
      " [0.09446719 0.09965529 0.12129068 0.09566282 0.11027673 0.08837415\n",
      "  0.09875004 0.10149066 0.0996576  0.09037478]\n",
      " [0.10201161 0.1109675  0.11024824 0.09411915 0.11421773 0.09451199\n",
      "  0.08798075 0.10973626 0.08758926 0.08861746]\n",
      " [0.10222264 0.10946423 0.11503028 0.09119914 0.1044694  0.08422547\n",
      "  0.09492169 0.10757264 0.10366464 0.08722989]\n",
      " [0.08986935 0.10364673 0.11666016 0.10511114 0.1087445  0.09097134\n",
      "  0.09920905 0.10425913 0.0962626  0.08526596]\n",
      " [0.10505863 0.09881684 0.11606401 0.09810355 0.12383815 0.08936947\n",
      "  0.0888928  0.10945453 0.08791268 0.08248935]\n",
      " [0.10374273 0.10548506 0.11161949 0.08752742 0.08648718 0.09983853\n",
      "  0.10682786 0.10652388 0.09916354 0.09278431]\n",
      " [0.0879845  0.12134071 0.10681242 0.08623333 0.11240199 0.08486437\n",
      "  0.10401344 0.09923617 0.10243759 0.09467546]\n",
      " [0.10877518 0.11885983 0.10631222 0.09589498 0.1030409  0.08605964\n",
      "  0.09490272 0.08522374 0.09970339 0.10122736]\n",
      " [0.09410579 0.10844184 0.10825574 0.09142198 0.10475656 0.08932173\n",
      "  0.09266754 0.09851376 0.11412441 0.09839059]\n",
      " [0.08785114 0.09453405 0.13820194 0.08629262 0.12514004 0.08467223\n",
      "  0.10120425 0.1023674  0.09495272 0.0847836 ]\n",
      " [0.105714   0.13050038 0.10673326 0.1005565  0.09808236 0.08051749\n",
      "  0.08033707 0.09356543 0.11020333 0.09379022]\n",
      " [0.10194181 0.09815692 0.11252516 0.09225274 0.10021098 0.09002218\n",
      "  0.10202571 0.10663213 0.10097186 0.09526055]\n",
      " [0.10240648 0.11891732 0.1184873  0.0880948  0.09985604 0.08009773\n",
      "  0.0919553  0.08799639 0.10560393 0.10658477]\n",
      " [0.09676117 0.11129583 0.10565776 0.09826088 0.0980886  0.09930797\n",
      "  0.09296054 0.10356944 0.09776882 0.09632888]\n",
      " [0.10183986 0.10854845 0.11272004 0.09443979 0.09248612 0.09233814\n",
      "  0.10469353 0.10014804 0.09905798 0.09372802]\n",
      " [0.09783006 0.10742919 0.1110445  0.10225833 0.10230166 0.09453499\n",
      "  0.09730317 0.09825341 0.09583508 0.09320952]\n",
      " [0.09101471 0.10176207 0.10932125 0.0966441  0.10646998 0.09011438\n",
      "  0.09598227 0.09821021 0.10644154 0.10403953]\n",
      " [0.09914347 0.10625237 0.11477852 0.10378025 0.11493529 0.09069058\n",
      "  0.10211958 0.09119682 0.09268848 0.08441471]\n",
      " [0.10043762 0.0998508  0.11157083 0.08264202 0.11091876 0.08885042\n",
      "  0.10926107 0.10104056 0.10189858 0.0935293 ]\n",
      " [0.09110456 0.10489677 0.11531277 0.09628172 0.09557625 0.09898063\n",
      "  0.09809016 0.09703031 0.10578718 0.09693968]\n",
      " [0.10168429 0.10918554 0.10740356 0.10199966 0.10295644 0.08194052\n",
      "  0.08356186 0.10533103 0.1019337  0.10400344]\n",
      " [0.09018049 0.10491565 0.1132713  0.0981896  0.10347366 0.09653189\n",
      "  0.098987   0.10102531 0.10543372 0.08799142]\n",
      " [0.09932305 0.10542032 0.10965434 0.1054006  0.11660232 0.07547259\n",
      "  0.09917936 0.09695008 0.10364668 0.08835063]\n",
      " [0.09602063 0.10238046 0.11552209 0.09759859 0.10074956 0.09667749\n",
      "  0.09956251 0.09123228 0.10973998 0.09051643]\n",
      " [0.09399492 0.10743565 0.12219455 0.09088548 0.12053867 0.08962539\n",
      "  0.09137453 0.0870525  0.1117082  0.0851901 ]\n",
      " [0.11031082 0.1095698  0.12491102 0.09077331 0.0948642  0.08593398\n",
      "  0.10341193 0.10054705 0.09067449 0.08900344]\n",
      " [0.08181442 0.11065336 0.11960376 0.09958015 0.12723956 0.07882068\n",
      "  0.09103455 0.09677074 0.11066944 0.08381332]\n",
      " [0.09117237 0.11266682 0.11888904 0.08842735 0.10488163 0.09188128\n",
      "  0.09977167 0.09661891 0.1025235  0.09316743]\n",
      " [0.10148984 0.09388198 0.11228584 0.09428163 0.09780017 0.09047583\n",
      "  0.10734383 0.1012447  0.11176415 0.08943209]\n",
      " [0.09945565 0.10915299 0.10423626 0.09325317 0.10911621 0.09309451\n",
      "  0.09723068 0.10016295 0.09523477 0.09906282]\n",
      " [0.08856338 0.10339755 0.12914932 0.10277262 0.10378862 0.08299292\n",
      "  0.09814061 0.09576739 0.10337429 0.09205329]\n",
      " [0.09951292 0.10737516 0.11554579 0.09657146 0.10029741 0.09929283\n",
      "  0.08987273 0.09575734 0.10109359 0.09468076]\n",
      " [0.10816859 0.11628187 0.10528107 0.09052379 0.13312066 0.07981072\n",
      "  0.08763165 0.1037054  0.09881572 0.07666056]\n",
      " [0.09124594 0.09707054 0.1098676  0.1015262  0.10375369 0.09924008\n",
      "  0.09504864 0.09974224 0.1044759  0.09802918]\n",
      " [0.08791855 0.10069633 0.11081126 0.09180555 0.11696774 0.08171766\n",
      "  0.10864079 0.10038377 0.10893866 0.09211967]\n",
      " [0.10131308 0.10753041 0.11973036 0.08872578 0.11231283 0.07818867\n",
      "  0.10080455 0.10410029 0.0948889  0.09240514]\n",
      " [0.09501171 0.10011487 0.10725851 0.09619158 0.11024006 0.09060363\n",
      "  0.10340573 0.09416641 0.11148609 0.09152135]\n",
      " [0.09748597 0.11596963 0.10325982 0.0871283  0.13493079 0.08383757\n",
      "  0.09539752 0.08515056 0.10273153 0.09410842]\n",
      " [0.08485013 0.10264373 0.11601766 0.09941432 0.11275487 0.10211332\n",
      "  0.10728273 0.08701115 0.0993445  0.08856755]\n",
      " [0.09808842 0.1017776  0.11148774 0.08748526 0.11813148 0.08554292\n",
      "  0.09806278 0.09900202 0.11400536 0.08641639]\n",
      " [0.09945247 0.11536893 0.10806208 0.08244343 0.09478419 0.09518346\n",
      "  0.09013628 0.10798677 0.10740603 0.09917627]\n",
      " [0.09246917 0.11657151 0.12405186 0.09158525 0.11501528 0.07039275\n",
      "  0.09206689 0.11372463 0.10329232 0.08083037]\n",
      " [0.09128866 0.11186405 0.12336025 0.09752057 0.10560917 0.08688319\n",
      "  0.09637965 0.09891338 0.09987471 0.08830637]\n",
      " [0.09835681 0.11597516 0.11301551 0.09566542 0.10278938 0.08560606\n",
      "  0.09253249 0.10687583 0.09822816 0.09095521]\n",
      " [0.10459811 0.09900142 0.12492797 0.10026399 0.09893155 0.09264115\n",
      "  0.10875729 0.08780538 0.10188173 0.08119146]\n",
      " [0.10450988 0.10392264 0.11302126 0.10137848 0.10722223 0.08952995\n",
      "  0.09469581 0.09718815 0.09491346 0.09361813]\n",
      " [0.09195278 0.09769062 0.11460973 0.10308872 0.10709027 0.09120033\n",
      "  0.10801776 0.0963324  0.09973892 0.09027846]\n",
      " [0.08915436 0.113737   0.11127942 0.10452157 0.11277078 0.0935231\n",
      "  0.0887183  0.0933164  0.09437044 0.09860872]\n",
      " [0.10567039 0.10829792 0.12289792 0.09261879 0.11147046 0.08579433\n",
      "  0.09137177 0.08773915 0.09777747 0.09636179]\n",
      " [0.08595844 0.11638878 0.11451031 0.09703851 0.12203921 0.07725242\n",
      "  0.09093223 0.09495899 0.11106711 0.08985395]\n",
      " [0.09317519 0.10785542 0.10654766 0.0930522  0.11274631 0.09334299\n",
      "  0.10692307 0.08943972 0.09527441 0.10164309]\n",
      " [0.09714831 0.11030739 0.11163177 0.08920932 0.10214827 0.08874786\n",
      "  0.09748102 0.10790692 0.09629847 0.09912068]\n",
      " [0.10392647 0.10304774 0.11701136 0.10516582 0.10368305 0.08950391\n",
      "  0.09981339 0.09173219 0.09401745 0.09209859]\n",
      " [0.09208502 0.10155001 0.11087088 0.09150706 0.11026152 0.08115518\n",
      "  0.09816828 0.10323881 0.11748125 0.09368192]\n",
      " [0.101851   0.11159976 0.12233742 0.10352604 0.11932897 0.07244994\n",
      "  0.09326039 0.08686019 0.09654353 0.09224282]\n",
      " [0.10212068 0.11424808 0.10552967 0.10371231 0.1112785  0.08188213\n",
      "  0.0955245  0.08886095 0.09538368 0.10145947]\n",
      " [0.0959115  0.10947431 0.11390944 0.09785085 0.09681179 0.10068394\n",
      "  0.10031056 0.10041586 0.09294704 0.0916848 ]\n",
      " [0.093682   0.10209115 0.10414154 0.10229891 0.10030848 0.09024126\n",
      "  0.10235402 0.10654201 0.10294028 0.09540031]\n",
      " [0.10403836 0.1020181  0.13062021 0.09858521 0.10885489 0.08138669\n",
      "  0.08992702 0.09307957 0.10422584 0.08726409]\n",
      " [0.09489904 0.1207844  0.11184079 0.08561711 0.11422186 0.08886626\n",
      "  0.08988487 0.10248608 0.08945714 0.10194254]\n",
      " [0.09257915 0.11343198 0.11946956 0.09937928 0.09856456 0.08477074\n",
      "  0.10244182 0.0926435  0.10384339 0.09287591]\n",
      " [0.10272165 0.10155467 0.11385316 0.1000315  0.09173845 0.08789849\n",
      "  0.10100781 0.09979328 0.10286527 0.09853577]\n",
      " [0.10381023 0.1130591  0.10790598 0.08745351 0.12589782 0.07879903\n",
      "  0.10048662 0.09274977 0.0876366  0.10220136]\n",
      " [0.09797466 0.11349602 0.12229554 0.09181406 0.10452185 0.08142046\n",
      "  0.09042083 0.09945852 0.110535   0.08806301]\n",
      " [0.08732659 0.10539656 0.12210695 0.09420307 0.14247814 0.08384497\n",
      "  0.09338193 0.08971549 0.09262057 0.08892574]\n",
      " [0.09425033 0.11190427 0.10471672 0.09368721 0.10875008 0.08622897\n",
      "  0.09273916 0.10803435 0.09544162 0.10424727]\n",
      " [0.10974164 0.10927109 0.10401958 0.09441117 0.11406933 0.08703064\n",
      "  0.099696   0.0866686  0.09747302 0.09761889]\n",
      " [0.10066214 0.11077926 0.1032258  0.08189359 0.10175231 0.0918123\n",
      "  0.10270414 0.09441718 0.10129868 0.11145462]\n",
      " [0.09718084 0.10643986 0.11064114 0.09773652 0.10910174 0.08631358\n",
      "  0.10865548 0.09184676 0.09972596 0.09235809]\n",
      " [0.09935098 0.10008431 0.11235831 0.10111653 0.13127992 0.07949389\n",
      "  0.09748673 0.08688887 0.09570456 0.09623585]\n",
      " [0.10625108 0.10032839 0.10425947 0.09950655 0.10691179 0.08259449\n",
      "  0.10209392 0.10617901 0.09603503 0.09584032]\n",
      " [0.09768638 0.10711862 0.11748862 0.0859549  0.11528933 0.08572558\n",
      "  0.1098335  0.08920629 0.09764763 0.09404924]\n",
      " [0.10208114 0.1106735  0.10113569 0.09713949 0.12404911 0.08972263\n",
      "  0.09038785 0.09607567 0.09259026 0.09614468]\n",
      " [0.11365351 0.12162242 0.10820907 0.09239904 0.10540323 0.08322162\n",
      "  0.09358881 0.08708568 0.09613811 0.09867845]\n",
      " [0.09773185 0.12489623 0.11183956 0.08675764 0.11881757 0.08624204\n",
      "  0.09289078 0.0983473  0.08815629 0.09432077]\n",
      " [0.09258014 0.10966667 0.11398384 0.09400152 0.1020321  0.09159652\n",
      "  0.09998631 0.09747076 0.10017177 0.09851041]\n",
      " [0.08940641 0.11385092 0.08839176 0.08525039 0.1179641  0.09195203\n",
      "  0.10183144 0.10428136 0.10753923 0.09953229]\n",
      " [0.11195853 0.10398693 0.12315629 0.09776959 0.11924768 0.07989913\n",
      "  0.0970266  0.08689883 0.09783364 0.0822228 ]\n",
      " [0.090509   0.11392774 0.11931607 0.0956434  0.09458427 0.0903586\n",
      "  0.1051525  0.09334692 0.1019308  0.09523074]\n",
      " [0.09445707 0.11222045 0.10871093 0.10068611 0.10553997 0.08756189\n",
      "  0.09662844 0.10648751 0.10024906 0.08745849]\n",
      " [0.1051311  0.10364735 0.1154599  0.09276422 0.11040984 0.08562726\n",
      "  0.10106692 0.09979742 0.09538263 0.09071332]\n",
      " [0.100379   0.10143218 0.10075023 0.09097444 0.12282432 0.07953461\n",
      "  0.10372462 0.10434677 0.10299794 0.09303599]\n",
      " [0.10322944 0.10246467 0.10329384 0.08792876 0.10433754 0.09272386\n",
      "  0.10218351 0.10382637 0.10145364 0.09855843]\n",
      " [0.08877419 0.1128783  0.12922147 0.10494681 0.10651444 0.07886993\n",
      "  0.0964155  0.09848261 0.09482493 0.08907177]\n",
      " [0.09894946 0.11502744 0.11891572 0.10696144 0.11416768 0.08703679\n",
      "  0.0972096  0.08503222 0.09514064 0.08155908]\n",
      " [0.10023206 0.11288095 0.12370141 0.07524867 0.11393952 0.07623287\n",
      "  0.089362   0.1075315  0.11409557 0.08677538]\n",
      " [0.09796537 0.11406943 0.11718083 0.09599631 0.10415556 0.08333747\n",
      "  0.10148796 0.09496413 0.09725179 0.09359127]\n",
      " [0.09710542 0.09651727 0.11600505 0.09184209 0.12820591 0.07691634\n",
      "  0.08585707 0.09983598 0.11230604 0.09540888]\n",
      " [0.09956497 0.11277879 0.11182939 0.09207499 0.10830858 0.09148098\n",
      "  0.08514386 0.10281374 0.10228213 0.09372265]\n",
      " [0.10228767 0.1025555  0.11894061 0.10016523 0.08872878 0.08890139\n",
      "  0.09770843 0.09212692 0.10685278 0.10173274]\n",
      " [0.09532446 0.10205773 0.11914736 0.08925564 0.11529646 0.08430548\n",
      "  0.10163143 0.09099835 0.09692238 0.10506076]\n",
      " [0.09735342 0.1067844  0.13524345 0.09910876 0.11214466 0.07286076\n",
      "  0.08822656 0.10279256 0.1082623  0.07722314]]\n"
     ]
    },
    {
     "name": "stdout",
     "output_type": "stream",
     "text": [
      "INFO:tensorflow:loss = 2.315027, step = 1\n",
      "INFO:tensorflow:Saving checkpoints for 1 into /tmp/mnist_convnet_model/model.ckpt.\n",
      "INFO:tensorflow:Loss for final step: 2.315027.\n"
     ]
    },
    {
     "data": {
      "text/plain": [
       "<tensorflow.python.estimator.estimator.Estimator at 0x7f9a103970b8>"
      ]
     },
     "execution_count": 6,
     "metadata": {},
     "output_type": "execute_result"
    }
   ],
   "source": [
    "# Train the model\n",
    "train_input_fn = tf.estimator.inputs.numpy_input_fn(\n",
    "    x={\"x\": train_data},\n",
    "    y=train_labels,\n",
    "    batch_size=100,\n",
    "    num_epochs=None,\n",
    "    shuffle=True)\n",
    "\n",
    "# train one step and display the probabilties\n",
    "mnist_classifier.train(\n",
    "    input_fn=train_input_fn,\n",
    "    steps=1,\n",
    "    hooks=[logging_hook])"
   ]
  },
  {
   "cell_type": "markdown",
   "metadata": {
    "colab_type": "text",
    "id": "gyNSE3e-14Lq"
   },
   "source": [
    "Now—without logging each step—set `steps=1000` to train the model longer, but in a reasonable time to run this example. Training CNNs is computationally intensive. To increase the accuracy of your model, increase the number of `steps` passed to `train()`, like 20,000 steps. "
   ]
  },
  {
   "cell_type": "code",
   "execution_count": 7,
   "metadata": {
    "colab": {},
    "colab_type": "code",
    "id": "cri6zqcf2IXY"
   },
   "outputs": [
    {
     "name": "stdout",
     "output_type": "stream",
     "text": [
      "INFO:tensorflow:Calling model_fn.\n",
      "INFO:tensorflow:Done calling model_fn.\n",
      "INFO:tensorflow:Create CheckpointSaverHook.\n",
      "INFO:tensorflow:Graph was finalized.\n",
      "INFO:tensorflow:Restoring parameters from /tmp/mnist_convnet_model/model.ckpt-1\n",
      "INFO:tensorflow:Running local_init_op.\n",
      "INFO:tensorflow:Done running local_init_op.\n",
      "INFO:tensorflow:Saving checkpoints for 1 into /tmp/mnist_convnet_model/model.ckpt.\n",
      "INFO:tensorflow:loss = 2.3121238, step = 2\n",
      "INFO:tensorflow:global_step/sec: 5.40422\n",
      "INFO:tensorflow:loss = 2.2904165, step = 102 (18.505 sec)\n",
      "INFO:tensorflow:global_step/sec: 5.49263\n",
      "INFO:tensorflow:loss = 2.2715995, step = 202 (18.207 sec)\n",
      "INFO:tensorflow:global_step/sec: 5.60928\n",
      "INFO:tensorflow:loss = 2.2555096, step = 302 (17.827 sec)\n",
      "INFO:tensorflow:global_step/sec: 5.02886\n",
      "INFO:tensorflow:loss = 2.2490804, step = 402 (19.885 sec)\n",
      "INFO:tensorflow:global_step/sec: 5.31881\n",
      "INFO:tensorflow:loss = 2.2278473, step = 502 (18.801 sec)\n",
      "INFO:tensorflow:global_step/sec: 5.13731\n",
      "INFO:tensorflow:loss = 2.1845686, step = 602 (19.465 sec)\n",
      "INFO:tensorflow:global_step/sec: 5.50746\n",
      "INFO:tensorflow:loss = 2.1728516, step = 702 (18.158 sec)\n",
      "INFO:tensorflow:global_step/sec: 5.55357\n",
      "INFO:tensorflow:loss = 2.1421487, step = 802 (18.006 sec)\n",
      "INFO:tensorflow:global_step/sec: 5.5986\n",
      "INFO:tensorflow:loss = 2.031914, step = 902 (17.862 sec)\n",
      "INFO:tensorflow:Saving checkpoints for 1001 into /tmp/mnist_convnet_model/model.ckpt.\n",
      "INFO:tensorflow:Loss for final step: 1.9556899.\n"
     ]
    },
    {
     "data": {
      "text/plain": [
       "<tensorflow.python.estimator.estimator.Estimator at 0x7f9a103970b8>"
      ]
     },
     "execution_count": 7,
     "metadata": {},
     "output_type": "execute_result"
    }
   ],
   "source": [
    "mnist_classifier.train(input_fn=train_input_fn, steps=1000)"
   ]
  },
  {
   "cell_type": "markdown",
   "metadata": {
    "colab_type": "text",
    "id": "4bQdkLMeUE5U"
   },
   "source": [
    "### Evaluate the Model\n",
    "\n",
    "Once training is complete, we want to evaluate our model to determine its\n",
    "accuracy on the MNIST test set. We call the `evaluate` method, which evaluates\n",
    "the metrics we specified in `eval_metric_ops` argument in the `model_fn`.\n",
    "Add the following to `main()`:"
   ]
  },
  {
   "cell_type": "code",
   "execution_count": 0,
   "metadata": {
    "colab": {},
    "colab_type": "code",
    "id": "I0RGiqd0UF0N"
   },
   "outputs": [],
   "source": [
    "eval_input_fn = tf.estimator.inputs.numpy_input_fn(\n",
    "    x={\"x\": eval_data},\n",
    "    y=eval_labels,\n",
    "    num_epochs=1,\n",
    "    shuffle=False)\n",
    "\n",
    "eval_results = mnist_classifier.evaluate(input_fn=eval_input_fn)\n",
    "print(eval_results)"
   ]
  },
  {
   "cell_type": "markdown",
   "metadata": {
    "colab_type": "text",
    "id": "JIBVID6dUIXT"
   },
   "source": [
    "To create `eval_input_fn`, we set `num_epochs=1`, so that the model evaluates\n",
    "the metrics over one epoch of data and returns the result. We also set\n",
    "`shuffle=False` to iterate through the data sequentially."
   ]
  },
  {
   "cell_type": "markdown",
   "metadata": {
    "colab_type": "text",
    "id": "htmLZ-zEUZZk"
   },
   "source": [
    "## Additional Resources\n",
    "\n",
    "To learn more about TensorFlow Estimators and CNNs in TensorFlow, see the\n",
    "following resources:\n",
    "\n",
    "*   [Creating Estimators in tf.estimator](../../guide/custom_estimators.md)\n",
    "    provides an introduction to the TensorFlow Estimator API. It walks through\n",
    "    configuring an Estimator, writing a model function, calculating loss, and\n",
    "    defining a training op.\n",
    "*   [Advanced Convolutional Neural Networks](../../tutorials/images/deep_cnn.md) walks through how to build a MNIST CNN classification model\n",
    "    *without estimators* using lower-level TensorFlow operations."
   ]
  }
 ],
 "metadata": {
  "colab": {
   "collapsed_sections": [
    "Tce3stUlHN0L"
   ],
   "name": "cnn.ipynb",
   "private_outputs": true,
   "provenance": [],
   "toc_visible": true,
   "version": "0.3.2"
  },
  "kernelspec": {
   "display_name": "Python 3",
   "language": "python",
   "name": "python3"
  },
  "language_info": {
   "codemirror_mode": {
    "name": "ipython",
    "version": 3
   },
   "file_extension": ".py",
   "mimetype": "text/x-python",
   "name": "python",
   "nbconvert_exporter": "python",
   "pygments_lexer": "ipython3",
   "version": "3.6.8"
  }
 },
 "nbformat": 4,
 "nbformat_minor": 1
}
