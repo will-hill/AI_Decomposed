{
 "cells": [
  {
   "cell_type": "markdown",
   "metadata": {},
   "source": [
    "# Artificial Intelligence / CNN - Decompossed"
   ]
  },
  {
   "cell_type": "markdown",
   "metadata": {},
   "source": [
    "Currently the core of Aritificial Intelligence is the **Convolutional Neural Network (CNN)**\n",
    "These CNNs run on  \n",
    "* powerfull **GPUs**  \n",
    "* supplied data on **ultra fast storage**  \n",
    "* over Gb speed **networks**  "
   ]
  },
  {
   "cell_type": "markdown",
   "metadata": {},
   "source": [
    "## DS  >  ML  >  SL  >  AI  >  DL  >  <i>**CNN**</i>"
   ]
  },
  {
   "cell_type": "markdown",
   "metadata": {},
   "source": [
    "Data Sci  >  Machine Learning  >  Supervised Learning  >  Artificial Intelligence  >  Deep Learning  >  **Convolutional Neural Network**"
   ]
  },
  {
   "cell_type": "markdown",
   "metadata": {},
   "source": [
    "![venn](imgs/venn.png)"
   ]
  },
  {
   "cell_type": "markdown",
   "metadata": {},
   "source": [
    "## Convolutional Neural Network"
   ]
  },
  {
   "cell_type": "markdown",
   "metadata": {},
   "source": [
    "As the name implies, a convolutional neural network is a series of **convolutions** feeding into a **deep neural network**."
   ]
  },
  {
   "cell_type": "markdown",
   "metadata": {},
   "source": [
    "![nvidia deep learning](imgs/nvidia_DL.png)"
   ]
  },
  {
   "cell_type": "markdown",
   "metadata": {},
   "source": [
    "In this series of notebooks, I will breakdown, from scratch, how these CNNs are built and run on NVidia GPUs.  \n",
    "We will focus on convolutions, since they are the most advanced part of AI.  We will go through performing convolutions via Python, standard C++, and CUDA GPU C++."
   ]
  },
  {
   "cell_type": "markdown",
   "metadata": {},
   "source": [
    "# NEXT  -  extract color channels with Python"
   ]
  },
  {
   "cell_type": "markdown",
   "metadata": {},
   "source": [
    "http://localhost:8888/notebooks/1_Image_Metadata.ipynb"
   ]
  },
  {
   "cell_type": "markdown",
   "metadata": {},
   "source": [
    "![raw](./imgs/two.orig.png)"
   ]
  }
 ],
 "metadata": {
  "kernelspec": {
   "display_name": "Python 3",
   "language": "python",
   "name": "python3"
  },
  "language_info": {
   "codemirror_mode": {
    "name": "ipython",
    "version": 3
   },
   "file_extension": ".py",
   "mimetype": "text/x-python",
   "name": "python",
   "nbconvert_exporter": "python",
   "pygments_lexer": "ipython3",
   "version": "3.6.8"
  }
 },
 "nbformat": 4,
 "nbformat_minor": 2
}
