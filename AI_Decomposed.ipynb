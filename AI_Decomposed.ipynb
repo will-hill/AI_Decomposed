{
 "cells": [
  {
   "cell_type": "markdown",
   "metadata": {},
   "source": [
    "<br/><center><font size=\"16\" ><b>Artificial Intelligence Decompossed</b></font></center>"
   ]
  },
  {
   "cell_type": "markdown",
   "metadata": {},
   "source": [
    "<img src='imgs/cnn_porche.png' width='800' />"
   ]
  },
  {
   "cell_type": "markdown",
   "metadata": {},
   "source": [
    "### The core of modern Aritificial Intelligence is the **Convolutional Neural Network (CNN)**\n",
    "#### * running on NVida GPUs\n",
    "#### * supplied data from ultra fast storage\n",
    "#### * over Gb speed networks  "
   ]
  },
  {
   "cell_type": "markdown",
   "metadata": {},
   "source": [
    "## DS  >  ML  >  SL  >  AI  >  DL  >  <i>**CNN**</i>"
   ]
  },
  {
   "cell_type": "markdown",
   "metadata": {},
   "source": [
    "##### Data Sci  >  Machine Learning  >  Supervised Learning  >  Artificial Intelligence  >  Deep Learning  >  **Convolutional Neural Network**"
   ]
  },
  {
   "cell_type": "markdown",
   "metadata": {},
   "source": [
    "<img src='imgs/venn.png' width='500' />"
   ]
  },
  {
   "cell_type": "markdown",
   "metadata": {},
   "source": [
    "## Convolutional Neural Network (CNN)"
   ]
  },
  {
   "cell_type": "markdown",
   "metadata": {},
   "source": [
    "#### As the name implies, a convolutional neural network is a series of **convolutions and pooling** feeding into a **deep neural network**."
   ]
  },
  {
   "cell_type": "markdown",
   "metadata": {},
   "source": [
    "![nvidia deep learning](imgs/cnn_steps.png)"
   ]
  },
  {
   "cell_type": "markdown",
   "metadata": {},
   "source": [
    "#### In this series of notebooks, I will breakdown, from scratch, how these CNNs are built and run on NVidia GPUs.  The predominate phases in a CNN are:  \n",
    "* convolution\n",
    "* pooling\n",
    "* flattening\n",
    "* regression via neural network "
   ]
  },
  {
   "cell_type": "markdown",
   "metadata": {},
   "source": [
    "# NEXT  -  color channel extraction with Python"
   ]
  },
  {
   "cell_type": "markdown",
   "metadata": {},
   "source": [
    "http://localhost:8888/notebooks/Python/1_Py_Convolution.ipynb"
   ]
  },
  {
   "cell_type": "markdown",
   "metadata": {},
   "source": [
    "<table align=\"left\">\n",
    "    <tr align=\"center\">\n",
    "        <th>original</th>\n",
    "        <th>green channel</th>\n",
    "        <th>convolution</th>\n",
    "    </tr>\n",
    "<tr>\n",
    "    <td><img src='imgs/green_golf.jpg' width='600'/></td>\n",
    "    <td><img src='imgs/golf_green.png' width='600'/></td>\n",
    "    <td><img src='imgs/golf_convo.png' width='600'/></td>\n",
    "    </tr>\n",
    "</table>"
   ]
  },
  {
   "cell_type": "code",
   "execution_count": null,
   "metadata": {},
   "outputs": [],
   "source": []
  }
 ],
 "metadata": {
  "kernelspec": {
   "display_name": "Python 3",
   "language": "python",
   "name": "python3"
  },
  "language_info": {
   "codemirror_mode": {
    "name": "ipython",
    "version": 3
   },
   "file_extension": ".py",
   "mimetype": "text/x-python",
   "name": "python",
   "nbconvert_exporter": "python",
   "pygments_lexer": "ipython3",
   "version": "3.7.2"
  },
  "toc": {
   "base_numbering": 1,
   "nav_menu": {},
   "number_sections": false,
   "sideBar": false,
   "skip_h1_title": false,
   "title_cell": "contents",
   "title_sidebar": "contents",
   "toc_cell": false,
   "toc_position": {},
   "toc_section_display": false,
   "toc_window_display": false
  }
 },
 "nbformat": 4,
 "nbformat_minor": 2
}
