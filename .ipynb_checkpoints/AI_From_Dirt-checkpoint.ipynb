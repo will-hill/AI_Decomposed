{
 "cells": [
  {
   "cell_type": "markdown",
   "metadata": {
    "toc": true
   },
   "source": [
    "<h1>contents<span class=\"tocSkip\"></span></h1>\n",
    "<div class=\"toc\"><ul class=\"toc-item\"><li><span><a href=\"#passing-arrays-to-and-from-C++-lib\" data-toc-modified-id=\"passing-arrays-to-and-from-C++-lib-1\"><span class=\"toc-item-num\">1&nbsp;&nbsp;</span>passing arrays to and from C++ lib</a></span><ul class=\"toc-item\"><li><span><a href=\"#C++-code-to-run---reverse-an-integer-array\" data-toc-modified-id=\"C++-code-to-run---reverse-an-integer-array-1.1\"><span class=\"toc-item-num\">1.1&nbsp;&nbsp;</span>C++ code to run - reverse an integer array</a></span></li><li><span><a href=\"#create-int-array-in-python/numpy-&amp;-convert-to-ctype-pointer\" data-toc-modified-id=\"create-int-array-in-python/numpy-&amp;-convert-to-ctype-pointer-1.2\"><span class=\"toc-item-num\">1.2&nbsp;&nbsp;</span>create int array in python/numpy &amp; convert to ctype pointer</a></span></li><li><span><a href=\"#call-to-C++\" data-toc-modified-id=\"call-to-C++-1.3\"><span class=\"toc-item-num\">1.3&nbsp;&nbsp;</span>call to C++</a></span></li><li><span><a href=\"#back-to-python/numpy-array\" data-toc-modified-id=\"back-to-python/numpy-array-1.4\"><span class=\"toc-item-num\">1.4&nbsp;&nbsp;</span>back to python/numpy array</a></span></li></ul></li><li><span><a href=\"#resize-an-image\" data-toc-modified-id=\"resize-an-image-2\"><span class=\"toc-item-num\">2&nbsp;&nbsp;</span>resize an image</a></span><ul class=\"toc-item\"><li><span><a href=\"#determine-image-dimensions-and-channels\" data-toc-modified-id=\"determine-image-dimensions-and-channels-2.1\"><span class=\"toc-item-num\">2.1&nbsp;&nbsp;</span>determine image dimensions and channels</a></span></li><li><span><a href=\"#call-to-C++---get-image-as-int-array-pointer\" data-toc-modified-id=\"call-to-C++---get-image-as-int-array-pointer-2.2\"><span class=\"toc-item-num\">2.2&nbsp;&nbsp;</span>call to C++ - get image as int array pointer</a></span></li><li><span><a href=\"#play-with-color-channels\" data-toc-modified-id=\"play-with-color-channels-2.3\"><span class=\"toc-item-num\">2.3&nbsp;&nbsp;</span>play with color channels</a></span></li></ul></li></ul></div>"
   ]
  },
  {
   "cell_type": "markdown",
   "metadata": {},
   "source": [
    "# Building AI from Dirt"
   ]
  },
  {
   "cell_type": "markdown",
   "metadata": {},
   "source": [
    "## passing arrays to and from C++ lib"
   ]
  },
  {
   "cell_type": "markdown",
   "metadata": {},
   "source": [
    "### C++ code to run - reverse an integer array"
   ]
  },
  {
   "cell_type": "markdown",
   "metadata": {},
   "source": [
    "C++ code - will not run here"
   ]
  },
  {
   "cell_type": "code",
   "execution_count": null,
   "metadata": {},
   "outputs": [],
   "source": [
    "extern \"C\"\n",
    "int *reverse_array(const int *input_array, const int size) {\n",
    "    int *rev_array = new int[size];\n",
    "    for (int i = 0; i < size; i++) {\n",
    "        rev_array[size - i] = input_array[i];\n",
    "    }\n",
    "    return rev_array;\n",
    "}"
   ]
  },
  {
   "cell_type": "code",
   "execution_count": 2,
   "metadata": {},
   "outputs": [],
   "source": [
    "import numpy as np\n",
    "import ctypes\n",
    "from ctypes import *"
   ]
  },
  {
   "cell_type": "markdown",
   "metadata": {},
   "source": [
    "### create int array in python/numpy & convert to ctype pointer"
   ]
  },
  {
   "cell_type": "code",
   "execution_count": 60,
   "metadata": {},
   "outputs": [],
   "source": [
    "primes = np.array([2,3,5,7,11])"
   ]
  },
  {
   "cell_type": "code",
   "execution_count": 61,
   "metadata": {},
   "outputs": [
    {
     "data": {
      "text/plain": [
       "(5,)"
      ]
     },
     "execution_count": 61,
     "metadata": {},
     "output_type": "execute_result"
    }
   ],
   "source": [
    "primes.shape"
   ]
  },
  {
   "cell_type": "code",
   "execution_count": 62,
   "metadata": {},
   "outputs": [
    {
     "data": {
      "text/plain": [
       "[2, 3, 5, 7, 11]"
      ]
     },
     "execution_count": 62,
     "metadata": {},
     "output_type": "execute_result"
    }
   ],
   "source": [
    "primes.tolist()"
   ]
  },
  {
   "cell_type": "code",
   "execution_count": 63,
   "metadata": {},
   "outputs": [],
   "source": [
    "ptr_primes = pointer((ctypes.c_int * 5)(*primes))"
   ]
  },
  {
   "cell_type": "markdown",
   "metadata": {},
   "source": [
    "### call to C++"
   ]
  },
  {
   "cell_type": "code",
   "execution_count": 64,
   "metadata": {},
   "outputs": [],
   "source": [
    "reverse_array = cdll.LoadLibrary('./cmake-build-debug/libdirt_lib.dylib').reverse_array\n",
    "reverse_array.restype = ctypes.POINTER(ctypes.c_int * 5)\n",
    "result = reverse_array(p_a,5)"
   ]
  },
  {
   "cell_type": "code",
   "execution_count": 65,
   "metadata": {},
   "outputs": [
    {
     "name": "stdout",
     "output_type": "stream",
     "text": [
      "<__main__.c_int_Array_5 object at 0x118627d90>\n"
     ]
    }
   ],
   "source": [
    "print(result.contents)"
   ]
  },
  {
   "cell_type": "code",
   "execution_count": 66,
   "metadata": {},
   "outputs": [
    {
     "name": "stdout",
     "output_type": "stream",
     "text": [
      "11\n",
      "7\n",
      "5\n",
      "3\n",
      "2\n"
     ]
    }
   ],
   "source": [
    "for p in result.contents:\n",
    "    print(p)"
   ]
  },
  {
   "cell_type": "markdown",
   "metadata": {},
   "source": [
    "### back to python/numpy array"
   ]
  },
  {
   "cell_type": "code",
   "execution_count": 67,
   "metadata": {},
   "outputs": [
    {
     "data": {
      "text/plain": [
       "(5,)"
      ]
     },
     "execution_count": 67,
     "metadata": {},
     "output_type": "execute_result"
    }
   ],
   "source": [
    "primes.shape"
   ]
  },
  {
   "cell_type": "code",
   "execution_count": 68,
   "metadata": {},
   "outputs": [],
   "source": [
    "np_primes = np.ctypeslib.as_array(result,shape=(1,)).reshape(primes.shape)"
   ]
  },
  {
   "cell_type": "code",
   "execution_count": 69,
   "metadata": {},
   "outputs": [
    {
     "data": {
      "text/plain": [
       "(5,)"
      ]
     },
     "execution_count": 69,
     "metadata": {},
     "output_type": "execute_result"
    }
   ],
   "source": [
    "np_primes.shape"
   ]
  },
  {
   "cell_type": "code",
   "execution_count": 70,
   "metadata": {},
   "outputs": [
    {
     "data": {
      "text/plain": [
       "[11, 7, 5, 3, 2]"
      ]
     },
     "execution_count": 70,
     "metadata": {},
     "output_type": "execute_result"
    }
   ],
   "source": [
    "np_primes.tolist()"
   ]
  },
  {
   "cell_type": "markdown",
   "metadata": {},
   "source": [
    "## resize an image"
   ]
  },
  {
   "cell_type": "code",
   "execution_count": 6,
   "metadata": {},
   "outputs": [
    {
     "name": "stdout",
     "output_type": "stream",
     "text": [
      "/Users/Bhill/git/AI_From_Dirt/two.png\r\n",
      "  pixelHeight: 59\r\n",
      "  pixelWidth: 46\r\n"
     ]
    }
   ],
   "source": [
    "!sips -g pixelHeight -g pixelWidth /Users/Bhill/git/AI_From_Dirt/two.png"
   ]
  },
  {
   "cell_type": "markdown",
   "metadata": {},
   "source": [
    "![tow](two.png)"
   ]
  },
  {
   "cell_type": "code",
   "execution_count": 7,
   "metadata": {},
   "outputs": [
    {
     "name": "stdout",
     "output_type": "stream",
     "text": [
      "/Users/Bhill/git/AI_From_Dirt/two.15x15.png\r\n",
      "  /Users/Bhill/git/AI_From_Dirt/two.15x15.png\r\n"
     ]
    }
   ],
   "source": [
    "image_file = '/Users/Bhill/git/AI_From_Dirt/two.15x15.png'\n",
    "!cp two.png {image_file} ; sips -z 15 15 {image_file}"
   ]
  },
  {
   "cell_type": "markdown",
   "metadata": {},
   "source": [
    "![two](two.15x15.png)"
   ]
  },
  {
   "cell_type": "markdown",
   "metadata": {},
   "source": [
    "### determine image dimensions and channels"
   ]
  },
  {
   "cell_type": "code",
   "execution_count": 8,
   "metadata": {},
   "outputs": [
    {
     "name": "stdout",
     "output_type": "stream",
     "text": [
      "/Users/Bhill/git/AI_From_Dirt/two.15x15.png PNG 15x15 15x15+0+0 8-bit sRGB 1568B 0.000u 0:00.009\n",
      "h =  15\n",
      "w =  15\n"
     ]
    }
   ],
   "source": [
    "!identify {image_file}\n",
    "\n",
    "h = !identify -format '%h' {image_file}\n",
    "h = int(h[0])\n",
    "print('h = ' , h)\n",
    "\n",
    "w = !identify -format '%w' {image_file}\n",
    "w = int(w[0])\n",
    "print('w = ' , w)\n"
   ]
  },
  {
   "cell_type": "markdown",
   "metadata": {},
   "source": [
    "### call to C++ - get image as int array pointer"
   ]
  },
  {
   "cell_type": "markdown",
   "metadata": {},
   "source": [
    "**shared** lib from C++ / C, might have dylib extension\n",
    "**NOTE** you must put .encode() on strings passed to C++/C due to endian encoding\n",
    "explained in answer at https://stackoverflow.com/questions/52916077/calling-c-function-from-python"
   ]
  },
  {
   "cell_type": "code",
   "execution_count": 34,
   "metadata": {},
   "outputs": [],
   "source": [
    "import ctypes\n",
    "from ctypes import *\n",
    "import numpy as np\n",
    "from PIL import Image\n",
    "\n",
    "get_data = cdll.LoadLibrary('./cmake-build-debug/libdirt_lib.dylib').get_data\n",
    "get_data.restype = ctypes.POINTER(ctypes.c_int * (h*w*3))\n",
    "result = get_data(image_file.encode())"
   ]
  },
  {
   "cell_type": "code",
   "execution_count": 22,
   "metadata": {},
   "outputs": [
    {
     "data": {
      "text/plain": [
       "675"
      ]
     },
     "execution_count": 22,
     "metadata": {},
     "output_type": "execute_result"
    }
   ],
   "source": [
    "bgr_pixels = np.ctypeslib.as_array(result,shape=(1,)).reshape((h*w*3)).tolist()\n",
    "len(bgr_pixels)"
   ]
  },
  {
   "cell_type": "code",
   "execution_count": 56,
   "metadata": {},
   "outputs": [],
   "source": [
    "blue = list()\n",
    "green = list()\n",
    "red = list()\n",
    "for i, bgr in enumerate(bgr_pixels):\n",
    "    if i%3 is 0:\n",
    "        blue.append(bgr)\n",
    "    if i%3 is 1:\n",
    "        green.append(bgr)\n",
    "    if i%3 is 2:\n",
    "        red.append(bgr)   "
   ]
  },
  {
   "cell_type": "markdown",
   "metadata": {},
   "source": [
    "### play with color channels"
   ]
  },
  {
   "cell_type": "code",
   "execution_count": 69,
   "metadata": {},
   "outputs": [
    {
     "data": {
      "image/png": "[encoded data removed]",
      "text/plain": [
       "<PIL.Image.Image image mode=L size=15x15 at 0x11D246240>"
      ]
     },
     "metadata": {},
     "output_type": "display_data"
    },
    {
     "data": {
      "image/png": "[encoded data removed]",
      "text/plain": [
       "<PIL.Image.Image image mode=L size=15x15 at 0x11D246240>"
      ]
     },
     "metadata": {},
     "output_type": "display_data"
    },
    {
     "data": {
      "image/png": "[encoded data removed]",
      "text/plain": [
       "<PIL.Image.Image image mode=L size=15x15 at 0x11D246240>"
      ]
     },
     "metadata": {},
     "output_type": "display_data"
    }
   ],
   "source": [
    "im2 = Image.new('L', (w,h))\n",
    "im2.putdata(red)\n",
    "display(im2)\n",
    "im2.putdata(blue)\n",
    "display(im2)\n",
    "im2.putdata(green)\n",
    "display(im2)"
   ]
  },
  {
   "cell_type": "code",
   "execution_count": 93,
   "metadata": {},
   "outputs": [
    {
     "name": "stdout",
     "output_type": "stream",
     "text": [
      "(15, 15)\n"
     ]
    },
    {
     "data": {
      "image/png": "[encoded data removed]",
      "text/plain": [
       "<PIL.PngImagePlugin.PngImageFile image mode=RGBA size=15x15 at 0x118819E48>"
      ]
     },
     "metadata": {},
     "output_type": "display_data"
    }
   ],
   "source": [
    "\n",
    "img = Image.open(image_file) # Can be many different formats.\n",
    "print (im.size)  # Get the width and hight of the image for iterating over\n",
    "display(img)"
   ]
  },
  {
   "cell_type": "code",
   "execution_count": 114,
   "metadata": {},
   "outputs": [],
   "source": [
    "pixels = list(img.getdata())"
   ]
  },
  {
   "cell_type": "code",
   "execution_count": 116,
   "metadata": {},
   "outputs": [
    {
     "data": {
      "text/plain": [
       "[(235, 237, 239, 255),\n",
       " (234, 235, 238, 255),\n",
       " (240, 243, 243, 255),\n",
       " (238, 239, 238, 255),\n",
       " (245, 245, 246, 255),\n",
       " (242, 244, 246, 255),\n",
       " (244, 246, 249, 255),\n",
       " (243, 245, 249, 255),\n",
       " (241, 244, 246, 255),\n",
       " (244, 248, 248, 255),\n",
       " (238, 239, 239, 255),\n",
       " (241, 242, 242, 255),\n",
       " (236, 236, 239, 255),\n",
       " (235, 238, 239, 255),\n",
       " (232, 236, 238, 255),\n",
       " (239, 241, 241, 255),\n",
       " (237, 237, 239, 255),\n",
       " (243, 247, 249, 255),\n",
       " (239, 240, 242, 255),\n",
       " (243, 239, 232, 255),\n",
       " (239, 224, 206, 255),\n",
       " (243, 219, 192, 255),\n",
       " (242, 223, 193, 255),\n",
       " (237, 212, 191, 255),\n",
       " (238, 205, 208, 255),\n",
       " (237, 234, 232, 255),\n",
       " (244, 250, 250, 255),\n",
       " (239, 240, 241, 255),\n",
       " (239, 241, 241, 255),\n",
       " (236, 239, 239, 255),\n",
       " (243, 244, 245, 255),\n",
       " (239, 237, 233, 255),\n",
       " (242, 224, 195, 255),\n",
       " (236, 202, 155, 255),\n",
       " (241, 201, 140, 255),\n",
       " (239, 202, 143, 255),\n",
       " (240, 165, 93, 255),\n",
       " (240, 125, 89, 255),\n",
       " (237, 73, 107, 255),\n",
       " (241, 54, 110, 255),\n",
       " (234, 129, 120, 255),\n",
       " (239, 186, 180, 255),\n",
       " (239, 234, 236, 255),\n",
       " (245, 246, 245, 255),\n",
       " (241, 242, 241, 255),\n",
       " (245, 247, 248, 255),\n",
       " (238, 226, 204, 255),\n",
       " (242, 176, 91, 255),\n",
       " (240, 150, 94, 255),\n",
       " (242, 134, 114, 255),\n",
       " (238, 128, 103, 255),\n",
       " (226, 68, 94, 255),\n",
       " (230, 20, 99, 255),\n",
       " (234, 32, 109, 255),\n",
       " (239, 37, 112, 255),\n",
       " (236, 70, 96, 255),\n",
       " (238, 60, 88, 255),\n",
       " (237, 137, 167, 255),\n",
       " (245, 250, 248, 255),\n",
       " (245, 245, 245, 255),\n",
       " (244, 244, 244, 255),\n",
       " (235, 236, 233, 255),\n",
       " (240, 181, 136, 255),\n",
       " (233, 122, 100, 255),\n",
       " (239, 128, 124, 255),\n",
       " (236, 164, 149, 255),\n",
       " (228, 148, 176, 255),\n",
       " (222, 93, 149, 255),\n",
       " (225, 53, 107, 255),\n",
       " (237, 68, 106, 255),\n",
       " (216, 71, 103, 255),\n",
       " (192, 48, 88, 255),\n",
       " (201, 59, 104, 255),\n",
       " (235, 211, 221, 255),\n",
       " (244, 247, 245, 255),\n",
       " (246, 246, 246, 255),\n",
       " (243, 244, 244, 255),\n",
       " (245, 242, 241, 255),\n",
       " (242, 233, 232, 255),\n",
       " (244, 244, 244, 255),\n",
       " (244, 249, 249, 255),\n",
       " (246, 254, 250, 255),\n",
       " (243, 252, 251, 255),\n",
       " (233, 76, 127, 255),\n",
       " (243, 49, 98, 255),\n",
       " (218, 73, 101, 255),\n",
       " (175, 41, 96, 255),\n",
       " (172, 29, 116, 255),\n",
       " (233, 208, 224, 255),\n",
       " (246, 249, 247, 255),\n",
       " (244, 244, 244, 255),\n",
       " (238, 238, 238, 255),\n",
       " (246, 247, 247, 255),\n",
       " (237, 238, 238, 255),\n",
       " (245, 245, 245, 255),\n",
       " (240, 240, 240, 255),\n",
       " (242, 247, 248, 255),\n",
       " (237, 202, 213, 255),\n",
       " (230, 66, 103, 255),\n",
       " (238, 51, 87, 255),\n",
       " (223, 47, 96, 255),\n",
       " (198, 9, 110, 255),\n",
       " (189, 50, 138, 255),\n",
       " (239, 235, 239, 255),\n",
       " (243, 243, 243, 255),\n",
       " (245, 245, 245, 255),\n",
       " (241, 241, 241, 255),\n",
       " (246, 246, 246, 255),\n",
       " (242, 241, 242, 255),\n",
       " (245, 246, 247, 255),\n",
       " (243, 246, 248, 255),\n",
       " (240, 222, 206, 255),\n",
       " (233, 117, 106, 255),\n",
       " (237, 91, 80, 255),\n",
       " (241, 57, 84, 255),\n",
       " (238, 19, 85, 255),\n",
       " (230, 25, 110, 255),\n",
       " (229, 167, 197, 255),\n",
       " (245, 248, 248, 255),\n",
       " (245, 245, 245, 255),\n",
       " (244, 244, 244, 255),\n",
       " (238, 238, 238, 255),\n",
       " (246, 246, 246, 255),\n",
       " (239, 241, 244, 255),\n",
       " (243, 238, 230, 255),\n",
       " (238, 197, 153, 255),\n",
       " (241, 168, 88, 255),\n",
       " (239, 116, 83, 255),\n",
       " (236, 44, 85, 255),\n",
       " (241, 16, 81, 255),\n",
       " (230, 37, 95, 255),\n",
       " (233, 167, 196, 255),\n",
       " (241, 247, 245, 255),\n",
       " (245, 244, 244, 255),\n",
       " (243, 243, 243, 255),\n",
       " (244, 244, 244, 255),\n",
       " (240, 240, 241, 255),\n",
       " (246, 248, 249, 255),\n",
       " (238, 226, 207, 255),\n",
       " (238, 201, 146, 255),\n",
       " (237, 191, 125, 255),\n",
       " (237, 178, 122, 255),\n",
       " (232, 98, 90, 255),\n",
       " (227, 39, 92, 255),\n",
       " (229, 73, 126, 255),\n",
       " (234, 195, 208, 255),\n",
       " (249, 254, 250, 255),\n",
       " (243, 244, 242, 255),\n",
       " (244, 244, 244, 255),\n",
       " (244, 244, 244, 255),\n",
       " (244, 244, 245, 255),\n",
       " (240, 241, 237, 255),\n",
       " (242, 210, 164, 255),\n",
       " (240, 180, 105, 255),\n",
       " (244, 206, 138, 255),\n",
       " (236, 182, 137, 255),\n",
       " (233, 111, 96, 255),\n",
       " (237, 102, 98, 255),\n",
       " (235, 106, 120, 255),\n",
       " (173, 140, 177, 255),\n",
       " (143, 157, 198, 255),\n",
       " (130, 159, 216, 255),\n",
       " (201, 210, 228, 255),\n",
       " (248, 247, 245, 255),\n",
       " (244, 244, 244, 255),\n",
       " (242, 248, 247, 255),\n",
       " (232, 198, 195, 255),\n",
       " (242, 120, 89, 255),\n",
       " (236, 127, 93, 255),\n",
       " (226, 127, 112, 255),\n",
       " (231, 95, 108, 255),\n",
       " (242, 90, 116, 255),\n",
       " (241, 95, 125, 255),\n",
       " (243, 101, 127, 255),\n",
       " (209, 89, 134, 255),\n",
       " (115, 80, 153, 255),\n",
       " (101, 55, 136, 255),\n",
       " (178, 141, 179, 255),\n",
       " (249, 251, 249, 255),\n",
       " (243, 243, 243, 255),\n",
       " (245, 251, 250, 255),\n",
       " (235, 183, 197, 255),\n",
       " (230, 49, 103, 255),\n",
       " (205, 29, 97, 255),\n",
       " (181, 22, 97, 255),\n",
       " (194, 29, 97, 255),\n",
       " (229, 41, 96, 255),\n",
       " (241, 42, 95, 255),\n",
       " (227, 27, 95, 255),\n",
       " (220, 9, 97, 255),\n",
       " (198, 5, 99, 255),\n",
       " (158, 12, 105, 255),\n",
       " (197, 152, 187, 255),\n",
       " (249, 253, 249, 255),\n",
       " (245, 245, 245, 255),\n",
       " (242, 244, 244, 255),\n",
       " (232, 231, 232, 255),\n",
       " (232, 196, 212, 255),\n",
       " (210, 166, 187, 255),\n",
       " (213, 169, 191, 255),\n",
       " (210, 165, 188, 255),\n",
       " (214, 167, 188, 255),\n",
       " (225, 164, 185, 255),\n",
       " (218, 158, 185, 255),\n",
       " (223, 163, 190, 255),\n",
       " (220, 158, 185, 255),\n",
       " (224, 172, 200, 255),\n",
       " (233, 227, 230, 255),\n",
       " (244, 244, 244, 255),\n",
       " (242, 242, 242, 255),\n",
       " (247, 247, 247, 255),\n",
       " (244, 244, 244, 255),\n",
       " (241, 244, 243, 255),\n",
       " (237, 242, 240, 255),\n",
       " (234, 238, 236, 255),\n",
       " (229, 234, 232, 255),\n",
       " (228, 234, 232, 255),\n",
       " (227, 234, 231, 255),\n",
       " (228, 235, 232, 255),\n",
       " (232, 239, 236, 255),\n",
       " (235, 242, 239, 255),\n",
       " (241, 247, 244, 255),\n",
       " (245, 244, 245, 255),\n",
       " (247, 247, 247, 255),\n",
       " (247, 247, 247, 255)]"
      ]
     },
     "execution_count": 116,
     "metadata": {},
     "output_type": "execute_result"
    }
   ],
   "source": [
    "pixels"
   ]
  },
  {
   "cell_type": "code",
   "execution_count": 118,
   "metadata": {},
   "outputs": [],
   "source": [
    "data = np.asarray(img)"
   ]
  },
  {
   "cell_type": "code",
   "execution_count": 119,
   "metadata": {},
   "outputs": [
    {
     "data": {
      "text/plain": [
       "array([[[235, 237, 239, 255],\n",
       "        [234, 235, 238, 255],\n",
       "        [240, 243, 243, 255],\n",
       "        [238, 239, 238, 255],\n",
       "        [245, 245, 246, 255],\n",
       "        [242, 244, 246, 255],\n",
       "        [244, 246, 249, 255],\n",
       "        [243, 245, 249, 255],\n",
       "        [241, 244, 246, 255],\n",
       "        [244, 248, 248, 255],\n",
       "        [238, 239, 239, 255],\n",
       "        [241, 242, 242, 255],\n",
       "        [236, 236, 239, 255],\n",
       "        [235, 238, 239, 255],\n",
       "        [232, 236, 238, 255]],\n",
       "\n",
       "       [[239, 241, 241, 255],\n",
       "        [237, 237, 239, 255],\n",
       "        [243, 247, 249, 255],\n",
       "        [239, 240, 242, 255],\n",
       "        [243, 239, 232, 255],\n",
       "        [239, 224, 206, 255],\n",
       "        [243, 219, 192, 255],\n",
       "        [242, 223, 193, 255],\n",
       "        [237, 212, 191, 255],\n",
       "        [238, 205, 208, 255],\n",
       "        [237, 234, 232, 255],\n",
       "        [244, 250, 250, 255],\n",
       "        [239, 240, 241, 255],\n",
       "        [239, 241, 241, 255],\n",
       "        [236, 239, 239, 255]],\n",
       "\n",
       "       [[243, 244, 245, 255],\n",
       "        [239, 237, 233, 255],\n",
       "        [242, 224, 195, 255],\n",
       "        [236, 202, 155, 255],\n",
       "        [241, 201, 140, 255],\n",
       "        [239, 202, 143, 255],\n",
       "        [240, 165,  93, 255],\n",
       "        [240, 125,  89, 255],\n",
       "        [237,  73, 107, 255],\n",
       "        [241,  54, 110, 255],\n",
       "        [234, 129, 120, 255],\n",
       "        [239, 186, 180, 255],\n",
       "        [239, 234, 236, 255],\n",
       "        [245, 246, 245, 255],\n",
       "        [241, 242, 241, 255]],\n",
       "\n",
       "       [[245, 247, 248, 255],\n",
       "        [238, 226, 204, 255],\n",
       "        [242, 176,  91, 255],\n",
       "        [240, 150,  94, 255],\n",
       "        [242, 134, 114, 255],\n",
       "        [238, 128, 103, 255],\n",
       "        [226,  68,  94, 255],\n",
       "        [230,  20,  99, 255],\n",
       "        [234,  32, 109, 255],\n",
       "        [239,  37, 112, 255],\n",
       "        [236,  70,  96, 255],\n",
       "        [238,  60,  88, 255],\n",
       "        [237, 137, 167, 255],\n",
       "        [245, 250, 248, 255],\n",
       "        [245, 245, 245, 255]],\n",
       "\n",
       "       [[244, 244, 244, 255],\n",
       "        [235, 236, 233, 255],\n",
       "        [240, 181, 136, 255],\n",
       "        [233, 122, 100, 255],\n",
       "        [239, 128, 124, 255],\n",
       "        [236, 164, 149, 255],\n",
       "        [228, 148, 176, 255],\n",
       "        [222,  93, 149, 255],\n",
       "        [225,  53, 107, 255],\n",
       "        [237,  68, 106, 255],\n",
       "        [216,  71, 103, 255],\n",
       "        [192,  48,  88, 255],\n",
       "        [201,  59, 104, 255],\n",
       "        [235, 211, 221, 255],\n",
       "        [244, 247, 245, 255]],\n",
       "\n",
       "       [[246, 246, 246, 255],\n",
       "        [243, 244, 244, 255],\n",
       "        [245, 242, 241, 255],\n",
       "        [242, 233, 232, 255],\n",
       "        [244, 244, 244, 255],\n",
       "        [244, 249, 249, 255],\n",
       "        [246, 254, 250, 255],\n",
       "        [243, 252, 251, 255],\n",
       "        [233,  76, 127, 255],\n",
       "        [243,  49,  98, 255],\n",
       "        [218,  73, 101, 255],\n",
       "        [175,  41,  96, 255],\n",
       "        [172,  29, 116, 255],\n",
       "        [233, 208, 224, 255],\n",
       "        [246, 249, 247, 255]],\n",
       "\n",
       "       [[244, 244, 244, 255],\n",
       "        [238, 238, 238, 255],\n",
       "        [246, 247, 247, 255],\n",
       "        [237, 238, 238, 255],\n",
       "        [245, 245, 245, 255],\n",
       "        [240, 240, 240, 255],\n",
       "        [242, 247, 248, 255],\n",
       "        [237, 202, 213, 255],\n",
       "        [230,  66, 103, 255],\n",
       "        [238,  51,  87, 255],\n",
       "        [223,  47,  96, 255],\n",
       "        [198,   9, 110, 255],\n",
       "        [189,  50, 138, 255],\n",
       "        [239, 235, 239, 255],\n",
       "        [243, 243, 243, 255]],\n",
       "\n",
       "       [[245, 245, 245, 255],\n",
       "        [241, 241, 241, 255],\n",
       "        [246, 246, 246, 255],\n",
       "        [242, 241, 242, 255],\n",
       "        [245, 246, 247, 255],\n",
       "        [243, 246, 248, 255],\n",
       "        [240, 222, 206, 255],\n",
       "        [233, 117, 106, 255],\n",
       "        [237,  91,  80, 255],\n",
       "        [241,  57,  84, 255],\n",
       "        [238,  19,  85, 255],\n",
       "        [230,  25, 110, 255],\n",
       "        [229, 167, 197, 255],\n",
       "        [245, 248, 248, 255],\n",
       "        [245, 245, 245, 255]],\n",
       "\n",
       "       [[244, 244, 244, 255],\n",
       "        [238, 238, 238, 255],\n",
       "        [246, 246, 246, 255],\n",
       "        [239, 241, 244, 255],\n",
       "        [243, 238, 230, 255],\n",
       "        [238, 197, 153, 255],\n",
       "        [241, 168,  88, 255],\n",
       "        [239, 116,  83, 255],\n",
       "        [236,  44,  85, 255],\n",
       "        [241,  16,  81, 255],\n",
       "        [230,  37,  95, 255],\n",
       "        [233, 167, 196, 255],\n",
       "        [241, 247, 245, 255],\n",
       "        [245, 244, 244, 255],\n",
       "        [243, 243, 243, 255]],\n",
       "\n",
       "       [[244, 244, 244, 255],\n",
       "        [240, 240, 241, 255],\n",
       "        [246, 248, 249, 255],\n",
       "        [238, 226, 207, 255],\n",
       "        [238, 201, 146, 255],\n",
       "        [237, 191, 125, 255],\n",
       "        [237, 178, 122, 255],\n",
       "        [232,  98,  90, 255],\n",
       "        [227,  39,  92, 255],\n",
       "        [229,  73, 126, 255],\n",
       "        [234, 195, 208, 255],\n",
       "        [249, 254, 250, 255],\n",
       "        [243, 244, 242, 255],\n",
       "        [244, 244, 244, 255],\n",
       "        [244, 244, 244, 255]],\n",
       "\n",
       "       [[244, 244, 245, 255],\n",
       "        [240, 241, 237, 255],\n",
       "        [242, 210, 164, 255],\n",
       "        [240, 180, 105, 255],\n",
       "        [244, 206, 138, 255],\n",
       "        [236, 182, 137, 255],\n",
       "        [233, 111,  96, 255],\n",
       "        [237, 102,  98, 255],\n",
       "        [235, 106, 120, 255],\n",
       "        [173, 140, 177, 255],\n",
       "        [143, 157, 198, 255],\n",
       "        [130, 159, 216, 255],\n",
       "        [201, 210, 228, 255],\n",
       "        [248, 247, 245, 255],\n",
       "        [244, 244, 244, 255]],\n",
       "\n",
       "       [[242, 248, 247, 255],\n",
       "        [232, 198, 195, 255],\n",
       "        [242, 120,  89, 255],\n",
       "        [236, 127,  93, 255],\n",
       "        [226, 127, 112, 255],\n",
       "        [231,  95, 108, 255],\n",
       "        [242,  90, 116, 255],\n",
       "        [241,  95, 125, 255],\n",
       "        [243, 101, 127, 255],\n",
       "        [209,  89, 134, 255],\n",
       "        [115,  80, 153, 255],\n",
       "        [101,  55, 136, 255],\n",
       "        [178, 141, 179, 255],\n",
       "        [249, 251, 249, 255],\n",
       "        [243, 243, 243, 255]],\n",
       "\n",
       "       [[245, 251, 250, 255],\n",
       "        [235, 183, 197, 255],\n",
       "        [230,  49, 103, 255],\n",
       "        [205,  29,  97, 255],\n",
       "        [181,  22,  97, 255],\n",
       "        [194,  29,  97, 255],\n",
       "        [229,  41,  96, 255],\n",
       "        [241,  42,  95, 255],\n",
       "        [227,  27,  95, 255],\n",
       "        [220,   9,  97, 255],\n",
       "        [198,   5,  99, 255],\n",
       "        [158,  12, 105, 255],\n",
       "        [197, 152, 187, 255],\n",
       "        [249, 253, 249, 255],\n",
       "        [245, 245, 245, 255]],\n",
       "\n",
       "       [[242, 244, 244, 255],\n",
       "        [232, 231, 232, 255],\n",
       "        [232, 196, 212, 255],\n",
       "        [210, 166, 187, 255],\n",
       "        [213, 169, 191, 255],\n",
       "        [210, 165, 188, 255],\n",
       "        [214, 167, 188, 255],\n",
       "        [225, 164, 185, 255],\n",
       "        [218, 158, 185, 255],\n",
       "        [223, 163, 190, 255],\n",
       "        [220, 158, 185, 255],\n",
       "        [224, 172, 200, 255],\n",
       "        [233, 227, 230, 255],\n",
       "        [244, 244, 244, 255],\n",
       "        [242, 242, 242, 255]],\n",
       "\n",
       "       [[247, 247, 247, 255],\n",
       "        [244, 244, 244, 255],\n",
       "        [241, 244, 243, 255],\n",
       "        [237, 242, 240, 255],\n",
       "        [234, 238, 236, 255],\n",
       "        [229, 234, 232, 255],\n",
       "        [228, 234, 232, 255],\n",
       "        [227, 234, 231, 255],\n",
       "        [228, 235, 232, 255],\n",
       "        [232, 239, 236, 255],\n",
       "        [235, 242, 239, 255],\n",
       "        [241, 247, 244, 255],\n",
       "        [245, 244, 245, 255],\n",
       "        [247, 247, 247, 255],\n",
       "        [247, 247, 247, 255]]], dtype=uint8)"
      ]
     },
     "execution_count": 119,
     "metadata": {},
     "output_type": "execute_result"
    }
   ],
   "source": [
    "data"
   ]
  },
  {
   "cell_type": "code",
   "execution_count": 122,
   "metadata": {},
   "outputs": [
    {
     "name": "stdout",
     "output_type": "stream",
     "text": [
      "225\n",
      "15\n",
      "15\n",
      "225\n"
     ]
    },
    {
     "data": {
      "text/plain": [
       "[235, 237, 239, 255, 234, 235, 238, 255, 240, 243]"
      ]
     },
     "execution_count": 122,
     "metadata": {},
     "output_type": "execute_result"
    }
   ],
   "source": [
    "flat_pixels = np.array(img).flatten().tolist()\n",
    "print((int)(len(flat_pixels)/4))\n",
    "print(h)\n",
    "print(w)\n",
    "frame_size = h*w\n",
    "print(frame_size)\n",
    "red = flat_pixels[0:frame_size-1]\n",
    "green = flat_pixels[frame_size:(frame_size*2)-1]\n",
    "blue = flat_pixels[(frame_size*2):(frame_size*3)-1]\n",
    "alpha = flat_pixels[(frame_size*3):(frame_size*4)-1]\n",
    "flat_pixels[0:10]"
   ]
  },
  {
   "cell_type": "code",
   "execution_count": null,
   "metadata": {},
   "outputs": [],
   "source": []
  },
  {
   "cell_type": "code",
   "execution_count": null,
   "metadata": {},
   "outputs": [],
   "source": []
  },
  {
   "cell_type": "code",
   "execution_count": null,
   "metadata": {},
   "outputs": [],
   "source": []
  },
  {
   "cell_type": "code",
   "execution_count": null,
   "metadata": {},
   "outputs": [],
   "source": []
  },
  {
   "cell_type": "code",
   "execution_count": null,
   "metadata": {},
   "outputs": [],
   "source": []
  }
 ],
 "metadata": {
  "kernelspec": {
   "display_name": "Python 3",
   "language": "python",
   "name": "python3"
  },
  "language_info": {
   "codemirror_mode": {
    "name": "ipython",
    "version": 3
   },
   "file_extension": ".py",
   "mimetype": "text/x-python",
   "name": "python",
   "nbconvert_exporter": "python",
   "pygments_lexer": "ipython3",
   "version": "3.7.2"
  },
  "toc": {
   "base_numbering": 1,
   "nav_menu": {},
   "number_sections": true,
   "sideBar": true,
   "skip_h1_title": true,
   "title_cell": "contents",
   "title_sidebar": "contents",
   "toc_cell": true,
   "toc_position": {},
   "toc_section_display": true,
   "toc_window_display": true
  }
 },
 "nbformat": 4,
 "nbformat_minor": 2
}
