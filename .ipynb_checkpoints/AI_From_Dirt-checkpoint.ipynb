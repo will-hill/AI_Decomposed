{
 "cells": [
  {
   "cell_type": "markdown",
   "metadata": {
    "toc": true
   },
   "source": [
    "<h1>contents<span class=\"tocSkip\"></span></h1>\n",
    "<div class=\"toc\"><ul class=\"toc-item\"><li><span><a href=\"#Volley-Python-Array-w/-C++\" data-toc-modified-id=\"Volley-Python-Array-w/-C++-1\"><span class=\"toc-item-num\">1&nbsp;&nbsp;</span>Volley Python Array w/ C++</a></span><ul class=\"toc-item\"><li><span><a href=\"#C++----array-reversal\" data-toc-modified-id=\"C++----array-reversal-1.1\"><span class=\"toc-item-num\">1.1&nbsp;&nbsp;</span>C++    array reversal</a></span></li><li><span><a href=\"#prime-list-to-numpy-array\" data-toc-modified-id=\"prime-list-to-numpy-array-1.2\"><span class=\"toc-item-num\">1.2&nbsp;&nbsp;</span>prime list to numpy array</a></span></li><li><span><a href=\"#C++-pointer\" data-toc-modified-id=\"C++-pointer-1.3\"><span class=\"toc-item-num\">1.3&nbsp;&nbsp;</span>C++ pointer</a></span></li><li><span><a href=\"#C++-from-Python-(primes-array-reversal)\" data-toc-modified-id=\"C++-from-Python-(primes-array-reversal)-1.4\"><span class=\"toc-item-num\">1.4&nbsp;&nbsp;</span>C++ from Python (primes array reversal)</a></span></li><li><span><a href=\"#C++-result-to-numpy-array\" data-toc-modified-id=\"C++-result-to-numpy-array-1.5\"><span class=\"toc-item-num\">1.5&nbsp;&nbsp;</span>C++ result to numpy array</a></span></li></ul></li><li><span><a href=\"#C++-to-Py-:-extract-pixels-and-channels\" data-toc-modified-id=\"C++-to-Py-:-extract-pixels-and-channels-2\"><span class=\"toc-item-num\">2&nbsp;&nbsp;</span>C++ to Py : extract pixels and channels</a></span><ul class=\"toc-item\"><li><span><a href=\"#determine-image-dimensions-and-channels\" data-toc-modified-id=\"determine-image-dimensions-and-channels-2.1\"><span class=\"toc-item-num\">2.1&nbsp;&nbsp;</span>determine image dimensions and channels</a></span></li><li><span><a href=\"#call-to-C++---get-image-as-int-array-pointer\" data-toc-modified-id=\"call-to-C++---get-image-as-int-array-pointer-2.2\"><span class=\"toc-item-num\">2.2&nbsp;&nbsp;</span>call to C++ - get image as int array pointer</a></span></li><li><span><a href=\"#play-with-color-channels\" data-toc-modified-id=\"play-with-color-channels-2.3\"><span class=\"toc-item-num\">2.3&nbsp;&nbsp;</span>play with color channels</a></span></li><li><span><a href=\"#pixel-extraction-in-python\" data-toc-modified-id=\"pixel-extraction-in-python-2.4\"><span class=\"toc-item-num\">2.4&nbsp;&nbsp;</span>pixel extraction in python</a></span></li></ul></li><li><span><a href=\"#Max-Pooling-Convolution-of-Single-Channel-with-2-x-2-Kernel\" data-toc-modified-id=\"Max-Pooling-Convolution-of-Single-Channel-with-2-x-2-Kernel-3\"><span class=\"toc-item-num\">3&nbsp;&nbsp;</span>Max Pooling Convolution of Single Channel with 2 x 2 Kernel</a></span><ul class=\"toc-item\"><li><span><a href=\"#Python-Max-Pooling-Convolution\" data-toc-modified-id=\"Python-Max-Pooling-Convolution-3.1\"><span class=\"toc-item-num\">3.1&nbsp;&nbsp;</span>Python Max Pooling Convolution</a></span></li><li><span><a href=\"#Visual-Display---Py-Max-Pooling-Convolution-w/2x2-Kernel\" data-toc-modified-id=\"Visual-Display---Py-Max-Pooling-Convolution-w/2x2-Kernel-3.2\"><span class=\"toc-item-num\">3.2&nbsp;&nbsp;</span>Visual Display - Py Max Pooling Convolution w/2x2 Kernel</a></span></li><li><span><a href=\"#Max-Pooling-Convolution-Kernel-on-Single-Channel---2-x-2-Windowing---C++\" data-toc-modified-id=\"Max-Pooling-Convolution-Kernel-on-Single-Channel---2-x-2-Windowing---C++-3.3\"><span class=\"toc-item-num\">3.3&nbsp;&nbsp;</span>Max Pooling Convolution Kernel on Single Channel - 2 x 2 Windowing - C++</a></span><ul class=\"toc-item\"><li><span><a href=\"#Display-Image\" data-toc-modified-id=\"Display-Image-3.3.1\"><span class=\"toc-item-num\">3.3.1&nbsp;&nbsp;</span>Display Image</a></span></li><li><span><a href=\"#C++-----&gt;-image-flattend-to-int-array-pointer\" data-toc-modified-id=\"C++----->-image-flattend-to-int-array-pointer-3.3.2\"><span class=\"toc-item-num\">3.3.2&nbsp;&nbsp;</span><strong>C++</strong>    -&gt; image flattend to int array pointer</a></span></li><li><span><a href=\"#Python-C++-pointer-array-to-Python-list\" data-toc-modified-id=\"Python-C++-pointer-array-to-Python-list-3.3.3\"><span class=\"toc-item-num\">3.3.3&nbsp;&nbsp;</span><strong>Python</strong> C++ pointer array to Python list</a></span></li><li><span><a href=\"#Python-extract-green-channel\" data-toc-modified-id=\"Python-extract-green-channel-3.3.4\"><span class=\"toc-item-num\">3.3.4&nbsp;&nbsp;</span><strong>Python</strong> extract green channel</a></span></li><li><span><a href=\"#C++--convolution-:-2x2-max-pool-kernel\" data-toc-modified-id=\"C++--convolution-:-2x2-max-pool-kernel-3.3.5\"><span class=\"toc-item-num\">3.3.5&nbsp;&nbsp;</span><strong>C++</strong>  convolution : 2x2 max pool kernel</a></span></li><li><span><a href=\"#Numpy-flatten-convolution\" data-toc-modified-id=\"Numpy-flatten-convolution-3.3.6\"><span class=\"toc-item-num\">3.3.6&nbsp;&nbsp;</span><strong>Numpy</strong> flatten convolution</a></span></li><li><span><a href=\"#Python--flat-convolution-to-image\" data-toc-modified-id=\"Python--flat-convolution-to-image-3.3.7\"><span class=\"toc-item-num\">3.3.7&nbsp;&nbsp;</span><strong>Python</strong>  flat convolution to image</a></span></li><li><span><a href=\"#All-together-for-fun\" data-toc-modified-id=\"All-together-for-fun-3.3.8\"><span class=\"toc-item-num\">3.3.8&nbsp;&nbsp;</span>All together for fun</a></span></li></ul></li><li><span><a href=\"#Even-more-all-together\" data-toc-modified-id=\"Even-more-all-together-3.4\"><span class=\"toc-item-num\">3.4&nbsp;&nbsp;</span>Even more all together</a></span></li></ul></li></ul></div>"
   ]
  },
  {
   "cell_type": "markdown",
   "metadata": {},
   "source": [
    "# Building AI from Dirt (aka C/C++)"
   ]
  },
  {
   "cell_type": "markdown",
   "metadata": {},
   "source": [
    "## Volley Python Array w/ C++ "
   ]
  },
  {
   "cell_type": "markdown",
   "metadata": {},
   "source": [
    "### C++    array reversal"
   ]
  },
  {
   "cell_type": "code",
   "execution_count": null,
   "metadata": {},
   "outputs": [],
   "source": [
    "\"DO NOT RUN THIS CODE - JUST FOR SHOW - LOOKS BETTER IN CODE CELL THAN MARKUP CELL\"\n",
    "extern \"C\"\n",
    "int *reverse_array(const int *input_array, const int size) {\n",
    "    int *rev_array = new int[size];\n",
    "    for (int i = 0; i < size; i++) {\n",
    "        rev_array[size - i] = input_array[i];\n",
    "    }\n",
    "    return rev_array;\n",
    "}\n",
    "\"DO NOT RUN THIS CODE - JUST FOR SHOW - LOOKS BETTER IN CODE CELL THAN MARKUP CELL\""
   ]
  },
  {
   "cell_type": "markdown",
   "metadata": {},
   "source": [
    "### prime list to numpy array"
   ]
  },
  {
   "cell_type": "code",
   "execution_count": 338,
   "metadata": {},
   "outputs": [],
   "source": [
    "import numpy as np\n",
    "import ctypes\n",
    "from ctypes import *\n",
    "\n",
    "primes = np.array([2,3,5,7,11])"
   ]
  },
  {
   "cell_type": "code",
   "execution_count": 339,
   "metadata": {},
   "outputs": [
    {
     "data": {
      "text/plain": [
       "(5,)"
      ]
     },
     "execution_count": 339,
     "metadata": {},
     "output_type": "execute_result"
    }
   ],
   "source": [
    "primes.shape"
   ]
  },
  {
   "cell_type": "code",
   "execution_count": 340,
   "metadata": {},
   "outputs": [
    {
     "data": {
      "text/plain": [
       "[2, 3, 5, 7, 11]"
      ]
     },
     "execution_count": 340,
     "metadata": {},
     "output_type": "execute_result"
    }
   ],
   "source": [
    "primes.tolist()"
   ]
  },
  {
   "cell_type": "markdown",
   "metadata": {},
   "source": [
    "### C++ pointer "
   ]
  },
  {
   "cell_type": "code",
   "execution_count": 341,
   "metadata": {},
   "outputs": [],
   "source": [
    "ptr_primes = pointer((ctypes.c_int * 5)(*primes))"
   ]
  },
  {
   "cell_type": "markdown",
   "metadata": {},
   "source": [
    "###  C++ from Python (primes array reversal)"
   ]
  },
  {
   "cell_type": "code",
   "execution_count": 342,
   "metadata": {},
   "outputs": [],
   "source": [
    "# assign C++ funtion to variable\n",
    "reverse_array = cdll.LoadLibrary('./cmake-build-debug/libdirt_lib.dylib').reverse_array\n",
    "# explicit return type definition (optional)\n",
    "reverse_array.restype = ctypes.POINTER(ctypes.c_int * 5)\n",
    "# call C++ funtion, store result\n",
    "result = reverse_array(ptr_primes,5)"
   ]
  },
  {
   "cell_type": "code",
   "execution_count": 343,
   "metadata": {},
   "outputs": [
    {
     "name": "stdout",
     "output_type": "stream",
     "text": [
      "<__main__.c_int_Array_5 object at 0x11d935840>\n"
     ]
    }
   ],
   "source": [
    "print(result.contents)"
   ]
  },
  {
   "cell_type": "code",
   "execution_count": 344,
   "metadata": {},
   "outputs": [
    {
     "name": "stdout",
     "output_type": "stream",
     "text": [
      "11\n",
      "7\n",
      "5\n",
      "3\n",
      "2\n"
     ]
    }
   ],
   "source": [
    "for p in result.contents:\n",
    "    print(p)"
   ]
  },
  {
   "cell_type": "markdown",
   "metadata": {},
   "source": [
    "### C++ result to numpy array"
   ]
  },
  {
   "cell_type": "code",
   "execution_count": 345,
   "metadata": {},
   "outputs": [
    {
     "data": {
      "text/plain": [
       "(5,)"
      ]
     },
     "execution_count": 345,
     "metadata": {},
     "output_type": "execute_result"
    }
   ],
   "source": [
    "primes.shape"
   ]
  },
  {
   "cell_type": "code",
   "execution_count": 346,
   "metadata": {},
   "outputs": [],
   "source": [
    "np_primes = np.ctypeslib.as_array(result,shape=(1,)).reshape(primes.shape)"
   ]
  },
  {
   "cell_type": "code",
   "execution_count": 347,
   "metadata": {},
   "outputs": [
    {
     "data": {
      "text/plain": [
       "(5,)"
      ]
     },
     "execution_count": 347,
     "metadata": {},
     "output_type": "execute_result"
    }
   ],
   "source": [
    "np_primes.shape"
   ]
  },
  {
   "cell_type": "code",
   "execution_count": 348,
   "metadata": {},
   "outputs": [
    {
     "data": {
      "text/plain": [
       "[11, 7, 5, 3, 2]"
      ]
     },
     "execution_count": 348,
     "metadata": {},
     "output_type": "execute_result"
    }
   ],
   "source": [
    "np_primes.tolist()"
   ]
  },
  {
   "cell_type": "markdown",
   "metadata": {},
   "source": [
    "## C++ to Py : extract pixels and channels"
   ]
  },
  {
   "cell_type": "code",
   "execution_count": 125,
   "metadata": {},
   "outputs": [
    {
     "name": "stdout",
     "output_type": "stream",
     "text": [
      "/Users/Bhill/git/AI_From_Dirt/two.png\r\n",
      "  pixelHeight: 59\r\n",
      "  pixelWidth: 46\r\n"
     ]
    }
   ],
   "source": [
    "!sips -g pixelHeight -g pixelWidth /Users/Bhill/git/AI_From_Dirt/two.png"
   ]
  },
  {
   "cell_type": "markdown",
   "metadata": {},
   "source": [
    "![tow](two.png)"
   ]
  },
  {
   "cell_type": "code",
   "execution_count": 126,
   "metadata": {},
   "outputs": [
    {
     "name": "stdout",
     "output_type": "stream",
     "text": [
      "/Users/Bhill/git/AI_From_Dirt/two.40x40.png\r\n",
      "  /Users/Bhill/git/AI_From_Dirt/two.40x40.png\r\n"
     ]
    }
   ],
   "source": [
    "image_file = '/Users/Bhill/git/AI_From_Dirt/two.40x40.png'\n",
    "!cp two.png {image_file} ; sips -z 40 40 {image_file}"
   ]
  },
  {
   "cell_type": "markdown",
   "metadata": {},
   "source": [
    "![two](two.40x40.png)"
   ]
  },
  {
   "cell_type": "markdown",
   "metadata": {},
   "source": [
    "### determine image dimensions and channels"
   ]
  },
  {
   "cell_type": "code",
   "execution_count": 127,
   "metadata": {},
   "outputs": [
    {
     "name": "stdout",
     "output_type": "stream",
     "text": [
      "/Users/Bhill/git/AI_From_Dirt/two.40x40.png PNG 40x40 40x40+0+0 8-bit sRGB 4817B 0.000u 0:00.000\n",
      "h =  40\n",
      "w =  40\n"
     ]
    }
   ],
   "source": [
    "!identify {image_file}\n",
    "\n",
    "h = !identify -format '%h' {image_file}\n",
    "h = int(h[0])\n",
    "print('h = ' , h)\n",
    "\n",
    "w = !identify -format '%w' {image_file}\n",
    "w = int(w[0])\n",
    "print('w = ' , w)\n"
   ]
  },
  {
   "cell_type": "markdown",
   "metadata": {},
   "source": [
    "### call to C++ - get image as int array pointer"
   ]
  },
  {
   "cell_type": "markdown",
   "metadata": {},
   "source": [
    "**shared** lib from C++ / C, might have dylib extension\n",
    "**NOTE** you must put .encode() on strings passed to C++/C due to endian encoding\n",
    "explained in answer at https://stackoverflow.com/questions/52916077/calling-c-function-from-python"
   ]
  },
  {
   "cell_type": "code",
   "execution_count": 128,
   "metadata": {},
   "outputs": [],
   "source": [
    "import ctypes\n",
    "from ctypes import *\n",
    "import numpy as np\n",
    "from PIL import Image\n",
    "\n",
    "get_data = cdll.LoadLibrary('./cmake-build-debug/libdirt_lib.dylib').get_data\n",
    "get_data.restype = ctypes.POINTER(ctypes.c_int * (h*w*3))\n",
    "result = get_data(image_file.encode())"
   ]
  },
  {
   "cell_type": "code",
   "execution_count": 129,
   "metadata": {},
   "outputs": [
    {
     "data": {
      "text/plain": [
       "4800"
      ]
     },
     "execution_count": 129,
     "metadata": {},
     "output_type": "execute_result"
    }
   ],
   "source": [
    "bgr_pixels = np.ctypeslib.as_array(result,shape=(1,)).reshape((h*w*3)).tolist()\n",
    "len(bgr_pixels)"
   ]
  },
  {
   "cell_type": "markdown",
   "metadata": {},
   "source": [
    "### play with color channels"
   ]
  },
  {
   "cell_type": "code",
   "execution_count": 130,
   "metadata": {},
   "outputs": [],
   "source": [
    "blue = list()\n",
    "green = list()\n",
    "red = list()\n",
    "for i, bgr in enumerate(bgr_pixels):\n",
    "    if i%3 is 0:\n",
    "        blue.append(bgr)\n",
    "    if i%3 is 1:\n",
    "        green.append(bgr)\n",
    "    if i%3 is 2:\n",
    "        red.append(bgr)   "
   ]
  },
  {
   "cell_type": "code",
   "execution_count": 131,
   "metadata": {},
   "outputs": [
    {
     "name": "stdout",
     "output_type": "stream",
     "text": [
      "higher intensity means lighter grey in grey scale\n",
      "\n",
      "orig\n"
     ]
    },
    {
     "data": {
      "image/png": "[encoded data removed]",
      "text/plain": [
       "<PIL.PngImagePlugin.PngImageFile image mode=RGBA size=40x40 at 0x111366828>"
      ]
     },
     "metadata": {},
     "output_type": "display_data"
    },
    {
     "name": "stdout",
     "output_type": "stream",
     "text": [
      "red\n"
     ]
    },
    {
     "data": {
      "image/png": "[encoded data removed]",
      "text/plain": [
       "<PIL.Image.Image image mode=L size=40x40 at 0x1113666D8>"
      ]
     },
     "metadata": {},
     "output_type": "display_data"
    },
    {
     "name": "stdout",
     "output_type": "stream",
     "text": [
      "blue\n"
     ]
    },
    {
     "data": {
      "image/png": "[encoded data removed]",
      "text/plain": [
       "<PIL.Image.Image image mode=L size=40x40 at 0x1113666D8>"
      ]
     },
     "metadata": {},
     "output_type": "display_data"
    },
    {
     "name": "stdout",
     "output_type": "stream",
     "text": [
      "green\n"
     ]
    },
    {
     "data": {
      "image/png": "[encoded data removed]",
      "text/plain": [
       "<PIL.Image.Image image mode=L size=40x40 at 0x1113666D8>"
      ]
     },
     "metadata": {},
     "output_type": "display_data"
    }
   ],
   "source": [
    "print('higher intensity means lighter grey in grey scale\\n')\n",
    "print('orig')\n",
    "display(Image.open(image_file))\n",
    "im2 = Image.new('L', (w,h))\n",
    "print('red')\n",
    "im2.putdata(red)\n",
    "display(im2)\n",
    "print('blue')\n",
    "im2.putdata(blue)\n",
    "display(im2)\n",
    "print('green')\n",
    "im2.putdata(green)\n",
    "display(im2)"
   ]
  },
  {
   "cell_type": "markdown",
   "metadata": {},
   "source": [
    "### pixel extraction in python"
   ]
  },
  {
   "cell_type": "code",
   "execution_count": 120,
   "metadata": {},
   "outputs": [
    {
     "name": "stdout",
     "output_type": "stream",
     "text": [
      "225\n",
      "40\n",
      "40\n",
      "1600\n"
     ]
    },
    {
     "data": {
      "text/plain": [
       "[235, 237, 239, 255, 234, 235, 238, 255, 240, 243]"
      ]
     },
     "execution_count": 120,
     "metadata": {},
     "output_type": "execute_result"
    }
   ],
   "source": [
    "py_flat_pixels = np.array(img).flatten().tolist()\n",
    "print((int)(len(flat_pixels)/4))\n",
    "print(h)\n",
    "print(w)\n",
    "frame_size = h*w\n",
    "print(frame_size)\n",
    "red = flat_pixels[0:frame_size-1]\n",
    "green = flat_pixels[frame_size:(frame_size*2)-1]\n",
    "blue = flat_pixels[(frame_size*2):(frame_size*3)-1]\n",
    "alpha = flat_pixels[(frame_size*3):(frame_size*4)-1]\n",
    "flat_pixels[0:10]"
   ]
  },
  {
   "cell_type": "markdown",
   "metadata": {},
   "source": [
    "## Max Pooling Convolution of Single Channel with 2 x 2 Kernel"
   ]
  },
  {
   "cell_type": "markdown",
   "metadata": {},
   "source": [
    "### Python Max Pooling Convolution"
   ]
  },
  {
   "cell_type": "markdown",
   "metadata": {},
   "source": [
    "Apply a 2x2 sliding window around image, starting at top-left, returning the max of those for pixels"
   ]
  },
  {
   "cell_type": "code",
   "execution_count": 317,
   "metadata": {},
   "outputs": [],
   "source": [
    "def max_2x2_kernel(mat,w):\n",
    "    h=(int)(len(mat)/w)\n",
    "    new_image = list()\n",
    "    for i,g in enumerate(mat):\n",
    "        if i >= (w*(h-1)): \n",
    "            break\n",
    "        if i!= 0 and (i+1) % w == 0:\n",
    "            continue\n",
    "        new_image.append(max(mat[i], mat[(i+1)] ,  mat[(i+w)],mat[(i+1+w)]))\n",
    "    return new_image"
   ]
  },
  {
   "cell_type": "code",
   "execution_count": 318,
   "metadata": {},
   "outputs": [
    {
     "data": {
      "text/plain": [
       "[6, 7, 8, 10, 11, 12]"
      ]
     },
     "execution_count": 318,
     "metadata": {},
     "output_type": "execute_result"
    }
   ],
   "source": [
    "max_2x2_kernel(mat=[1,2,3,4,5,6,7,8,9,10,11,12],w=4)"
   ]
  },
  {
   "cell_type": "code",
   "execution_count": 319,
   "metadata": {},
   "outputs": [
    {
     "name": "stdout",
     "output_type": "stream",
     "text": [
      "1600\n",
      "1521\n"
     ]
    }
   ],
   "source": [
    "print(len(green))\n",
    "green_shrunk = max_2x2_kernel(mat=green,w=40)\n",
    "print(len(green_shrunk))"
   ]
  },
  {
   "cell_type": "markdown",
   "metadata": {},
   "source": [
    "### Visual Display - Py Max Pooling Convolution w/2x2 Kernel"
   ]
  },
  {
   "cell_type": "code",
   "execution_count": 349,
   "metadata": {},
   "outputs": [
    {
     "data": {
      "image/png": "[encoded data removed]",
      "text/plain": [
       "<PIL.Image.Image image mode=L size=40x40 at 0x11E248748>"
      ]
     },
     "metadata": {},
     "output_type": "display_data"
    },
    {
     "name": "stdout",
     "output_type": "stream",
     "text": [
      "0\n"
     ]
    },
    {
     "data": {
      "image/png": "[encoded data removed]",
      "text/plain": [
       "<PIL.Image.Image image mode=L size=39x39 at 0x11E2483C8>"
      ]
     },
     "metadata": {},
     "output_type": "display_data"
    },
    {
     "name": "stdout",
     "output_type": "stream",
     "text": [
      "1\n"
     ]
    },
    {
     "data": {
      "image/png": "[encoded data removed]",
      "text/plain": [
       "<PIL.Image.Image image mode=L size=38x38 at 0x11E248748>"
      ]
     },
     "metadata": {},
     "output_type": "display_data"
    },
    {
     "name": "stdout",
     "output_type": "stream",
     "text": [
      "2\n"
     ]
    },
    {
     "data": {
      "image/png": "[encoded data removed]",
      "text/plain": [
       "<PIL.Image.Image image mode=L size=37x37 at 0x11D8A2668>"
      ]
     },
     "metadata": {},
     "output_type": "display_data"
    },
    {
     "name": "stdout",
     "output_type": "stream",
     "text": [
      "3\n"
     ]
    },
    {
     "data": {
      "image/png": "[encoded data removed]",
      "text/plain": [
       "<PIL.Image.Image image mode=L size=36x36 at 0x11E248E48>"
      ]
     },
     "metadata": {},
     "output_type": "display_data"
    }
   ],
   "source": [
    "img = Image.new('L', (w,h))\n",
    "img.putdata(green)\n",
    "display(img)\n",
    "data = green\n",
    "for i in range(4):\n",
    "    print(i)\n",
    "    data = max_2x2_kernel(mat=data,w=40)\n",
    "    img = Image.new('L', (w-i-1,h-i-1))\n",
    "    img.putdata(data)\n",
    "    display(img)\n",
    "            "
   ]
  },
  {
   "cell_type": "markdown",
   "metadata": {},
   "source": [
    "### Max Pooling Convolution Kernel on Single Channel - 2 x 2 Windowing - C++"
   ]
  },
  {
   "cell_type": "markdown",
   "metadata": {},
   "source": [
    "3.3.1 Display Image  \n",
    "\n",
    "3.3.2 **C++**    -> image flattend to int array pointer  \n",
    "\n",
    "3.3.3 **Python** C++ pointer array to Python list  \n",
    "\n",
    "3.3.4 **Python**  extract green channel  \n",
    "\n",
    "3.3.5 **C++**    convolution : 2x2 max pool kernel  \n",
    "\n",
    "3.3.6 **Numpy** flatten convolution\n",
    "\n",
    "3.3.7 **Python**  flat convolution to image  "
   ]
  },
  {
   "cell_type": "markdown",
   "metadata": {},
   "source": [
    "#### Display Image"
   ]
  },
  {
   "cell_type": "code",
   "execution_count": 24,
   "metadata": {},
   "outputs": [
    {
     "name": "stdout",
     "output_type": "stream",
     "text": [
      "/Users/Bhill/git/AI_From_Dirt/two.40x40.png PNG 40x40 40x40+0+0 8-bit sRGB 4817B 0.000u 0:00.000\n",
      "height =  40\n",
      "width =  40\n",
      "color channels found =  3\n",
      "channel size =  1600\n"
     ]
    },
    {
     "data": {
      "image/png": "[encoded data removed]",
      "text/plain": [
       "<PIL.PngImagePlugin.PngImageFile image mode=RGBA size=40x40 at 0x10EB08828>"
      ]
     },
     "metadata": {},
     "output_type": "display_data"
    }
   ],
   "source": [
    "import ctypes\n",
    "from ctypes import *\n",
    "import numpy as np\n",
    "from PIL import Image\n",
    "\n",
    "image_file = '/Users/Bhill/git/AI_From_Dirt/two.40x40.png'\n",
    "!identify {image_file}\n",
    "\n",
    "height = !identify -format '%h' {image_file}\n",
    "height = int(height[0])\n",
    "print('height = ' , height)\n",
    "\n",
    "width = !identify -format '%w' {image_file}\n",
    "width = int(width[0])\n",
    "print('width = ' , width)\n",
    "\n",
    "channel_cnt = 3\n",
    "print('color channels found = ', channel_cnt)\n",
    "\n",
    "channel_size = width * height\n",
    "print('channel size = ', channel_size)\n",
    "\n",
    "orig = Image.open(image_file)\n",
    "display(orig)"
   ]
  },
  {
   "cell_type": "markdown",
   "metadata": {},
   "source": [
    "#### **C++**    -> image flattend to int array pointer "
   ]
  },
  {
   "cell_type": "code",
   "execution_count": 25,
   "metadata": {},
   "outputs": [],
   "source": [
    "get_data = cdll.LoadLibrary('./cmake-build-debug/libdirt_lib.dylib').get_data\n",
    "get_data.restype = ctypes.POINTER(ctypes.c_int * (channel_size*channel_cnt))\n",
    "result = get_data(image_file.encode())"
   ]
  },
  {
   "cell_type": "markdown",
   "metadata": {},
   "source": [
    "#### **Python** C++ pointer array to Python list"
   ]
  },
  {
   "cell_type": "code",
   "execution_count": 26,
   "metadata": {},
   "outputs": [
    {
     "name": "stdout",
     "output_type": "stream",
     "text": [
      "1600  channel size expected\n",
      "4800  pixels returned\n",
      "4800  pixels expected\n"
     ]
    }
   ],
   "source": [
    "bgr_pixels = np.ctypeslib.as_array(result,shape=(1,)).reshape((channel_size*channel_cnt)).tolist()\n",
    "\n",
    "print(channel_size , ' channel size expected')\n",
    "print(len(bgr_pixels),' pixels returned')\n",
    "print((channel_size*channel_cnt), ' pixels expected')"
   ]
  },
  {
   "cell_type": "markdown",
   "metadata": {},
   "source": [
    "####  **Python** extract green channel"
   ]
  },
  {
   "cell_type": "code",
   "execution_count": 35,
   "metadata": {},
   "outputs": [],
   "source": [
    "blue = list()\n",
    "green = list()\n",
    "red = list()\n",
    "for i, bgr in enumerate(bgr_pixels):\n",
    "    if i%channel_cnt is 0:\n",
    "        blue.append(bgr)\n",
    "    if i%channel_cnt is 1:\n",
    "        green.append(bgr)\n",
    "    if i%channel_cnt is 2:\n",
    "        red.append(bgr)   "
   ]
  },
  {
   "cell_type": "code",
   "execution_count": 36,
   "metadata": {},
   "outputs": [
    {
     "name": "stdout",
     "output_type": "stream",
     "text": [
      "orig\n"
     ]
    },
    {
     "data": {
      "image/png": "[encoded data removed]",
      "text/plain": [
       "<PIL.PngImagePlugin.PngImageFile image mode=RGBA size=40x40 at 0x11C8EAB38>"
      ]
     },
     "metadata": {},
     "output_type": "display_data"
    },
    {
     "name": "stdout",
     "output_type": "stream",
     "text": [
      "green channel\n"
     ]
    },
    {
     "data": {
      "image/png": "[encoded data removed]",
      "text/plain": [
       "<PIL.Image.Image image mode=L size=40x40 at 0x11C8EAAC8>"
      ]
     },
     "metadata": {},
     "output_type": "display_data"
    }
   ],
   "source": [
    "print('orig')\n",
    "display(Image.open(image_file))\n",
    "green_img = Image.new('L', (width,height))\n",
    "print('green channel')\n",
    "green_img.putdata(green)\n",
    "display(green_img)"
   ]
  },
  {
   "cell_type": "markdown",
   "metadata": {},
   "source": [
    "#### **C++**  convolution : 2x2 max pool kernel"
   ]
  },
  {
   "cell_type": "code",
   "execution_count": 37,
   "metadata": {},
   "outputs": [
    {
     "ename": "SyntaxError",
     "evalue": "invalid syntax (<ipython-input-37-0e89fcbb51ec>, line 2)",
     "output_type": "error",
     "traceback": [
      "\u001b[0;36m  File \u001b[0;32m\"<ipython-input-37-0e89fcbb51ec>\"\u001b[0;36m, line \u001b[0;32m2\u001b[0m\n\u001b[0;31m    extern \"C\"\u001b[0m\n\u001b[0m             ^\u001b[0m\n\u001b[0;31mSyntaxError\u001b[0m\u001b[0;31m:\u001b[0m invalid syntax\n"
     ]
    }
   ],
   "source": [
    "\"DO NOT RUN THIS CODE - JUST FOR SHOW - LOOKS BETTER IN CODE CELL THAN MARKUP CELL\"\n",
    "extern \"C\"\n",
    "int *max_2x2_kernel(const int *mat, const int width, const int height) {\n",
    "\n",
    "    int curr_ttl = width * height;\n",
    "    vector<int> shrunk_vec;\n",
    "    for (int i = 0; i < curr_ttl; i++) {\n",
    "        if (i >= (width * (height - 1))) {\n",
    "            break;\n",
    "        }\n",
    "        if (i != 0 and (i + 1) % width == 0) {\n",
    "            continue;\n",
    "        }\n",
    "        vector<int> window{mat[i], mat[(i + 1)], mat[(i + width)], mat[(i + 1 + width)]};\n",
    "        shrunk_vec.push_back(*std::max_element(window.begin(), window.end()));\n",
    "    }\n",
    "\n",
    "    return &shrunk_vec[0];\n",
    "}\n",
    "\"DO NOT RUN THIS CODE - JUST FOR SHOW - LOOKS BETTER IN CODE CELL THAN MARKUP CELL\""
   ]
  },
  {
   "cell_type": "code",
   "execution_count": 38,
   "metadata": {},
   "outputs": [],
   "source": [
    "import ctypes\n",
    "from ctypes import *\n",
    "import numpy as np\n",
    "\n",
    "ptr_green = pointer((ctypes.c_int * len(green))(*green))\n",
    "\n",
    "# int *max_2x2_kernel(const int *mat, const int width, const int height);\n",
    "max_2x2_kernel = cdll.LoadLibrary('./cmake-build-debug/libdirt_lib.dylib').max_2x2_kernel\n",
    "max_2x2_kernel.restype = ctypes.POINTER(ctypes.c_int * ((height-1)*(width-1)))\n",
    "result = max_2x2_kernel(ptr_green,width,height)"
   ]
  },
  {
   "cell_type": "markdown",
   "metadata": {},
   "source": [
    "#### **Numpy** flatten convolution"
   ]
  },
  {
   "cell_type": "code",
   "execution_count": 39,
   "metadata": {},
   "outputs": [
    {
     "name": "stdout",
     "output_type": "stream",
     "text": [
      "1521\n"
     ]
    },
    {
     "data": {
      "text/plain": [
       "1521"
      ]
     },
     "execution_count": 39,
     "metadata": {},
     "output_type": "execute_result"
    }
   ],
   "source": [
    "shrunk_frame_size = (height-1)*(width-1)\n",
    "print(shrunk_frame_size)\n",
    "green_channel_shunk = np.ctypeslib.as_array(result,shape=(1,)).reshape((shrunk_frame_size)).tolist()\n",
    "len(green_channel_shunk)"
   ]
  },
  {
   "cell_type": "markdown",
   "metadata": {},
   "source": [
    "#### **Python**  flat convolution to image  "
   ]
  },
  {
   "cell_type": "code",
   "execution_count": 40,
   "metadata": {},
   "outputs": [
    {
     "data": {
      "image/png": "[encoded data removed]",
      "text/plain": [
       "<PIL.Image.Image image mode=L size=39x39 at 0x11C8D6630>"
      ]
     },
     "metadata": {},
     "output_type": "display_data"
    }
   ],
   "source": [
    "s_width = width-1\n",
    "s_height = height-1\n",
    "smaller = Image.new('L', (s_width,s_height))\n",
    "smaller.putdata(green_channel_shunk)\n",
    "display(smaller)"
   ]
  },
  {
   "cell_type": "markdown",
   "metadata": {},
   "source": [
    "#### All together for fun"
   ]
  },
  {
   "cell_type": "code",
   "execution_count": 60,
   "metadata": {},
   "outputs": [
    {
     "data": {
      "image/png": "[encoded data removed]",
      "text/plain": [
       "<PIL.PngImagePlugin.PngImageFile image mode=RGBA size=40x40 at 0x11C8EA198>"
      ]
     },
     "metadata": {},
     "output_type": "display_data"
    }
   ],
   "source": [
    "import ctypes\n",
    "from ctypes import *\n",
    "import numpy as np\n",
    "from PIL import Image\n",
    "\n",
    "image_file = '/Users/Bhill/git/AI_From_Dirt/two.40x40.png'\n",
    "height = !identify -format '%h' {image_file}\n",
    "height = int(height[0])\n",
    "width = !identify -format '%w' {image_file}\n",
    "width = int(width[0])\n",
    "channel_cnt = 3\n",
    "channel_size = width * height\n",
    "\n",
    "orig = Image.open(image_file)\n",
    "display(orig)"
   ]
  },
  {
   "cell_type": "code",
   "execution_count": 61,
   "metadata": {},
   "outputs": [],
   "source": [
    "get_data = cdll.LoadLibrary('./cmake-build-debug/libdirt_lib.dylib').get_data\n",
    "get_data.restype = ctypes.POINTER(ctypes.c_int * (channel_size*channel_cnt))\n",
    "result = get_data(image_file.encode())\n",
    "bgr_pixels = np.ctypeslib.as_array(result,shape=(1,)).reshape((channel_size*channel_cnt)).tolist()"
   ]
  },
  {
   "cell_type": "code",
   "execution_count": 62,
   "metadata": {},
   "outputs": [
    {
     "name": "stdout",
     "output_type": "stream",
     "text": [
      "green channel\n"
     ]
    },
    {
     "data": {
      "image/png": "[encoded data removed]",
      "text/plain": [
       "<PIL.Image.Image image mode=L size=40x40 at 0x123F36630>"
      ]
     },
     "metadata": {},
     "output_type": "display_data"
    }
   ],
   "source": [
    "green = list()\n",
    "for i, bgr in enumerate(bgr_pixels):\n",
    "    if i%channel_cnt is 1:\n",
    "        green.append(bgr)\n",
    "green_img = Image.new('L', (width,height))\n",
    "print('green channel')\n",
    "green_img.putdata(green)\n",
    "display(green_img)"
   ]
  },
  {
   "cell_type": "code",
   "execution_count": 63,
   "metadata": {},
   "outputs": [
    {
     "data": {
      "image/png": "[encoded data removed]",
      "text/plain": [
       "<PIL.Image.Image image mode=L size=39x39 at 0x123F36A58>"
      ]
     },
     "metadata": {},
     "output_type": "display_data"
    }
   ],
   "source": [
    "ptr_green = pointer((ctypes.c_int * len(green))(*green))\n",
    "\n",
    "# int *max_2x2_kernel(const int *mat, const int width, const int height);\n",
    "max_2x2_kernel = cdll.LoadLibrary('./cmake-build-debug/libdirt_lib.dylib').max_2x2_kernel\n",
    "max_2x2_kernel.restype = ctypes.POINTER(ctypes.c_int * ((height-1)*(width-1)))\n",
    "result = max_2x2_kernel(ptr_green,width,height)\n",
    "\n",
    "shrunk_frame_size = (height-1)*(width-1)\n",
    "green_channel_shunk = np.ctypeslib.as_array(result,shape=(1,)).reshape((shrunk_frame_size)).tolist()\n",
    "\n",
    "s_width = width-1\n",
    "s_height = height-1\n",
    "smaller = Image.new('L', (s_width,s_height))\n",
    "smaller.putdata(green_channel_shunk)\n",
    "display(smaller)"
   ]
  },
  {
   "cell_type": "markdown",
   "metadata": {},
   "source": [
    "### Even more all together"
   ]
  },
  {
   "cell_type": "code",
   "execution_count": 65,
   "metadata": {},
   "outputs": [
    {
     "data": {
      "image/png": "[encoded data removed]",
      "text/plain": [
       "<PIL.PngImagePlugin.PngImageFile image mode=RGBA size=40x40 at 0x123F4A898>"
      ]
     },
     "metadata": {},
     "output_type": "display_data"
    },
    {
     "data": {
      "image/png": "[encoded data removed]",
      "text/plain": [
       "<PIL.Image.Image image mode=L size=39x39 at 0x123F4A8D0>"
      ]
     },
     "metadata": {},
     "output_type": "display_data"
    }
   ],
   "source": [
    "image_file = '/Users/Bhill/git/AI_From_Dirt/two.40x40.png'\n",
    "orig = Image.open(image_file)\n",
    "display(orig)\n",
    "height = !identify -format '%h' {image_file}\n",
    "height = int(height[0])\n",
    "width = !identify -format '%w' {image_file}\n",
    "width = int(width[0])\n",
    "channel_cnt = 3\n",
    "channel_size = width * height\n",
    "\n",
    "get_data = cdll.LoadLibrary('./cmake-build-debug/libdirt_lib.dylib').get_data\n",
    "get_data.restype = ctypes.POINTER(ctypes.c_int * (channel_size*channel_cnt))\n",
    "bgr_pixels = np.ctypeslib.as_array(get_data(image_file.encode()),shape=(1,)).reshape((channel_size*channel_cnt)).tolist()\n",
    "\n",
    "green = list()\n",
    "for i, bgr in enumerate(bgr_pixels):\n",
    "    if i%channel_cnt is 1:\n",
    "        green.append(bgr)\n",
    "\n",
    "ptr_green = pointer((ctypes.c_int * len(green))(*green))\n",
    "\n",
    "\n",
    "\n",
    "shrunk_frame_size = (height-1)*(width-1)\n",
    "max_2x2_kernel = cdll.LoadLibrary('./cmake-build-debug/libdirt_lib.dylib').max_2x2_kernel\n",
    "max_2x2_kernel.restype = ctypes.POINTER(ctypes.c_int * ((height-1)*(width-1)))\n",
    "\n",
    "green_channel_shunk = np.ctypeslib.as_array(max_2x2_kernel(ptr_green,width,height),shape=(1,)).reshape((shrunk_frame_size)).tolist()\n",
    "\n",
    "s_width = width-1\n",
    "s_height = height-1\n",
    "smaller = Image.new('L', (s_width,s_height))\n",
    "smaller.putdata(green_channel_shunk)\n",
    "display(smaller)\n"
   ]
  },
  {
   "cell_type": "code",
   "execution_count": null,
   "metadata": {},
   "outputs": [],
   "source": []
  }
 ],
 "metadata": {
  "kernelspec": {
   "display_name": "Python 3",
   "language": "python",
   "name": "python3"
  },
  "language_info": {
   "codemirror_mode": {
    "name": "ipython",
    "version": 3
   },
   "file_extension": ".py",
   "mimetype": "text/x-python",
   "name": "python",
   "nbconvert_exporter": "python",
   "pygments_lexer": "ipython3",
   "version": "3.7.2"
  },
  "toc": {
   "base_numbering": 1,
   "nav_menu": {},
   "number_sections": true,
   "sideBar": true,
   "skip_h1_title": true,
   "title_cell": "contents",
   "title_sidebar": "contents",
   "toc_cell": true,
   "toc_position": {
    "height": "calc(100% - 180px)",
    "left": "10px",
    "top": "150px",
    "width": "384px"
   },
   "toc_section_display": true,
   "toc_window_display": true
  }
 },
 "nbformat": 4,
 "nbformat_minor": 2
}
